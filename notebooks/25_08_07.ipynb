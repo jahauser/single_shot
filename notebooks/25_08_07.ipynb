{
 "cells": [
  {
   "cell_type": "code",
   "execution_count": 1,
   "id": "c31a2f3e",
   "metadata": {},
   "outputs": [],
   "source": [
    "using StatsBase\n",
    "using Plots\n",
    "using JLD2\n",
    "using Graphs\n",
    "using SimpleWeightedGraphs\n",
    "using BlossomV\n",
    "using GraphsMatching"
   ]
  },
  {
   "cell_type": "code",
   "execution_count": 2,
   "id": "984f4577",
   "metadata": {},
   "outputs": [],
   "source": [
    "# struct MatchingResult{U<:Real}\n",
    "#     weight::U\n",
    "#     mate::Vector{Int}\n",
    "# end\n",
    "\n",
    "# function minimum_weight_perfect_matching end\n",
    "\n",
    "# function minimum_weight_perfect_matching(\n",
    "#     g::Graph, w::Dict{E,U}, cutoff, kws...\n",
    "# ) where {U<:Real,E<:Edge}\n",
    "#     wnew = Dict{E,U}()\n",
    "#     for (e, c) in w\n",
    "#         if c <= cutoff\n",
    "#             wnew[e] = c\n",
    "#         end\n",
    "#     end\n",
    "#     return minimum_weight_perfect_matching(g, wnew; kws...)\n",
    "# end\n",
    "\n",
    "# function minimum_weight_perfect_matching(\n",
    "#     g::Graph, w::Dict{E,U}; tmaxscale=10.0\n",
    "# ) where {U<:AbstractFloat,E<:Edge}\n",
    "#     wnew = Dict{E,Int32}()\n",
    "#     cmax = maximum(values(w))\n",
    "#     cmin = minimum(values(w))\n",
    "\n",
    "#     tmax = typemax(Int32) / tmaxscale # /10 is kinda arbitrary,\n",
    "#     # hopefully high enough to not occur in overflow problems\n",
    "#     for (e, c) in w\n",
    "#         wnew[e] = round(Int32, (c - cmin) / max(cmax - cmin, 1) * tmax)\n",
    "#     end\n",
    "#     match = minimum_weight_perfect_matching(g, wnew)\n",
    "#     weight = zero(U)\n",
    "#     for i in 1:nv(g)\n",
    "#         j = match.mate[i]\n",
    "#         if j > i\n",
    "#             weight += w[E(i, j)]\n",
    "#         end\n",
    "#     end\n",
    "#     return MatchingResult(weight, match.mate)\n",
    "# end\n",
    "\n",
    "# function minimum_weight_perfect_matching(g::Graph, w::Dict{E,U}) where {U<:Integer,E<:Edge}\n",
    "#     m = BlossomV.Matching(nv(g))\n",
    "#     for (e, c) in w\n",
    "#         BlossomV.add_edge(m, src(e) - 1, dst(e) - 1, c)\n",
    "#     end\n",
    "#     BlossomV.solve(m)\n",
    "\n",
    "#     mate = fill(-1, nv(g))\n",
    "#     totweight = zero(U)\n",
    "#     for i in 1:nv(g)\n",
    "#         j = BlossomV.get_match(m, i - 1) + 1\n",
    "#         mate[i] = j <= 0 ? -1 : j\n",
    "#         if i < j\n",
    "#             totweight += w[Edge(i, j)]\n",
    "#         end\n",
    "#     end\n",
    "#     return MatchingResult(totweight, mate)\n",
    "# end"
   ]
  },
  {
   "cell_type": "code",
   "execution_count": 3,
   "id": "2d10f99a",
   "metadata": {},
   "outputs": [
    {
     "data": {
      "text/plain": [
       "measure (generic function with 1 method)"
      ]
     },
     "metadata": {},
     "output_type": "display_data"
    }
   ],
   "source": [
    "function initialstate(L::Int)\n",
    "    ρ = zeros(Bool,L,L)\n",
    "    return ρ\n",
    "end\n",
    "\n",
    "function noiselayer(ρ::AbstractMatrix, p::Float64)\n",
    "    L = size(ρ)[1]\n",
    "    noise = rand(L,L) .< p\n",
    "    return ρ .⊻ noise\n",
    "end\n",
    "\n",
    "function magnetization(ρ::AbstractMatrix)\n",
    "    return mean(ρ)\n",
    "end\n",
    "\n",
    "# WARNING: now \"horizontal\" and \"vertical\" are on the dual lattice; also now open boundary conditions\n",
    "function measure(ρ::AbstractMatrix, q::Float64)\n",
    "    horizontal_checks = noiselayer(ρ .⊻ circshift(ρ,(-1,0)),q)\n",
    "    vertical_checks = noiselayer(ρ .⊻ circshift(ρ,(0,-1)),q)\n",
    "    return horizontal_checks, vertical_checks\n",
    "end"
   ]
  },
  {
   "cell_type": "code",
   "execution_count": 4,
   "id": "4082b855",
   "metadata": {},
   "outputs": [
    {
     "data": {
      "text/plain": [
       "detect_charges (generic function with 1 method)"
      ]
     },
     "metadata": {},
     "output_type": "display_data"
    }
   ],
   "source": [
    "function detect_charges(horizontal_checks::AbstractMatrix, vertical_checks::AbstractMatrix)\n",
    "    L = size(vertical_checks)[1]\n",
    "    sites = vertical_checks .⊻ horizontal_checks .⊻ circshift(vertical_checks,(-1,0)) .⊻ circshift(horizontal_checks,(0,-1))\n",
    "    return [(j,i) for i in 1:L, j in 1:L][Bool.(sites)]\n",
    "end"
   ]
  },
  {
   "cell_type": "code",
   "execution_count": 235,
   "id": "022a2b23",
   "metadata": {},
   "outputs": [
    {
     "data": {
      "text/plain": [
       "build_matching_graph (generic function with 1 method)"
      ]
     },
     "metadata": {},
     "output_type": "display_data"
    }
   ],
   "source": [
    "prob_weight(x::Float64) = -log(x/(1-x))\n",
    "weight(peff::Float64, q::Float64, m::Bool) = (-1)^m * prob_weight(peff) + prob_weight(q)\n",
    "\n",
    "site(L,x,y) = L*(mod1(y,L)-1)+mod1(x,L)\n",
    "unsite(L,s) = (mod1(s,L), div(s-1,L)+1)\n",
    "\n",
    "function build_matching_graph(checks::Tuple, peff::Float64, q::Float64)\n",
    "    horizontal_checks, vertical_checks = checks\n",
    "    L = size(horizontal_checks)[1]\n",
    "    \n",
    "    sources = [site(L,x,y) for y in 1:L for x in 1:L]\n",
    "    horizontal_destinations = [site(L,x+1,y) for y in 1:L for x in 1:L]\n",
    "    vertical_destinations = [site(L,x,y+1) for y in 1:L for x in 1:L]\n",
    "    \n",
    "    horizontal_weights = weight.(peff, q, Bool.(horizontal_checks))\n",
    "    horizontal_weights[end,:] .= 0\n",
    "    horizontal_weights = reshape(circshift(horizontal_weights,(0,-1))', L^2, 1)[:,1]\n",
    "\n",
    "    vertical_weights = weight.(peff, q, Bool.(vertical_checks))\n",
    "    vertical_weights[:,end] .= 0\n",
    "    vertical_weights = reshape(circshift(vertical_weights,(-1,0))', L^2, 1)[:,1]\n",
    "    \n",
    "    return SimpleWeightedGraph([sources; sources], [horizontal_destinations; vertical_destinations], [horizontal_weights; vertical_weights])\n",
    "end"
   ]
  },
  {
   "cell_type": "code",
   "execution_count": 236,
   "id": "cf3911c7",
   "metadata": {},
   "outputs": [
    {
     "data": {
      "text/plain": [
       "match_charges (generic function with 1 method)"
      ]
     },
     "metadata": {},
     "output_type": "display_data"
    }
   ],
   "source": [
    "function match_charges(fw::Graphs.FloydWarshallState, charges::Vector, L::Int; depth=50)\n",
    "    subgraph = complete_graph(length(charges))\n",
    "    weights = Dict{Edge,Float64}()\n",
    "    for i in 1:length(charges)-1\n",
    "        for j in i+1:length(charges)\n",
    "            # if fw.dists[charges[i],charges[j]] < Inf\n",
    "                weights[Edge(i, j)] = fw.dists[site(L,charges[i]...),site(L,charges[j]...)]\n",
    "            # end\n",
    "        end\n",
    "    end\n",
    "\n",
    "    match = minimum_weight_perfect_matching(subgraph, weights, depth)\n",
    "    return match\n",
    "end"
   ]
  },
  {
   "cell_type": "code",
   "execution_count": 237,
   "id": "2fe34b8d",
   "metadata": {},
   "outputs": [
    {
     "data": {
      "text/plain": [
       "boundary_filter (generic function with 1 method)"
      ]
     },
     "metadata": {},
     "output_type": "display_data"
    }
   ],
   "source": [
    "function boundary_filter(checks::Tuple)\n",
    "    horizontal_checks, vertical_checks = deepcopy(checks)\n",
    "    L = size(horizontal_checks)[1]\n",
    "    \n",
    "    horizontal_checks[end,:] .= false\n",
    "    vertical_checks[:,end] .= false\n",
    "    \n",
    "    return horizontal_checks, vertical_checks\n",
    "end"
   ]
  },
  {
   "cell_type": "code",
   "execution_count": 386,
   "id": "fd062332",
   "metadata": {},
   "outputs": [
    {
     "data": {
      "text/plain": [
       "heal (generic function with 1 method)"
      ]
     },
     "metadata": {},
     "output_type": "display_data"
    }
   ],
   "source": [
    "# modmax(L, a, b) = mod1(max(mod(a,L), mod(b,L)), L)\n",
    "cyclicmax(L, a, b) = mod(a-b-1, L) == 0 ? a : b \n",
    "\n",
    "function heal(checks::Tuple, peff::Float64, q::Float64)\n",
    "    horizontal_checks, vertical_checks = deepcopy(boundary_filter(checks))\n",
    "    L = size(horizontal_checks)[1]\n",
    "    charges = detect_charges(horizontal_checks, vertical_checks)\n",
    "\n",
    "    # println(charges)\n",
    "\n",
    "    if length(charges) == 0\n",
    "        return horizontal_checks, vertical_checks\n",
    "    end\n",
    "    \n",
    "    g = build_matching_graph((horizontal_checks, vertical_checks), peff, q)\n",
    "    fw = floyd_warshall_shortest_paths(g)\n",
    "    match = match_charges(fw, charges, L)\n",
    "\n",
    "    mated = Int[]\n",
    "\n",
    "\n",
    "    for i in 1:length(charges)\n",
    "        j = match.mate[i]\n",
    "        if j in mated\n",
    "            continue\n",
    "        end\n",
    "\n",
    "        println(charges[i], charges[j])\n",
    "\n",
    "        path = enumerate_paths(fw)[site(L,charges[i]...)][site(L,charges[j]...)]\n",
    "\n",
    "        sites = unsite.(L, path)\n",
    "        steps = [((x1,y1),(x2,y2)) for ((x1,y1),(x2,y2)) in zip(sites[1:end-1], sites[2:end])]\n",
    "        println(steps)\n",
    "        for ((x1, y1), (x2, y2)) in steps\n",
    "            if x1 == x2\n",
    "                vertical_checks[cyclicmax(L, y1, y2), x1] ⊻= true\n",
    "                # println(\"y1: $y1, y2: $y2, modmax: $(modmax(L, y1, y2))\")\n",
    "            elseif y1 == y2\n",
    "                horizontal_checks[y1, cyclicmax(L, x1, x2)] ⊻= true\n",
    "                # println(\"x1: $x1, x2: $x2, modmax: $(modmax(L, x1, x2))\")\n",
    "            end\n",
    "        end\n",
    "\n",
    "        push!(mated, i)\n",
    "        push!(mated, j)\n",
    "    end\n",
    "\n",
    "    return horizontal_checks, vertical_checks\n",
    "end"
   ]
  },
  {
   "cell_type": "code",
   "execution_count": 239,
   "id": "f113e0c6",
   "metadata": {},
   "outputs": [
    {
     "data": {
      "text/plain": [
       "track_domains (generic function with 1 method)"
      ]
     },
     "metadata": {},
     "output_type": "display_data"
    }
   ],
   "source": [
    "function track_domains(checks::Tuple)\n",
    "    horizontal_checks, vertical_checks = checks\n",
    "    horizontal_checks = Bool.(horizontal_checks)\n",
    "    vertical_checks = Bool.(vertical_checks)\n",
    "    L = size(horizontal_checks)[1]\n",
    "    \n",
    "    domain = zeros(Bool, L, L)\n",
    "    for y in 1:L\n",
    "        for x in 1:L\n",
    "            if x == 1 && y == 1\n",
    "                continue\n",
    "            elseif x == 1\n",
    "                domain[y, x] = domain[y-1, x] ⊻ horizontal_checks[y-1, x]\n",
    "            else\n",
    "                domain[y, x] = domain[y, x-1] ⊻ vertical_checks[y, x-1]\n",
    "            end\n",
    "        end\n",
    "    end\n",
    "    return domain\n",
    "end\n"
   ]
  },
  {
   "cell_type": "code",
   "execution_count": 240,
   "id": "bcf7d403",
   "metadata": {},
   "outputs": [
    {
     "data": {
      "text/plain": [
       "correct (generic function with 1 method)"
      ]
     },
     "metadata": {},
     "output_type": "display_data"
    }
   ],
   "source": [
    "function correct(ρ::AbstractMatrix, peff::Float64, q::Float64)\n",
    "    checks = measure(ρ, q)\n",
    "    checks_copy = deepcopy(checks)\n",
    "    \n",
    "    horizontal_checks, vertical_checks = heal(checks, peff, q)\n",
    "    # println(horizontal_checks, vertical_checks)\n",
    "    domain = track_domains((horizontal_checks, vertical_checks))\n",
    "    if magnetization(domain) > 0.5\n",
    "        domain = .!domain\n",
    "    end\n",
    "    \n",
    "    return ρ .⊻ domain, checks_copy[1], checks_copy[2], horizontal_checks, vertical_checks\n",
    "end"
   ]
  },
  {
   "cell_type": "code",
   "execution_count": 241,
   "id": "b5bd21fe",
   "metadata": {},
   "outputs": [
    {
     "data": {
      "text/plain": [
       "sample (generic function with 1 method)"
      ]
     },
     "metadata": {},
     "output_type": "display_data"
    }
   ],
   "source": [
    "function circuit(L::Int, T::Int, p::Float64, peff::Float64, q::Float64)\n",
    "    ρ = initialstate(L)\n",
    "    Ms = zeros(Float64, T+1)\n",
    "\n",
    "    for t in 1:T\n",
    "        ρ = noiselayer(ρ, p)\n",
    "        ρ, _, _, _, _ = correct(ρ, peff, q)\n",
    "        Ms[t+1] = magnetization(ρ)\n",
    "    end\n",
    "\n",
    "    return Ms\n",
    "end\n",
    "\n",
    "function sample(L::Int, T::Int, p::Float64, peff::Float64, q::Float64, samples::Int)\n",
    "    Ms = zeros(Float64, T+1)\n",
    "    for i in 1:samples\n",
    "        Ms += circuit(L, T, p, peff, q)\n",
    "    end\n",
    "    return Ms/samples\n",
    "end"
   ]
  },
  {
   "cell_type": "code",
   "execution_count": 242,
   "id": "b679247d",
   "metadata": {},
   "outputs": [],
   "source": [
    "# data = Dict{Tuple{Int,Int,Float64,Float64,Float64},Vector{Float64}}()"
   ]
  },
  {
   "cell_type": "code",
   "execution_count": 334,
   "id": "c678f47f",
   "metadata": {},
   "outputs": [
    {
     "name": "stdout",
     "output_type": "stream",
     "text": [
      "L=4, T=4, p=0.05, peff=0.19, q=0.2\n"
     ]
    },
    {
     "ename": "InterruptException",
     "evalue": "InterruptException:",
     "output_type": "error",
     "traceback": [
      "InterruptException:\n",
      "\n",
      "Stacktrace:\n",
      "  [1] (::Base.var\"#133#134\"{Vector{Int64}, Int64, Int64, Int64, Int64, Int64, Memory{Int64}, MemoryRef{Int64}})()\n",
      "    @ Base ./array.jl:1116\n",
      "  [2] _growend!\n",
      "    @ ./array.jl:1116 [inlined]\n",
      "  [3] push!\n",
      "    @ ./array.jl:1261 [inlined]\n",
      "  [4] enumerate_paths(s::Graphs.FloydWarshallState{Float64, Int64}, v::Int64)\n",
      "    @ Graphs ~/.julia/packages/Graphs/OIRln/src/shortestpaths/floyd-warshall.jl:87\n",
      "  [5] #147\n",
      "    @ ./boot.jl:0 [inlined]\n",
      "  [6] iterate\n",
      "    @ ./generator.jl:48 [inlined]\n",
      "  [7] collect(itr::Base.Generator{UnitRange{Int64}, Graphs.var\"#147#148\"{Graphs.FloydWarshallState{Float64, Int64}}})\n",
      "    @ Base ./array.jl:791\n",
      "  [8] enumerate_paths\n",
      "    @ ~/.julia/packages/Graphs/OIRln/src/shortestpaths/floyd-warshall.jl:101 [inlined]\n",
      "  [9] heal(checks::Tuple{BitMatrix, BitMatrix}, peff::Float64, q::Float64)\n",
      "    @ Main ~/Code/single_shot/jl_notebook_cell_df34fa98e69747e1a8f8a730347b8e2f_X10sZmlsZQ==.jl:29\n",
      " [10] correct(ρ::BitMatrix, peff::Float64, q::Float64)\n",
      "    @ Main ~/Code/single_shot/jl_notebook_cell_df34fa98e69747e1a8f8a730347b8e2f_X12sZmlsZQ==.jl:5\n",
      " [11] circuit(L::Int64, T::Int64, p::Float64, peff::Float64, q::Float64)\n",
      "    @ Main ~/Code/single_shot/jl_notebook_cell_df34fa98e69747e1a8f8a730347b8e2f_X13sZmlsZQ==.jl:7\n",
      " [12] sample(L::Int64, T::Int64, p::Float64, peff::Float64, q::Float64, samples::Int64)\n",
      "    @ Main ~/Code/single_shot/jl_notebook_cell_df34fa98e69747e1a8f8a730347b8e2f_X13sZmlsZQ==.jl:17\n",
      " [13] top-level scope\n",
      "    @ ~/Code/single_shot/jl_notebook_cell_df34fa98e69747e1a8f8a730347b8e2f_Y160sZmlsZQ==.jl:17"
     ]
    }
   ],
   "source": [
    "q = 0.2\n",
    "p = 0.05\n",
    "# samples = Dict([4 => 1000\n",
    "#                 8 => 1000\n",
    "#                 12 => 100])\n",
    "\n",
    "# samples = Dict([4 => 10\n",
    "#                 8 => 10\n",
    "#                 12 => 1])\n",
    "\n",
    "samples = 1\n",
    "\n",
    "for L in 4:4:8\n",
    "    T = L\n",
    "    for peff in [0.19]\n",
    "        println(\"L=$L, T=$T, p=$p, peff=$peff, q=$q\")\n",
    "        data[(L,T,p,peff,q)] = sample(L, T, p, peff, q, samples)\n",
    "    end\n",
    "end"
   ]
  },
  {
   "cell_type": "code",
   "execution_count": 345,
   "id": "8df1f418",
   "metadata": {},
   "outputs": [
    {
     "data": {
      "text/plain": [
       "4-element Vector{Int64}:\n",
       " 1\n",
       " 2\n",
       " 3\n",
       " 4"
      ]
     },
     "metadata": {},
     "output_type": "display_data"
    }
   ],
   "source": [
    "g = SimpleWeightedGraph([1, 2, 3, 4], [2, 3, 4, 1], [1.0, 1.0, 1.0, 10.0])\n",
    "fw = floyd_warshall_shortest_paths(g)\n",
    "enumerate_paths(fw)[1][4]"
   ]
  },
  {
   "cell_type": "code",
   "execution_count": 244,
   "id": "551e3923",
   "metadata": {},
   "outputs": [],
   "source": [
    "# jldsave(\"25_08_18.jld2\"; data)"
   ]
  },
  {
   "cell_type": "code",
   "execution_count": 404,
   "id": "ac98da1e",
   "metadata": {},
   "outputs": [
    {
     "data": {
      "text/plain": [
       "11-element Vector{Tuple{Int64, Int64, Float64, Float64, Float64}}:\n",
       " (12, 24, 0.05, 0.2, 0.1)\n",
       " (12, 24, 0.0, 0.2, 0.1)\n",
       " (12, 24, 0.1, 0.2, 0.1)\n",
       " (12, 24, 0.3, 0.2, 0.1)\n",
       " (12, 24, 0.35, 0.2, 0.1)\n",
       " (12, 24, 0.15, 0.2, 0.1)\n",
       " (12, 24, 0.2, 0.2, 0.1)\n",
       " (12, 24, 0.5, 0.2, 0.1)\n",
       " (12, 24, 0.45, 0.2, 0.1)\n",
       " (12, 24, 0.25, 0.2, 0.1)\n",
       " (12, 24, 0.4, 0.2, 0.1)"
      ]
     },
     "metadata": {},
     "output_type": "display_data"
    }
   ],
   "source": [
    "[key for key in keys(data) if key[2]==2key[1] && key[1] == 12]"
   ]
  },
  {
   "cell_type": "code",
   "execution_count": 398,
   "id": "3de79b9d",
   "metadata": {},
   "outputs": [
    {
     "data": {
      "image/png": "[encoded data removed]",
      "image/svg+xml": [
       "<?xml version=\"1.0\" encoding=\"utf-8\"?>\n",
       "<svg xmlns=\"http://www.w3.org/2000/svg\" xmlns:xlink=\"http://www.w3.org/1999/xlink\" width=\"600\" height=\"400\" viewBox=\"0 0 2400 1600\">\n",
       "<defs>\n",
       "  <clipPath id=\"clip700\">\n",
       "    <rect x=\"0\" y=\"0\" width=\"2400\" height=\"1600\"/>\n",
       "  </clipPath>\n",
       "</defs>\n",
       "<path clip-path=\"url(#clip700)\" d=\"M0 1600 L2400 1600 L2400 8.88178e-14 L0 8.88178e-14  Z\" fill=\"#ffffff\" fill-rule=\"evenodd\" fill-opacity=\"1\"/>\n",
       "<defs>\n",
       "  <clipPath id=\"clip701\">\n",
       "    <rect x=\"480\" y=\"0\" width=\"1681\" height=\"1600\"/>\n",
       "  </clipPath>\n",
       "</defs>\n",
       "<path clip-path=\"url(#clip700)\" d=\"M156.598 1486.45 L2352.76 1486.45 L2352.76 47.2441 L156.598 47.2441  Z\" fill=\"#ffffff\" fill-rule=\"evenodd\" fill-opacity=\"1\"/>\n",
       "<defs>\n",
       "  <clipPath id=\"clip702\">\n",
       "    <rect x=\"156\" y=\"47\" width=\"2197\" height=\"1440\"/>\n",
       "  </clipPath>\n",
       "</defs>\n",
       "<polyline clip-path=\"url(#clip702)\" style=\"stroke:#000000; stroke-linecap:round; stroke-linejoin:round; stroke-width:2; stroke-opacity:0.1; fill:none\" points=\"218.754,1486.45 218.754,47.2441 \"/>\n",
       "<polyline clip-path=\"url(#clip702)\" style=\"stroke:#000000; stroke-linecap:round; stroke-linejoin:round; stroke-width:2; stroke-opacity:0.1; fill:none\" points=\"736.715,1486.45 736.715,47.2441 \"/>\n",
       "<polyline clip-path=\"url(#clip702)\" style=\"stroke:#000000; stroke-linecap:round; stroke-linejoin:round; stroke-width:2; stroke-opacity:0.1; fill:none\" points=\"1254.68,1486.45 1254.68,47.2441 \"/>\n",
       "<polyline clip-path=\"url(#clip702)\" style=\"stroke:#000000; stroke-linecap:round; stroke-linejoin:round; stroke-width:2; stroke-opacity:0.1; fill:none\" points=\"1772.64,1486.45 1772.64,47.2441 \"/>\n",
       "<polyline clip-path=\"url(#clip702)\" style=\"stroke:#000000; stroke-linecap:round; stroke-linejoin:round; stroke-width:2; stroke-opacity:0.1; fill:none\" points=\"2290.6,1486.45 2290.6,47.2441 \"/>\n",
       "<polyline clip-path=\"url(#clip702)\" style=\"stroke:#000000; stroke-linecap:round; stroke-linejoin:round; stroke-width:2; stroke-opacity:0.1; fill:none\" points=\"156.598,1445.72 2352.76,1445.72 \"/>\n",
       "<polyline clip-path=\"url(#clip702)\" style=\"stroke:#000000; stroke-linecap:round; stroke-linejoin:round; stroke-width:2; stroke-opacity:0.1; fill:none\" points=\"156.598,1228.48 2352.76,1228.48 \"/>\n",
       "<polyline clip-path=\"url(#clip702)\" style=\"stroke:#000000; stroke-linecap:round; stroke-linejoin:round; stroke-width:2; stroke-opacity:0.1; fill:none\" points=\"156.598,1011.24 2352.76,1011.24 \"/>\n",
       "<polyline clip-path=\"url(#clip702)\" style=\"stroke:#000000; stroke-linecap:round; stroke-linejoin:round; stroke-width:2; stroke-opacity:0.1; fill:none\" points=\"156.598,794.001 2352.76,794.001 \"/>\n",
       "<polyline clip-path=\"url(#clip702)\" style=\"stroke:#000000; stroke-linecap:round; stroke-linejoin:round; stroke-width:2; stroke-opacity:0.1; fill:none\" points=\"156.598,576.762 2352.76,576.762 \"/>\n",
       "<polyline clip-path=\"url(#clip702)\" style=\"stroke:#000000; stroke-linecap:round; stroke-linejoin:round; stroke-width:2; stroke-opacity:0.1; fill:none\" points=\"156.598,359.524 2352.76,359.524 \"/>\n",
       "<polyline clip-path=\"url(#clip702)\" style=\"stroke:#000000; stroke-linecap:round; stroke-linejoin:round; stroke-width:2; stroke-opacity:0.1; fill:none\" points=\"156.598,142.286 2352.76,142.286 \"/>\n",
       "<polyline clip-path=\"url(#clip700)\" style=\"stroke:#000000; stroke-linecap:round; stroke-linejoin:round; stroke-width:4; stroke-opacity:1; fill:none\" points=\"156.598,1486.45 2352.76,1486.45 \"/>\n",
       "<polyline clip-path=\"url(#clip700)\" style=\"stroke:#000000; stroke-linecap:round; stroke-linejoin:round; stroke-width:4; stroke-opacity:1; fill:none\" points=\"218.754,1486.45 218.754,1467.55 \"/>\n",
       "<polyline clip-path=\"url(#clip700)\" style=\"stroke:#000000; stroke-linecap:round; stroke-linejoin:round; stroke-width:4; stroke-opacity:1; fill:none\" points=\"736.715,1486.45 736.715,1467.55 \"/>\n",
       "<polyline clip-path=\"url(#clip700)\" style=\"stroke:#000000; stroke-linecap:round; stroke-linejoin:round; stroke-width:4; stroke-opacity:1; fill:none\" points=\"1254.68,1486.45 1254.68,1467.55 \"/>\n",
       "<polyline clip-path=\"url(#clip700)\" style=\"stroke:#000000; stroke-linecap:round; stroke-linejoin:round; stroke-width:4; stroke-opacity:1; fill:none\" points=\"1772.64,1486.45 1772.64,1467.55 \"/>\n",
       "<polyline clip-path=\"url(#clip700)\" style=\"stroke:#000000; stroke-linecap:round; stroke-linejoin:round; stroke-width:4; stroke-opacity:1; fill:none\" points=\"2290.6,1486.45 2290.6,1467.55 \"/>\n",
       "<path clip-path=\"url(#clip700)\" d=\"M181.057 1517.37 Q177.446 1517.37 175.617 1520.93 Q173.812 1524.47 173.812 1531.6 Q173.812 1538.71 175.617 1542.27 Q177.446 1545.82 181.057 1545.82 Q184.691 1545.82 186.497 1542.27 Q188.326 1538.71 188.326 1531.6 Q188.326 1524.47 186.497 1520.93 Q184.691 1517.37 181.057 1517.37 M181.057 1513.66 Q186.867 1513.66 189.923 1518.27 Q193.001 1522.85 193.001 1531.6 Q193.001 1540.33 189.923 1544.94 Q186.867 1549.52 181.057 1549.52 Q175.247 1549.52 172.168 1544.94 Q169.113 1540.33 169.113 1531.6 Q169.113 1522.85 172.168 1518.27 Q175.247 1513.66 181.057 1513.66 Z\" fill=\"#000000\" fill-rule=\"nonzero\" fill-opacity=\"1\" /><path clip-path=\"url(#clip700)\" d=\"M201.219 1542.97 L206.103 1542.97 L206.103 1548.85 L201.219 1548.85 L201.219 1542.97 Z\" fill=\"#000000\" fill-rule=\"nonzero\" fill-opacity=\"1\" /><path clip-path=\"url(#clip700)\" d=\"M226.288 1517.37 Q222.677 1517.37 220.849 1520.93 Q219.043 1524.47 219.043 1531.6 Q219.043 1538.71 220.849 1542.27 Q222.677 1545.82 226.288 1545.82 Q229.923 1545.82 231.728 1542.27 Q233.557 1538.71 233.557 1531.6 Q233.557 1524.47 231.728 1520.93 Q229.923 1517.37 226.288 1517.37 M226.288 1513.66 Q232.098 1513.66 235.154 1518.27 Q238.233 1522.85 238.233 1531.6 Q238.233 1540.33 235.154 1544.94 Q232.098 1549.52 226.288 1549.52 Q220.478 1549.52 217.399 1544.94 Q214.344 1540.33 214.344 1531.6 Q214.344 1522.85 217.399 1518.27 Q220.478 1513.66 226.288 1513.66 Z\" fill=\"#000000\" fill-rule=\"nonzero\" fill-opacity=\"1\" /><path clip-path=\"url(#clip700)\" d=\"M256.45 1517.37 Q252.839 1517.37 251.01 1520.93 Q249.205 1524.47 249.205 1531.6 Q249.205 1538.71 251.01 1542.27 Q252.839 1545.82 256.45 1545.82 Q260.084 1545.82 261.89 1542.27 Q263.719 1538.71 263.719 1531.6 Q263.719 1524.47 261.89 1520.93 Q260.084 1517.37 256.45 1517.37 M256.45 1513.66 Q262.26 1513.66 265.316 1518.27 Q268.395 1522.85 268.395 1531.6 Q268.395 1540.33 265.316 1544.94 Q262.26 1549.52 256.45 1549.52 Q250.64 1549.52 247.561 1544.94 Q244.506 1540.33 244.506 1531.6 Q244.506 1522.85 247.561 1518.27 Q250.64 1513.66 256.45 1513.66 Z\" fill=\"#000000\" fill-rule=\"nonzero\" fill-opacity=\"1\" /><path clip-path=\"url(#clip700)\" d=\"M699.516 1517.37 Q695.905 1517.37 694.077 1520.93 Q692.271 1524.47 692.271 1531.6 Q692.271 1538.71 694.077 1542.27 Q695.905 1545.82 699.516 1545.82 Q703.151 1545.82 704.956 1542.27 Q706.785 1538.71 706.785 1531.6 Q706.785 1524.47 704.956 1520.93 Q703.151 1517.37 699.516 1517.37 M699.516 1513.66 Q705.327 1513.66 708.382 1518.27 Q711.461 1522.85 711.461 1531.6 Q711.461 1540.33 708.382 1544.94 Q705.327 1549.52 699.516 1549.52 Q693.706 1549.52 690.628 1544.94 Q687.572 1540.33 687.572 1531.6 Q687.572 1522.85 690.628 1518.27 Q693.706 1513.66 699.516 1513.66 Z\" fill=\"#000000\" fill-rule=\"nonzero\" fill-opacity=\"1\" /><path clip-path=\"url(#clip700)\" d=\"M719.678 1542.97 L724.563 1542.97 L724.563 1548.85 L719.678 1548.85 L719.678 1542.97 Z\" fill=\"#000000\" fill-rule=\"nonzero\" fill-opacity=\"1\" /><path clip-path=\"url(#clip700)\" d=\"M738.776 1544.91 L755.095 1544.91 L755.095 1548.85 L733.151 1548.85 L733.151 1544.91 Q735.813 1542.16 740.396 1537.53 Q745.002 1532.88 746.183 1531.53 Q748.428 1529.01 749.308 1527.27 Q750.211 1525.51 750.211 1523.82 Q750.211 1521.07 748.266 1519.33 Q746.345 1517.6 743.243 1517.6 Q741.044 1517.6 738.59 1518.36 Q736.16 1519.13 733.382 1520.68 L733.382 1515.95 Q736.206 1514.82 738.66 1514.24 Q741.113 1513.66 743.151 1513.66 Q748.521 1513.66 751.715 1516.35 Q754.91 1519.03 754.91 1523.52 Q754.91 1525.65 754.1 1527.57 Q753.312 1529.47 751.206 1532.07 Q750.627 1532.74 747.525 1535.95 Q744.424 1539.15 738.776 1544.91 Z\" fill=\"#000000\" fill-rule=\"nonzero\" fill-opacity=\"1\" /><path clip-path=\"url(#clip700)\" d=\"M764.956 1514.29 L783.312 1514.29 L783.312 1518.22 L769.238 1518.22 L769.238 1526.7 Q770.257 1526.35 771.275 1526.19 Q772.294 1526 773.312 1526 Q779.099 1526 782.479 1529.17 Q785.859 1532.34 785.859 1537.76 Q785.859 1543.34 782.386 1546.44 Q778.914 1549.52 772.595 1549.52 Q770.419 1549.52 768.15 1549.15 Q765.905 1548.78 763.498 1548.04 L763.498 1543.34 Q765.581 1544.47 767.803 1545.03 Q770.025 1545.58 772.502 1545.58 Q776.507 1545.58 778.845 1543.48 Q781.183 1541.37 781.183 1537.76 Q781.183 1534.15 778.845 1532.04 Q776.507 1529.94 772.502 1529.94 Q770.627 1529.94 768.752 1530.35 Q766.9 1530.77 764.956 1531.65 L764.956 1514.29 Z\" fill=\"#000000\" fill-rule=\"nonzero\" fill-opacity=\"1\" /><path clip-path=\"url(#clip700)\" d=\"M1216.98 1517.37 Q1213.37 1517.37 1211.54 1520.93 Q1209.74 1524.47 1209.74 1531.6 Q1209.74 1538.71 1211.54 1542.27 Q1213.37 1545.82 1216.98 1545.82 Q1220.61 1545.82 1222.42 1542.27 Q1224.25 1538.71 1224.25 1531.6 Q1224.25 1524.47 1222.42 1520.93 Q1220.61 1517.37 1216.98 1517.37 M1216.98 1513.66 Q1222.79 1513.66 1225.85 1518.27 Q1228.92 1522.85 1228.92 1531.6 Q1228.92 1540.33 1225.85 1544.94 Q1222.79 1549.52 1216.98 1549.52 Q1211.17 1549.52 1208.09 1544.94 Q1205.04 1540.33 1205.04 1531.6 Q1205.04 1522.85 1208.09 1518.27 Q1211.17 1513.66 1216.98 1513.66 Z\" fill=\"#000000\" fill-rule=\"nonzero\" fill-opacity=\"1\" /><path clip-path=\"url(#clip700)\" d=\"M1237.14 1542.97 L1242.03 1542.97 L1242.03 1548.85 L1237.14 1548.85 L1237.14 1542.97 Z\" fill=\"#000000\" fill-rule=\"nonzero\" fill-opacity=\"1\" /><path clip-path=\"url(#clip700)\" d=\"M1252.26 1514.29 L1270.61 1514.29 L1270.61 1518.22 L1256.54 1518.22 L1256.54 1526.7 Q1257.56 1526.35 1258.58 1526.19 Q1259.6 1526 1260.61 1526 Q1266.4 1526 1269.78 1529.17 Q1273.16 1532.34 1273.16 1537.76 Q1273.16 1543.34 1269.69 1546.44 Q1266.22 1549.52 1259.9 1549.52 Q1257.72 1549.52 1255.45 1549.15 Q1253.21 1548.78 1250.8 1548.04 L1250.8 1543.34 Q1252.88 1544.47 1255.11 1545.03 Q1257.33 1545.58 1259.8 1545.58 Q1263.81 1545.58 1266.15 1543.48 Q1268.48 1541.37 1268.48 1537.76 Q1268.48 1534.15 1266.15 1532.04 Q1263.81 1529.94 1259.8 1529.94 Q1257.93 1529.94 1256.05 1530.35 Q1254.2 1530.77 1252.26 1531.65 L1252.26 1514.29 Z\" fill=\"#000000\" fill-rule=\"nonzero\" fill-opacity=\"1\" /><path clip-path=\"url(#clip700)\" d=\"M1292.37 1517.37 Q1288.76 1517.37 1286.93 1520.93 Q1285.13 1524.47 1285.13 1531.6 Q1285.13 1538.71 1286.93 1542.27 Q1288.76 1545.82 1292.37 1545.82 Q1296.01 1545.82 1297.81 1542.27 Q1299.64 1538.71 1299.64 1531.6 Q1299.64 1524.47 1297.81 1520.93 Q1296.01 1517.37 1292.37 1517.37 M1292.37 1513.66 Q1298.18 1513.66 1301.24 1518.27 Q1304.32 1522.85 1304.32 1531.6 Q1304.32 1540.33 1301.24 1544.94 Q1298.18 1549.52 1292.37 1549.52 Q1286.56 1549.52 1283.48 1544.94 Q1280.43 1540.33 1280.43 1531.6 Q1280.43 1522.85 1283.48 1518.27 Q1286.56 1513.66 1292.37 1513.66 Z\" fill=\"#000000\" fill-rule=\"nonzero\" fill-opacity=\"1\" /><path clip-path=\"url(#clip700)\" d=\"M1735.44 1517.37 Q1731.83 1517.37 1730 1520.93 Q1728.19 1524.47 1728.19 1531.6 Q1728.19 1538.71 1730 1542.27 Q1731.83 1545.82 1735.44 1545.82 Q1739.07 1545.82 1740.88 1542.27 Q1742.71 1538.71 1742.71 1531.6 Q1742.71 1524.47 1740.88 1520.93 Q1739.07 1517.37 1735.44 1517.37 M1735.44 1513.66 Q1741.25 1513.66 1744.31 1518.27 Q1747.38 1522.85 1747.38 1531.6 Q1747.38 1540.33 1744.31 1544.94 Q1741.25 1549.52 1735.44 1549.52 Q1729.63 1549.52 1726.55 1544.94 Q1723.5 1540.33 1723.5 1531.6 Q1723.5 1522.85 1726.55 1518.27 Q1729.63 1513.66 1735.44 1513.66 Z\" fill=\"#000000\" fill-rule=\"nonzero\" fill-opacity=\"1\" /><path clip-path=\"url(#clip700)\" d=\"M1755.6 1542.97 L1760.49 1542.97 L1760.49 1548.85 L1755.6 1548.85 L1755.6 1542.97 Z\" fill=\"#000000\" fill-rule=\"nonzero\" fill-opacity=\"1\" /><path clip-path=\"url(#clip700)\" d=\"M1769.49 1514.29 L1791.71 1514.29 L1791.71 1516.28 L1779.17 1548.85 L1774.28 1548.85 L1786.09 1518.22 L1769.49 1518.22 L1769.49 1514.29 Z\" fill=\"#000000\" fill-rule=\"nonzero\" fill-opacity=\"1\" /><path clip-path=\"url(#clip700)\" d=\"M1800.88 1514.29 L1819.24 1514.29 L1819.24 1518.22 L1805.16 1518.22 L1805.16 1526.7 Q1806.18 1526.35 1807.2 1526.19 Q1808.22 1526 1809.24 1526 Q1815.02 1526 1818.4 1529.17 Q1821.78 1532.34 1821.78 1537.76 Q1821.78 1543.34 1818.31 1546.44 Q1814.84 1549.52 1808.52 1549.52 Q1806.34 1549.52 1804.07 1549.15 Q1801.83 1548.78 1799.42 1548.04 L1799.42 1543.34 Q1801.5 1544.47 1803.73 1545.03 Q1805.95 1545.58 1808.43 1545.58 Q1812.43 1545.58 1814.77 1543.48 Q1817.11 1541.37 1817.11 1537.76 Q1817.11 1534.15 1814.77 1532.04 Q1812.43 1529.94 1808.43 1529.94 Q1806.55 1529.94 1804.68 1530.35 Q1802.82 1530.77 1800.88 1531.65 L1800.88 1514.29 Z\" fill=\"#000000\" fill-rule=\"nonzero\" fill-opacity=\"1\" /><path clip-path=\"url(#clip700)\" d=\"M2242.67 1544.91 L2250.31 1544.91 L2250.31 1518.55 L2242 1520.21 L2242 1515.95 L2250.27 1514.29 L2254.94 1514.29 L2254.94 1544.91 L2262.58 1544.91 L2262.58 1548.85 L2242.67 1548.85 L2242.67 1544.91 Z\" fill=\"#000000\" fill-rule=\"nonzero\" fill-opacity=\"1\" /><path clip-path=\"url(#clip700)\" d=\"M2272.02 1542.97 L2276.91 1542.97 L2276.91 1548.85 L2272.02 1548.85 L2272.02 1542.97 Z\" fill=\"#000000\" fill-rule=\"nonzero\" fill-opacity=\"1\" /><path clip-path=\"url(#clip700)\" d=\"M2297.09 1517.37 Q2293.48 1517.37 2291.65 1520.93 Q2289.85 1524.47 2289.85 1531.6 Q2289.85 1538.71 2291.65 1542.27 Q2293.48 1545.82 2297.09 1545.82 Q2300.73 1545.82 2302.53 1542.27 Q2304.36 1538.71 2304.36 1531.6 Q2304.36 1524.47 2302.53 1520.93 Q2300.73 1517.37 2297.09 1517.37 M2297.09 1513.66 Q2302.9 1513.66 2305.96 1518.27 Q2309.04 1522.85 2309.04 1531.6 Q2309.04 1540.33 2305.96 1544.94 Q2302.9 1549.52 2297.09 1549.52 Q2291.28 1549.52 2288.2 1544.94 Q2285.15 1540.33 2285.15 1531.6 Q2285.15 1522.85 2288.2 1518.27 Q2291.28 1513.66 2297.09 1513.66 Z\" fill=\"#000000\" fill-rule=\"nonzero\" fill-opacity=\"1\" /><path clip-path=\"url(#clip700)\" d=\"M2327.26 1517.37 Q2323.64 1517.37 2321.82 1520.93 Q2320.01 1524.47 2320.01 1531.6 Q2320.01 1538.71 2321.82 1542.27 Q2323.64 1545.82 2327.26 1545.82 Q2330.89 1545.82 2332.7 1542.27 Q2334.52 1538.71 2334.52 1531.6 Q2334.52 1524.47 2332.7 1520.93 Q2330.89 1517.37 2327.26 1517.37 M2327.26 1513.66 Q2333.07 1513.66 2336.12 1518.27 Q2339.2 1522.85 2339.2 1531.6 Q2339.2 1540.33 2336.12 1544.94 Q2333.07 1549.52 2327.26 1549.52 Q2321.45 1549.52 2318.37 1544.94 Q2315.31 1540.33 2315.31 1531.6 Q2315.31 1522.85 2318.37 1518.27 Q2321.45 1513.66 2327.26 1513.66 Z\" fill=\"#000000\" fill-rule=\"nonzero\" fill-opacity=\"1\" /><polyline clip-path=\"url(#clip700)\" style=\"stroke:#000000; stroke-linecap:round; stroke-linejoin:round; stroke-width:4; stroke-opacity:1; fill:none\" points=\"156.598,1486.45 156.598,47.2441 \"/>\n",
       "<polyline clip-path=\"url(#clip700)\" style=\"stroke:#000000; stroke-linecap:round; stroke-linejoin:round; stroke-width:4; stroke-opacity:1; fill:none\" points=\"156.598,1445.72 175.496,1445.72 \"/>\n",
       "<polyline clip-path=\"url(#clip700)\" style=\"stroke:#000000; stroke-linecap:round; stroke-linejoin:round; stroke-width:4; stroke-opacity:1; fill:none\" points=\"156.598,1228.48 175.496,1228.48 \"/>\n",
       "<polyline clip-path=\"url(#clip700)\" style=\"stroke:#000000; stroke-linecap:round; stroke-linejoin:round; stroke-width:4; stroke-opacity:1; fill:none\" points=\"156.598,1011.24 175.496,1011.24 \"/>\n",
       "<polyline clip-path=\"url(#clip700)\" style=\"stroke:#000000; stroke-linecap:round; stroke-linejoin:round; stroke-width:4; stroke-opacity:1; fill:none\" points=\"156.598,794.001 175.496,794.001 \"/>\n",
       "<polyline clip-path=\"url(#clip700)\" style=\"stroke:#000000; stroke-linecap:round; stroke-linejoin:round; stroke-width:4; stroke-opacity:1; fill:none\" points=\"156.598,576.762 175.496,576.762 \"/>\n",
       "<polyline clip-path=\"url(#clip700)\" style=\"stroke:#000000; stroke-linecap:round; stroke-linejoin:round; stroke-width:4; stroke-opacity:1; fill:none\" points=\"156.598,359.524 175.496,359.524 \"/>\n",
       "<polyline clip-path=\"url(#clip700)\" style=\"stroke:#000000; stroke-linecap:round; stroke-linejoin:round; stroke-width:4; stroke-opacity:1; fill:none\" points=\"156.598,142.286 175.496,142.286 \"/>\n",
       "<path clip-path=\"url(#clip700)\" d=\"M63.4226 1431.51 Q59.8115 1431.51 57.9828 1435.08 Q56.1773 1438.62 56.1773 1445.75 Q56.1773 1452.86 57.9828 1456.42 Q59.8115 1459.96 63.4226 1459.96 Q67.0569 1459.96 68.8624 1456.42 Q70.6911 1452.86 70.6911 1445.75 Q70.6911 1438.62 68.8624 1435.08 Q67.0569 1431.51 63.4226 1431.51 M63.4226 1427.81 Q69.2328 1427.81 72.2883 1432.42 Q75.367 1437 75.367 1445.75 Q75.367 1454.48 72.2883 1459.08 Q69.2328 1463.67 63.4226 1463.67 Q57.6125 1463.67 54.5338 1459.08 Q51.4782 1454.48 51.4782 1445.75 Q51.4782 1437 54.5338 1432.42 Q57.6125 1427.81 63.4226 1427.81 Z\" fill=\"#000000\" fill-rule=\"nonzero\" fill-opacity=\"1\" /><path clip-path=\"url(#clip700)\" d=\"M83.5845 1457.12 L88.4688 1457.12 L88.4688 1463 L83.5845 1463 L83.5845 1457.12 Z\" fill=\"#000000\" fill-rule=\"nonzero\" fill-opacity=\"1\" /><path clip-path=\"url(#clip700)\" d=\"M108.654 1431.51 Q105.043 1431.51 103.214 1435.08 Q101.409 1438.62 101.409 1445.75 Q101.409 1452.86 103.214 1456.42 Q105.043 1459.96 108.654 1459.96 Q112.288 1459.96 114.094 1456.42 Q115.922 1452.86 115.922 1445.75 Q115.922 1438.62 114.094 1435.08 Q112.288 1431.51 108.654 1431.51 M108.654 1427.81 Q114.464 1427.81 117.52 1432.42 Q120.598 1437 120.598 1445.75 Q120.598 1454.48 117.52 1459.08 Q114.464 1463.67 108.654 1463.67 Q102.844 1463.67 99.765 1459.08 Q96.7095 1454.48 96.7095 1445.75 Q96.7095 1437 99.765 1432.42 Q102.844 1427.81 108.654 1427.81 Z\" fill=\"#000000\" fill-rule=\"nonzero\" fill-opacity=\"1\" /><path clip-path=\"url(#clip700)\" d=\"M64.6495 1214.28 Q61.0384 1214.28 59.2097 1217.84 Q57.4041 1221.38 57.4041 1228.51 Q57.4041 1235.62 59.2097 1239.18 Q61.0384 1242.72 64.6495 1242.72 Q68.2837 1242.72 70.0892 1239.18 Q71.9179 1235.62 71.9179 1228.51 Q71.9179 1221.38 70.0892 1217.84 Q68.2837 1214.28 64.6495 1214.28 M64.6495 1210.57 Q70.4596 1210.57 73.5152 1215.18 Q76.5938 1219.76 76.5938 1228.51 Q76.5938 1237.24 73.5152 1241.85 Q70.4596 1246.43 64.6495 1246.43 Q58.8393 1246.43 55.7606 1241.85 Q52.7051 1237.24 52.7051 1228.51 Q52.7051 1219.76 55.7606 1215.18 Q58.8393 1210.57 64.6495 1210.57 Z\" fill=\"#000000\" fill-rule=\"nonzero\" fill-opacity=\"1\" /><path clip-path=\"url(#clip700)\" d=\"M84.8114 1239.88 L89.6956 1239.88 L89.6956 1245.76 L84.8114 1245.76 L84.8114 1239.88 Z\" fill=\"#000000\" fill-rule=\"nonzero\" fill-opacity=\"1\" /><path clip-path=\"url(#clip700)\" d=\"M100.691 1241.82 L108.33 1241.82 L108.33 1215.46 L100.02 1217.12 L100.02 1212.86 L108.283 1211.2 L112.959 1211.2 L112.959 1241.82 L120.598 1241.82 L120.598 1245.76 L100.691 1245.76 L100.691 1241.82 Z\" fill=\"#000000\" fill-rule=\"nonzero\" fill-opacity=\"1\" /><path clip-path=\"url(#clip700)\" d=\"M65.0198 997.038 Q61.4087 997.038 59.58 1000.6 Q57.7745 1004.14 57.7745 1011.27 Q57.7745 1018.38 59.58 1021.95 Q61.4087 1025.49 65.0198 1025.49 Q68.6541 1025.49 70.4596 1021.95 Q72.2883 1018.38 72.2883 1011.27 Q72.2883 1004.14 70.4596 1000.6 Q68.6541 997.038 65.0198 997.038 M65.0198 993.334 Q70.83 993.334 73.8855 997.941 Q76.9642 1002.52 76.9642 1011.27 Q76.9642 1020 73.8855 1024.61 Q70.83 1029.19 65.0198 1029.19 Q59.2097 1029.19 56.131 1024.61 Q53.0754 1020 53.0754 1011.27 Q53.0754 1002.52 56.131 997.941 Q59.2097 993.334 65.0198 993.334 Z\" fill=\"#000000\" fill-rule=\"nonzero\" fill-opacity=\"1\" /><path clip-path=\"url(#clip700)\" d=\"M85.1818 1022.64 L90.066 1022.64 L90.066 1028.52 L85.1818 1028.52 L85.1818 1022.64 Z\" fill=\"#000000\" fill-rule=\"nonzero\" fill-opacity=\"1\" /><path clip-path=\"url(#clip700)\" d=\"M104.279 1024.58 L120.598 1024.58 L120.598 1028.52 L98.6539 1028.52 L98.6539 1024.58 Q101.316 1021.83 105.899 1017.2 Q110.506 1012.55 111.686 1011.2 Q113.932 1008.68 114.811 1006.95 Q115.714 1005.19 115.714 1003.5 Q115.714 1000.74 113.77 999.005 Q111.848 997.269 108.746 997.269 Q106.547 997.269 104.094 998.033 Q101.663 998.797 98.8854 1000.35 L98.8854 995.626 Q101.709 994.491 104.163 993.913 Q106.617 993.334 108.654 993.334 Q114.024 993.334 117.219 996.019 Q120.413 998.704 120.413 1003.2 Q120.413 1005.32 119.603 1007.25 Q118.816 1009.14 116.709 1011.74 Q116.131 1012.41 113.029 1015.63 Q109.927 1018.82 104.279 1024.58 Z\" fill=\"#000000\" fill-rule=\"nonzero\" fill-opacity=\"1\" /><path clip-path=\"url(#clip700)\" d=\"M64.0708 779.799 Q60.4597 779.799 58.631 783.364 Q56.8254 786.906 56.8254 794.035 Q56.8254 801.142 58.631 804.707 Q60.4597 808.248 64.0708 808.248 Q67.705 808.248 69.5105 804.707 Q71.3392 801.142 71.3392 794.035 Q71.3392 786.906 69.5105 783.364 Q67.705 779.799 64.0708 779.799 M64.0708 776.096 Q69.8809 776.096 72.9365 780.702 Q76.0151 785.286 76.0151 794.035 Q76.0151 802.762 72.9365 807.369 Q69.8809 811.952 64.0708 811.952 Q58.2606 811.952 55.1819 807.369 Q52.1264 802.762 52.1264 794.035 Q52.1264 785.286 55.1819 780.702 Q58.2606 776.096 64.0708 776.096 Z\" fill=\"#000000\" fill-rule=\"nonzero\" fill-opacity=\"1\" /><path clip-path=\"url(#clip700)\" d=\"M84.2327 805.401 L89.1169 805.401 L89.1169 811.281 L84.2327 811.281 L84.2327 805.401 Z\" fill=\"#000000\" fill-rule=\"nonzero\" fill-opacity=\"1\" /><path clip-path=\"url(#clip700)\" d=\"M113.469 792.647 Q116.825 793.364 118.7 795.633 Q120.598 797.901 120.598 801.235 Q120.598 806.35 117.08 809.151 Q113.561 811.952 107.08 811.952 Q104.904 811.952 102.589 811.512 Q100.297 811.096 97.8437 810.239 L97.8437 805.725 Q99.7882 806.859 102.103 807.438 Q104.418 808.017 106.941 808.017 Q111.339 808.017 113.631 806.281 Q115.945 804.545 115.945 801.235 Q115.945 798.179 113.793 796.466 Q111.663 794.73 107.844 794.73 L103.816 794.73 L103.816 790.887 L108.029 790.887 Q111.478 790.887 113.307 789.522 Q115.135 788.133 115.135 785.54 Q115.135 782.878 113.237 781.466 Q111.362 780.031 107.844 780.031 Q105.922 780.031 103.723 780.448 Q101.524 780.864 98.8854 781.744 L98.8854 777.577 Q101.547 776.837 103.862 776.466 Q106.2 776.096 108.26 776.096 Q113.584 776.096 116.686 778.526 Q119.788 780.934 119.788 785.054 Q119.788 787.924 118.145 789.915 Q116.501 791.883 113.469 792.647 Z\" fill=\"#000000\" fill-rule=\"nonzero\" fill-opacity=\"1\" /><path clip-path=\"url(#clip700)\" d=\"M62.9365 562.561 Q59.3254 562.561 57.4967 566.126 Q55.6912 569.668 55.6912 576.797 Q55.6912 583.904 57.4967 587.468 Q59.3254 591.01 62.9365 591.01 Q66.5707 591.01 68.3763 587.468 Q70.205 583.904 70.205 576.797 Q70.205 569.668 68.3763 566.126 Q66.5707 562.561 62.9365 562.561 M62.9365 558.857 Q68.7467 558.857 71.8022 563.464 Q74.8809 568.047 74.8809 576.797 Q74.8809 585.524 71.8022 590.13 Q68.7467 594.714 62.9365 594.714 Q57.1264 594.714 54.0477 590.13 Q50.9921 585.524 50.9921 576.797 Q50.9921 568.047 54.0477 563.464 Q57.1264 558.857 62.9365 558.857 Z\" fill=\"#000000\" fill-rule=\"nonzero\" fill-opacity=\"1\" /><path clip-path=\"url(#clip700)\" d=\"M83.0984 588.163 L87.9827 588.163 L87.9827 594.042 L83.0984 594.042 L83.0984 588.163 Z\" fill=\"#000000\" fill-rule=\"nonzero\" fill-opacity=\"1\" /><path clip-path=\"url(#clip700)\" d=\"M111.015 563.557 L99.2095 582.005 L111.015 582.005 L111.015 563.557 M109.788 559.482 L115.668 559.482 L115.668 582.005 L120.598 582.005 L120.598 585.894 L115.668 585.894 L115.668 594.042 L111.015 594.042 L111.015 585.894 L95.4132 585.894 L95.4132 581.38 L109.788 559.482 Z\" fill=\"#000000\" fill-rule=\"nonzero\" fill-opacity=\"1\" /><path clip-path=\"url(#clip700)\" d=\"M64.418 345.323 Q60.8069 345.323 58.9782 348.888 Q57.1726 352.429 57.1726 359.559 Q57.1726 366.665 58.9782 370.23 Q60.8069 373.772 64.418 373.772 Q68.0522 373.772 69.8578 370.23 Q71.6865 366.665 71.6865 359.559 Q71.6865 352.429 69.8578 348.888 Q68.0522 345.323 64.418 345.323 M64.418 341.619 Q70.2281 341.619 73.2837 346.226 Q76.3624 350.809 76.3624 359.559 Q76.3624 368.286 73.2837 372.892 Q70.2281 377.475 64.418 377.475 Q58.6078 377.475 55.5291 372.892 Q52.4736 368.286 52.4736 359.559 Q52.4736 350.809 55.5291 346.226 Q58.6078 341.619 64.418 341.619 Z\" fill=\"#000000\" fill-rule=\"nonzero\" fill-opacity=\"1\" /><path clip-path=\"url(#clip700)\" d=\"M84.5799 370.925 L89.4641 370.925 L89.4641 376.804 L84.5799 376.804 L84.5799 370.925 Z\" fill=\"#000000\" fill-rule=\"nonzero\" fill-opacity=\"1\" /><path clip-path=\"url(#clip700)\" d=\"M99.6956 342.244 L118.052 342.244 L118.052 346.179 L103.978 346.179 L103.978 354.652 Q104.996 354.304 106.015 354.142 Q107.033 353.957 108.052 353.957 Q113.839 353.957 117.219 357.128 Q120.598 360.3 120.598 365.716 Q120.598 371.295 117.126 374.397 Q113.654 377.475 107.334 377.475 Q105.159 377.475 102.89 377.105 Q100.645 376.735 98.2372 375.994 L98.2372 371.295 Q100.321 372.429 102.543 372.985 Q104.765 373.54 107.242 373.54 Q111.246 373.54 113.584 371.434 Q115.922 369.327 115.922 365.716 Q115.922 362.105 113.584 359.999 Q111.246 357.892 107.242 357.892 Q105.367 357.892 103.492 358.309 Q101.64 358.726 99.6956 359.605 L99.6956 342.244 Z\" fill=\"#000000\" fill-rule=\"nonzero\" fill-opacity=\"1\" /><path clip-path=\"url(#clip700)\" d=\"M63.2606 128.085 Q59.6495 128.085 57.8208 131.649 Q56.0152 135.191 56.0152 142.321 Q56.0152 149.427 57.8208 152.992 Q59.6495 156.533 63.2606 156.533 Q66.8948 156.533 68.7004 152.992 Q70.5291 149.427 70.5291 142.321 Q70.5291 135.191 68.7004 131.649 Q66.8948 128.085 63.2606 128.085 M63.2606 124.381 Q69.0707 124.381 72.1263 128.987 Q75.205 133.571 75.205 142.321 Q75.205 151.047 72.1263 155.654 Q69.0707 160.237 63.2606 160.237 Q57.4504 160.237 54.3717 155.654 Q51.3162 151.047 51.3162 142.321 Q51.3162 133.571 54.3717 128.987 Q57.4504 124.381 63.2606 124.381 Z\" fill=\"#000000\" fill-rule=\"nonzero\" fill-opacity=\"1\" /><path clip-path=\"url(#clip700)\" d=\"M83.4225 153.686 L88.3067 153.686 L88.3067 159.566 L83.4225 159.566 L83.4225 153.686 Z\" fill=\"#000000\" fill-rule=\"nonzero\" fill-opacity=\"1\" /><path clip-path=\"url(#clip700)\" d=\"M109.071 140.422 Q105.922 140.422 104.071 142.575 Q102.242 144.728 102.242 148.478 Q102.242 152.205 104.071 154.381 Q105.922 156.533 109.071 156.533 Q112.219 156.533 114.047 154.381 Q115.899 152.205 115.899 148.478 Q115.899 144.728 114.047 142.575 Q112.219 140.422 109.071 140.422 M118.353 125.77 L118.353 130.029 Q116.594 129.196 114.788 128.756 Q113.006 128.316 111.246 128.316 Q106.617 128.316 104.163 131.441 Q101.733 134.566 101.385 140.885 Q102.751 138.872 104.811 137.807 Q106.871 136.719 109.348 136.719 Q114.557 136.719 117.566 139.89 Q120.598 143.038 120.598 148.478 Q120.598 153.802 117.45 157.02 Q114.302 160.237 109.071 160.237 Q103.075 160.237 99.9039 155.654 Q96.7326 151.047 96.7326 142.321 Q96.7326 134.126 100.621 129.265 Q104.51 124.381 111.061 124.381 Q112.82 124.381 114.603 124.728 Q116.408 125.075 118.353 125.77 Z\" fill=\"#000000\" fill-rule=\"nonzero\" fill-opacity=\"1\" /><polyline clip-path=\"url(#clip702)\" style=\"stroke:#009af9; stroke-linecap:round; stroke-linejoin:round; stroke-width:4; stroke-opacity:1; fill:none\" points=\"218.754,1445.72 736.715,902.62 1254.68,1174.17 1772.64,1038.39 2290.6,87.9763 \"/>\n",
       "<circle clip-path=\"url(#clip702)\" cx=\"218.754\" cy=\"1445.72\" r=\"10.8\" fill=\"#009af9\" fill-rule=\"evenodd\" fill-opacity=\"1\" stroke=\"#000000\" stroke-opacity=\"1\" stroke-width=\"3.2\"/>\n",
       "<circle clip-path=\"url(#clip702)\" cx=\"736.715\" cy=\"902.62\" r=\"10.8\" fill=\"#009af9\" fill-rule=\"evenodd\" fill-opacity=\"1\" stroke=\"#000000\" stroke-opacity=\"1\" stroke-width=\"3.2\"/>\n",
       "<circle clip-path=\"url(#clip702)\" cx=\"1254.68\" cy=\"1174.17\" r=\"10.8\" fill=\"#009af9\" fill-rule=\"evenodd\" fill-opacity=\"1\" stroke=\"#000000\" stroke-opacity=\"1\" stroke-width=\"3.2\"/>\n",
       "<circle clip-path=\"url(#clip702)\" cx=\"1772.64\" cy=\"1038.39\" r=\"10.8\" fill=\"#009af9\" fill-rule=\"evenodd\" fill-opacity=\"1\" stroke=\"#000000\" stroke-opacity=\"1\" stroke-width=\"3.2\"/>\n",
       "<circle clip-path=\"url(#clip702)\" cx=\"2290.6\" cy=\"87.9763\" r=\"10.8\" fill=\"#009af9\" fill-rule=\"evenodd\" fill-opacity=\"1\" stroke=\"#000000\" stroke-opacity=\"1\" stroke-width=\"3.2\"/>\n",
       "<polyline clip-path=\"url(#clip702)\" style=\"stroke:#e26f46; stroke-linecap:round; stroke-linejoin:round; stroke-width:4; stroke-opacity:1; fill:none\" points=\"218.754,1445.72 477.734,1377.83 736.715,1208.11 995.696,1276 1254.68,1038.39 1513.66,1276 1772.64,1174.17 2031.62,1242.05 2290.6,868.676 \"/>\n",
       "<circle clip-path=\"url(#clip702)\" cx=\"218.754\" cy=\"1445.72\" r=\"10.8\" fill=\"#e26f46\" fill-rule=\"evenodd\" fill-opacity=\"1\" stroke=\"#000000\" stroke-opacity=\"1\" stroke-width=\"3.2\"/>\n",
       "<circle clip-path=\"url(#clip702)\" cx=\"477.734\" cy=\"1377.83\" r=\"10.8\" fill=\"#e26f46\" fill-rule=\"evenodd\" fill-opacity=\"1\" stroke=\"#000000\" stroke-opacity=\"1\" stroke-width=\"3.2\"/>\n",
       "<circle clip-path=\"url(#clip702)\" cx=\"736.715\" cy=\"1208.11\" r=\"10.8\" fill=\"#e26f46\" fill-rule=\"evenodd\" fill-opacity=\"1\" stroke=\"#000000\" stroke-opacity=\"1\" stroke-width=\"3.2\"/>\n",
       "<circle clip-path=\"url(#clip702)\" cx=\"995.696\" cy=\"1276\" r=\"10.8\" fill=\"#e26f46\" fill-rule=\"evenodd\" fill-opacity=\"1\" stroke=\"#000000\" stroke-opacity=\"1\" stroke-width=\"3.2\"/>\n",
       "<circle clip-path=\"url(#clip702)\" cx=\"1254.68\" cy=\"1038.39\" r=\"10.8\" fill=\"#e26f46\" fill-rule=\"evenodd\" fill-opacity=\"1\" stroke=\"#000000\" stroke-opacity=\"1\" stroke-width=\"3.2\"/>\n",
       "<circle clip-path=\"url(#clip702)\" cx=\"1513.66\" cy=\"1276\" r=\"10.8\" fill=\"#e26f46\" fill-rule=\"evenodd\" fill-opacity=\"1\" stroke=\"#000000\" stroke-opacity=\"1\" stroke-width=\"3.2\"/>\n",
       "<circle clip-path=\"url(#clip702)\" cx=\"1772.64\" cy=\"1174.17\" r=\"10.8\" fill=\"#e26f46\" fill-rule=\"evenodd\" fill-opacity=\"1\" stroke=\"#000000\" stroke-opacity=\"1\" stroke-width=\"3.2\"/>\n",
       "<circle clip-path=\"url(#clip702)\" cx=\"2031.62\" cy=\"1242.05\" r=\"10.8\" fill=\"#e26f46\" fill-rule=\"evenodd\" fill-opacity=\"1\" stroke=\"#000000\" stroke-opacity=\"1\" stroke-width=\"3.2\"/>\n",
       "<circle clip-path=\"url(#clip702)\" cx=\"2290.6\" cy=\"868.676\" r=\"10.8\" fill=\"#e26f46\" fill-rule=\"evenodd\" fill-opacity=\"1\" stroke=\"#000000\" stroke-opacity=\"1\" stroke-width=\"3.2\"/>\n",
       "<polyline clip-path=\"url(#clip702)\" style=\"stroke:#3da44d; stroke-linecap:round; stroke-linejoin:round; stroke-width:4; stroke-opacity:1; fill:none\" points=\"218.754,1445.72 391.408,1221.54 564.061,1179.45 736.715,1136.45 909.369,1106.73 1082.02,1064.49 1254.68,1015.01 1427.33,1016.67 1599.98,992.382 1772.64,992.985 1945.29,973.072 2117.95,957.986 2290.6,946.671 \"/>\n",
       "<circle clip-path=\"url(#clip702)\" cx=\"218.754\" cy=\"1445.72\" r=\"10.8\" fill=\"#3da44d\" fill-rule=\"evenodd\" fill-opacity=\"1\" stroke=\"#000000\" stroke-opacity=\"1\" stroke-width=\"3.2\"/>\n",
       "<circle clip-path=\"url(#clip702)\" cx=\"391.408\" cy=\"1221.54\" r=\"10.8\" fill=\"#3da44d\" fill-rule=\"evenodd\" fill-opacity=\"1\" stroke=\"#000000\" stroke-opacity=\"1\" stroke-width=\"3.2\"/>\n",
       "<circle clip-path=\"url(#clip702)\" cx=\"564.061\" cy=\"1179.45\" r=\"10.8\" fill=\"#3da44d\" fill-rule=\"evenodd\" fill-opacity=\"1\" stroke=\"#000000\" stroke-opacity=\"1\" stroke-width=\"3.2\"/>\n",
       "<circle clip-path=\"url(#clip702)\" cx=\"736.715\" cy=\"1136.45\" r=\"10.8\" fill=\"#3da44d\" fill-rule=\"evenodd\" fill-opacity=\"1\" stroke=\"#000000\" stroke-opacity=\"1\" stroke-width=\"3.2\"/>\n",
       "<circle clip-path=\"url(#clip702)\" cx=\"909.369\" cy=\"1106.73\" r=\"10.8\" fill=\"#3da44d\" fill-rule=\"evenodd\" fill-opacity=\"1\" stroke=\"#000000\" stroke-opacity=\"1\" stroke-width=\"3.2\"/>\n",
       "<circle clip-path=\"url(#clip702)\" cx=\"1082.02\" cy=\"1064.49\" r=\"10.8\" fill=\"#3da44d\" fill-rule=\"evenodd\" fill-opacity=\"1\" stroke=\"#000000\" stroke-opacity=\"1\" stroke-width=\"3.2\"/>\n",
       "<circle clip-path=\"url(#clip702)\" cx=\"1254.68\" cy=\"1015.01\" r=\"10.8\" fill=\"#3da44d\" fill-rule=\"evenodd\" fill-opacity=\"1\" stroke=\"#000000\" stroke-opacity=\"1\" stroke-width=\"3.2\"/>\n",
       "<circle clip-path=\"url(#clip702)\" cx=\"1427.33\" cy=\"1016.67\" r=\"10.8\" fill=\"#3da44d\" fill-rule=\"evenodd\" fill-opacity=\"1\" stroke=\"#000000\" stroke-opacity=\"1\" stroke-width=\"3.2\"/>\n",
       "<circle clip-path=\"url(#clip702)\" cx=\"1599.98\" cy=\"992.382\" r=\"10.8\" fill=\"#3da44d\" fill-rule=\"evenodd\" fill-opacity=\"1\" stroke=\"#000000\" stroke-opacity=\"1\" stroke-width=\"3.2\"/>\n",
       "<circle clip-path=\"url(#clip702)\" cx=\"1772.64\" cy=\"992.985\" r=\"10.8\" fill=\"#3da44d\" fill-rule=\"evenodd\" fill-opacity=\"1\" stroke=\"#000000\" stroke-opacity=\"1\" stroke-width=\"3.2\"/>\n",
       "<circle clip-path=\"url(#clip702)\" cx=\"1945.29\" cy=\"973.072\" r=\"10.8\" fill=\"#3da44d\" fill-rule=\"evenodd\" fill-opacity=\"1\" stroke=\"#000000\" stroke-opacity=\"1\" stroke-width=\"3.2\"/>\n",
       "<circle clip-path=\"url(#clip702)\" cx=\"2117.95\" cy=\"957.986\" r=\"10.8\" fill=\"#3da44d\" fill-rule=\"evenodd\" fill-opacity=\"1\" stroke=\"#000000\" stroke-opacity=\"1\" stroke-width=\"3.2\"/>\n",
       "<circle clip-path=\"url(#clip702)\" cx=\"2290.6\" cy=\"946.671\" r=\"10.8\" fill=\"#3da44d\" fill-rule=\"evenodd\" fill-opacity=\"1\" stroke=\"#000000\" stroke-opacity=\"1\" stroke-width=\"3.2\"/>\n",
       "<path clip-path=\"url(#clip700)\" d=\"M229.803 302.578 L566.479 302.578 L566.479 95.2176 L229.803 95.2176  Z\" fill=\"#ffffff\" fill-rule=\"evenodd\" fill-opacity=\"1\"/>\n",
       "<polyline clip-path=\"url(#clip700)\" style=\"stroke:#000000; stroke-linecap:round; stroke-linejoin:round; stroke-width:4; stroke-opacity:1; fill:none\" points=\"229.803,302.578 566.479,302.578 566.479,95.2176 229.803,95.2176 229.803,302.578 \"/>\n",
       "<polyline clip-path=\"url(#clip700)\" style=\"stroke:#009af9; stroke-linecap:round; stroke-linejoin:round; stroke-width:4; stroke-opacity:1; fill:none\" points=\"254.205,147.058 400.616,147.058 \"/>\n",
       "<circle clip-path=\"url(#clip700)\" cx=\"327.41\" cy=\"147.058\" r=\"19.7486\" fill=\"#009af9\" fill-rule=\"evenodd\" fill-opacity=\"1\" stroke=\"#000000\" stroke-opacity=\"1\" stroke-width=\"5.85143\"/>\n",
       "<path clip-path=\"url(#clip700)\" d=\"M425.018 129.778 L429.693 129.778 L429.693 160.402 L446.522 160.402 L446.522 164.338 L425.018 164.338 L425.018 129.778 Z\" fill=\"#000000\" fill-rule=\"nonzero\" fill-opacity=\"1\" /><path clip-path=\"url(#clip700)\" d=\"M451.8 142.81 L481.476 142.81 L481.476 146.699 L451.8 146.699 L451.8 142.81 M451.8 152.254 L481.476 152.254 L481.476 156.189 L451.8 156.189 L451.8 152.254 Z\" fill=\"#000000\" fill-rule=\"nonzero\" fill-opacity=\"1\" /><path clip-path=\"url(#clip700)\" d=\"M504.415 133.852 L492.61 152.301 L504.415 152.301 L504.415 133.852 M503.188 129.778 L509.068 129.778 L509.068 152.301 L513.999 152.301 L513.999 156.189 L509.068 156.189 L509.068 164.338 L504.415 164.338 L504.415 156.189 L488.813 156.189 L488.813 151.676 L503.188 129.778 Z\" fill=\"#000000\" fill-rule=\"nonzero\" fill-opacity=\"1\" /><polyline clip-path=\"url(#clip700)\" style=\"stroke:#e26f46; stroke-linecap:round; stroke-linejoin:round; stroke-width:4; stroke-opacity:1; fill:none\" points=\"254.205,198.898 400.616,198.898 \"/>\n",
       "<circle clip-path=\"url(#clip700)\" cx=\"327.41\" cy=\"198.898\" r=\"19.7486\" fill=\"#e26f46\" fill-rule=\"evenodd\" fill-opacity=\"1\" stroke=\"#000000\" stroke-opacity=\"1\" stroke-width=\"5.85143\"/>\n",
       "<path clip-path=\"url(#clip700)\" d=\"M425.018 181.618 L429.693 181.618 L429.693 212.242 L446.522 212.242 L446.522 216.178 L425.018 216.178 L425.018 181.618 Z\" fill=\"#000000\" fill-rule=\"nonzero\" fill-opacity=\"1\" /><path clip-path=\"url(#clip700)\" d=\"M451.8 194.65 L481.476 194.65 L481.476 198.539 L451.8 198.539 L451.8 194.65 M451.8 204.094 L481.476 204.094 L481.476 208.029 L451.8 208.029 L451.8 204.094 Z\" fill=\"#000000\" fill-rule=\"nonzero\" fill-opacity=\"1\" /><path clip-path=\"url(#clip700)\" d=\"M501.568 199.766 Q498.235 199.766 496.313 201.548 Q494.415 203.33 494.415 206.455 Q494.415 209.58 496.313 211.363 Q498.235 213.145 501.568 213.145 Q504.901 213.145 506.823 211.363 Q508.744 209.557 508.744 206.455 Q508.744 203.33 506.823 201.548 Q504.924 199.766 501.568 199.766 M496.892 197.775 Q493.883 197.034 492.193 194.974 Q490.526 192.914 490.526 189.951 Q490.526 185.807 493.466 183.4 Q496.429 180.993 501.568 180.993 Q506.73 180.993 509.67 183.4 Q512.61 185.807 512.61 189.951 Q512.61 192.914 510.92 194.974 Q509.253 197.034 506.267 197.775 Q509.647 198.562 511.522 200.854 Q513.42 203.145 513.42 206.455 Q513.42 211.479 510.341 214.164 Q507.286 216.849 501.568 216.849 Q495.85 216.849 492.772 214.164 Q489.716 211.479 489.716 206.455 Q489.716 203.145 491.614 200.854 Q493.513 198.562 496.892 197.775 M495.179 190.391 Q495.179 193.076 496.846 194.58 Q498.536 196.085 501.568 196.085 Q504.577 196.085 506.267 194.58 Q507.98 193.076 507.98 190.391 Q507.98 187.705 506.267 186.201 Q504.577 184.696 501.568 184.696 Q498.536 184.696 496.846 186.201 Q495.179 187.705 495.179 190.391 Z\" fill=\"#000000\" fill-rule=\"nonzero\" fill-opacity=\"1\" /><polyline clip-path=\"url(#clip700)\" style=\"stroke:#3da44d; stroke-linecap:round; stroke-linejoin:round; stroke-width:4; stroke-opacity:1; fill:none\" points=\"254.205,250.738 400.616,250.738 \"/>\n",
       "<circle clip-path=\"url(#clip700)\" cx=\"327.41\" cy=\"250.738\" r=\"19.7486\" fill=\"#3da44d\" fill-rule=\"evenodd\" fill-opacity=\"1\" stroke=\"#000000\" stroke-opacity=\"1\" stroke-width=\"5.85143\"/>\n",
       "<path clip-path=\"url(#clip700)\" d=\"M425.018 233.458 L429.693 233.458 L429.693 264.082 L446.522 264.082 L446.522 268.018 L425.018 268.018 L425.018 233.458 Z\" fill=\"#000000\" fill-rule=\"nonzero\" fill-opacity=\"1\" /><path clip-path=\"url(#clip700)\" d=\"M451.8 246.49 L481.476 246.49 L481.476 250.379 L451.8 250.379 L451.8 246.49 M451.8 255.934 L481.476 255.934 L481.476 259.869 L451.8 259.869 L451.8 255.934 Z\" fill=\"#000000\" fill-rule=\"nonzero\" fill-opacity=\"1\" /><path clip-path=\"url(#clip700)\" d=\"M492.378 264.082 L500.017 264.082 L500.017 237.717 L491.707 239.383 L491.707 235.124 L499.971 233.458 L504.647 233.458 L504.647 264.082 L512.286 264.082 L512.286 268.018 L492.378 268.018 L492.378 264.082 Z\" fill=\"#000000\" fill-rule=\"nonzero\" fill-opacity=\"1\" /><path clip-path=\"url(#clip700)\" d=\"M525.758 264.082 L542.077 264.082 L542.077 268.018 L520.133 268.018 L520.133 264.082 Q522.795 261.328 527.378 256.698 Q531.985 252.045 533.165 250.703 Q535.41 248.18 536.29 246.444 Q537.193 244.684 537.193 242.995 Q537.193 240.24 535.248 238.504 Q533.327 236.768 530.225 236.768 Q528.026 236.768 525.573 237.532 Q523.142 238.295 520.364 239.846 L520.364 235.124 Q523.188 233.99 525.642 233.411 Q528.096 232.833 530.133 232.833 Q535.503 232.833 538.697 235.518 Q541.892 238.203 541.892 242.694 Q541.892 244.823 541.082 246.745 Q540.295 248.643 538.188 251.235 Q537.609 251.907 534.508 255.124 Q531.406 258.319 525.758 264.082 Z\" fill=\"#000000\" fill-rule=\"nonzero\" fill-opacity=\"1\" /></svg>\n"
      ],
      "text/html": [
       "<?xml version=\"1.0\" encoding=\"utf-8\"?>\n",
       "<svg xmlns=\"http://www.w3.org/2000/svg\" xmlns:xlink=\"http://www.w3.org/1999/xlink\" width=\"600\" height=\"400\" viewBox=\"0 0 2400 1600\">\n",
       "<defs>\n",
       "  <clipPath id=\"clip750\">\n",
       "    <rect x=\"0\" y=\"0\" width=\"2400\" height=\"1600\"/>\n",
       "  </clipPath>\n",
       "</defs>\n",
       "<path clip-path=\"url(#clip750)\" d=\"M0 1600 L2400 1600 L2400 8.88178e-14 L0 8.88178e-14  Z\" fill=\"#ffffff\" fill-rule=\"evenodd\" fill-opacity=\"1\"/>\n",
       "<defs>\n",
       "  <clipPath id=\"clip751\">\n",
       "    <rect x=\"480\" y=\"0\" width=\"1681\" height=\"1600\"/>\n",
       "  </clipPath>\n",
       "</defs>\n",
       "<path clip-path=\"url(#clip750)\" d=\"M156.598 1486.45 L2352.76 1486.45 L2352.76 47.2441 L156.598 47.2441  Z\" fill=\"#ffffff\" fill-rule=\"evenodd\" fill-opacity=\"1\"/>\n",
       "<defs>\n",
       "  <clipPath id=\"clip752\">\n",
       "    <rect x=\"156\" y=\"47\" width=\"2197\" height=\"1440\"/>\n",
       "  </clipPath>\n",
       "</defs>\n",
       "<polyline clip-path=\"url(#clip752)\" style=\"stroke:#000000; stroke-linecap:round; stroke-linejoin:round; stroke-width:2; stroke-opacity:0.1; fill:none\" points=\"218.754,1486.45 218.754,47.2441 \"/>\n",
       "<polyline clip-path=\"url(#clip752)\" style=\"stroke:#000000; stroke-linecap:round; stroke-linejoin:round; stroke-width:2; stroke-opacity:0.1; fill:none\" points=\"736.715,1486.45 736.715,47.2441 \"/>\n",
       "<polyline clip-path=\"url(#clip752)\" style=\"stroke:#000000; stroke-linecap:round; stroke-linejoin:round; stroke-width:2; stroke-opacity:0.1; fill:none\" points=\"1254.68,1486.45 1254.68,47.2441 \"/>\n",
       "<polyline clip-path=\"url(#clip752)\" style=\"stroke:#000000; stroke-linecap:round; stroke-linejoin:round; stroke-width:2; stroke-opacity:0.1; fill:none\" points=\"1772.64,1486.45 1772.64,47.2441 \"/>\n",
       "<polyline clip-path=\"url(#clip752)\" style=\"stroke:#000000; stroke-linecap:round; stroke-linejoin:round; stroke-width:2; stroke-opacity:0.1; fill:none\" points=\"2290.6,1486.45 2290.6,47.2441 \"/>\n",
       "<polyline clip-path=\"url(#clip752)\" style=\"stroke:#000000; stroke-linecap:round; stroke-linejoin:round; stroke-width:2; stroke-opacity:0.1; fill:none\" points=\"156.598,1445.72 2352.76,1445.72 \"/>\n",
       "<polyline clip-path=\"url(#clip752)\" style=\"stroke:#000000; stroke-linecap:round; stroke-linejoin:round; stroke-width:2; stroke-opacity:0.1; fill:none\" points=\"156.598,1228.48 2352.76,1228.48 \"/>\n",
       "<polyline clip-path=\"url(#clip752)\" style=\"stroke:#000000; stroke-linecap:round; stroke-linejoin:round; stroke-width:2; stroke-opacity:0.1; fill:none\" points=\"156.598,1011.24 2352.76,1011.24 \"/>\n",
       "<polyline clip-path=\"url(#clip752)\" style=\"stroke:#000000; stroke-linecap:round; stroke-linejoin:round; stroke-width:2; stroke-opacity:0.1; fill:none\" points=\"156.598,794.001 2352.76,794.001 \"/>\n",
       "<polyline clip-path=\"url(#clip752)\" style=\"stroke:#000000; stroke-linecap:round; stroke-linejoin:round; stroke-width:2; stroke-opacity:0.1; fill:none\" points=\"156.598,576.762 2352.76,576.762 \"/>\n",
       "<polyline clip-path=\"url(#clip752)\" style=\"stroke:#000000; stroke-linecap:round; stroke-linejoin:round; stroke-width:2; stroke-opacity:0.1; fill:none\" points=\"156.598,359.524 2352.76,359.524 \"/>\n",
       "<polyline clip-path=\"url(#clip752)\" style=\"stroke:#000000; stroke-linecap:round; stroke-linejoin:round; stroke-width:2; stroke-opacity:0.1; fill:none\" points=\"156.598,142.286 2352.76,142.286 \"/>\n",
       "<polyline clip-path=\"url(#clip750)\" style=\"stroke:#000000; stroke-linecap:round; stroke-linejoin:round; stroke-width:4; stroke-opacity:1; fill:none\" points=\"156.598,1486.45 2352.76,1486.45 \"/>\n",
       "<polyline clip-path=\"url(#clip750)\" style=\"stroke:#000000; stroke-linecap:round; stroke-linejoin:round; stroke-width:4; stroke-opacity:1; fill:none\" points=\"218.754,1486.45 218.754,1467.55 \"/>\n",
       "<polyline clip-path=\"url(#clip750)\" style=\"stroke:#000000; stroke-linecap:round; stroke-linejoin:round; stroke-width:4; stroke-opacity:1; fill:none\" points=\"736.715,1486.45 736.715,1467.55 \"/>\n",
       "<polyline clip-path=\"url(#clip750)\" style=\"stroke:#000000; stroke-linecap:round; stroke-linejoin:round; stroke-width:4; stroke-opacity:1; fill:none\" points=\"1254.68,1486.45 1254.68,1467.55 \"/>\n",
       "<polyline clip-path=\"url(#clip750)\" style=\"stroke:#000000; stroke-linecap:round; stroke-linejoin:round; stroke-width:4; stroke-opacity:1; fill:none\" points=\"1772.64,1486.45 1772.64,1467.55 \"/>\n",
       "<polyline clip-path=\"url(#clip750)\" style=\"stroke:#000000; stroke-linecap:round; stroke-linejoin:round; stroke-width:4; stroke-opacity:1; fill:none\" points=\"2290.6,1486.45 2290.6,1467.55 \"/>\n",
       "<path clip-path=\"url(#clip750)\" d=\"M181.057 1517.37 Q177.446 1517.37 175.617 1520.93 Q173.812 1524.47 173.812 1531.6 Q173.812 1538.71 175.617 1542.27 Q177.446 1545.82 181.057 1545.82 Q184.691 1545.82 186.497 1542.27 Q188.326 1538.71 188.326 1531.6 Q188.326 1524.47 186.497 1520.93 Q184.691 1517.37 181.057 1517.37 M181.057 1513.66 Q186.867 1513.66 189.923 1518.27 Q193.001 1522.85 193.001 1531.6 Q193.001 1540.33 189.923 1544.94 Q186.867 1549.52 181.057 1549.52 Q175.247 1549.52 172.168 1544.94 Q169.113 1540.33 169.113 1531.6 Q169.113 1522.85 172.168 1518.27 Q175.247 1513.66 181.057 1513.66 Z\" fill=\"#000000\" fill-rule=\"nonzero\" fill-opacity=\"1\" /><path clip-path=\"url(#clip750)\" d=\"M201.219 1542.97 L206.103 1542.97 L206.103 1548.85 L201.219 1548.85 L201.219 1542.97 Z\" fill=\"#000000\" fill-rule=\"nonzero\" fill-opacity=\"1\" /><path clip-path=\"url(#clip750)\" d=\"M226.288 1517.37 Q222.677 1517.37 220.849 1520.93 Q219.043 1524.47 219.043 1531.6 Q219.043 1538.71 220.849 1542.27 Q222.677 1545.82 226.288 1545.82 Q229.923 1545.82 231.728 1542.27 Q233.557 1538.71 233.557 1531.6 Q233.557 1524.47 231.728 1520.93 Q229.923 1517.37 226.288 1517.37 M226.288 1513.66 Q232.098 1513.66 235.154 1518.27 Q238.233 1522.85 238.233 1531.6 Q238.233 1540.33 235.154 1544.94 Q232.098 1549.52 226.288 1549.52 Q220.478 1549.52 217.399 1544.94 Q214.344 1540.33 214.344 1531.6 Q214.344 1522.85 217.399 1518.27 Q220.478 1513.66 226.288 1513.66 Z\" fill=\"#000000\" fill-rule=\"nonzero\" fill-opacity=\"1\" /><path clip-path=\"url(#clip750)\" d=\"M256.45 1517.37 Q252.839 1517.37 251.01 1520.93 Q249.205 1524.47 249.205 1531.6 Q249.205 1538.71 251.01 1542.27 Q252.839 1545.82 256.45 1545.82 Q260.084 1545.82 261.89 1542.27 Q263.719 1538.71 263.719 1531.6 Q263.719 1524.47 261.89 1520.93 Q260.084 1517.37 256.45 1517.37 M256.45 1513.66 Q262.26 1513.66 265.316 1518.27 Q268.395 1522.85 268.395 1531.6 Q268.395 1540.33 265.316 1544.94 Q262.26 1549.52 256.45 1549.52 Q250.64 1549.52 247.561 1544.94 Q244.506 1540.33 244.506 1531.6 Q244.506 1522.85 247.561 1518.27 Q250.64 1513.66 256.45 1513.66 Z\" fill=\"#000000\" fill-rule=\"nonzero\" fill-opacity=\"1\" /><path clip-path=\"url(#clip750)\" d=\"M699.516 1517.37 Q695.905 1517.37 694.077 1520.93 Q692.271 1524.47 692.271 1531.6 Q692.271 1538.71 694.077 1542.27 Q695.905 1545.82 699.516 1545.82 Q703.151 1545.82 704.956 1542.27 Q706.785 1538.71 706.785 1531.6 Q706.785 1524.47 704.956 1520.93 Q703.151 1517.37 699.516 1517.37 M699.516 1513.66 Q705.327 1513.66 708.382 1518.27 Q711.461 1522.85 711.461 1531.6 Q711.461 1540.33 708.382 1544.94 Q705.327 1549.52 699.516 1549.52 Q693.706 1549.52 690.628 1544.94 Q687.572 1540.33 687.572 1531.6 Q687.572 1522.85 690.628 1518.27 Q693.706 1513.66 699.516 1513.66 Z\" fill=\"#000000\" fill-rule=\"nonzero\" fill-opacity=\"1\" /><path clip-path=\"url(#clip750)\" d=\"M719.678 1542.97 L724.563 1542.97 L724.563 1548.85 L719.678 1548.85 L719.678 1542.97 Z\" fill=\"#000000\" fill-rule=\"nonzero\" fill-opacity=\"1\" /><path clip-path=\"url(#clip750)\" d=\"M738.776 1544.91 L755.095 1544.91 L755.095 1548.85 L733.151 1548.85 L733.151 1544.91 Q735.813 1542.16 740.396 1537.53 Q745.002 1532.88 746.183 1531.53 Q748.428 1529.01 749.308 1527.27 Q750.211 1525.51 750.211 1523.82 Q750.211 1521.07 748.266 1519.33 Q746.345 1517.6 743.243 1517.6 Q741.044 1517.6 738.59 1518.36 Q736.16 1519.13 733.382 1520.68 L733.382 1515.95 Q736.206 1514.82 738.66 1514.24 Q741.113 1513.66 743.151 1513.66 Q748.521 1513.66 751.715 1516.35 Q754.91 1519.03 754.91 1523.52 Q754.91 1525.65 754.1 1527.57 Q753.312 1529.47 751.206 1532.07 Q750.627 1532.74 747.525 1535.95 Q744.424 1539.15 738.776 1544.91 Z\" fill=\"#000000\" fill-rule=\"nonzero\" fill-opacity=\"1\" /><path clip-path=\"url(#clip750)\" d=\"M764.956 1514.29 L783.312 1514.29 L783.312 1518.22 L769.238 1518.22 L769.238 1526.7 Q770.257 1526.35 771.275 1526.19 Q772.294 1526 773.312 1526 Q779.099 1526 782.479 1529.17 Q785.859 1532.34 785.859 1537.76 Q785.859 1543.34 782.386 1546.44 Q778.914 1549.52 772.595 1549.52 Q770.419 1549.52 768.15 1549.15 Q765.905 1548.78 763.498 1548.04 L763.498 1543.34 Q765.581 1544.47 767.803 1545.03 Q770.025 1545.58 772.502 1545.58 Q776.507 1545.58 778.845 1543.48 Q781.183 1541.37 781.183 1537.76 Q781.183 1534.15 778.845 1532.04 Q776.507 1529.94 772.502 1529.94 Q770.627 1529.94 768.752 1530.35 Q766.9 1530.77 764.956 1531.65 L764.956 1514.29 Z\" fill=\"#000000\" fill-rule=\"nonzero\" fill-opacity=\"1\" /><path clip-path=\"url(#clip750)\" d=\"M1216.98 1517.37 Q1213.37 1517.37 1211.54 1520.93 Q1209.74 1524.47 1209.74 1531.6 Q1209.74 1538.71 1211.54 1542.27 Q1213.37 1545.82 1216.98 1545.82 Q1220.61 1545.82 1222.42 1542.27 Q1224.25 1538.71 1224.25 1531.6 Q1224.25 1524.47 1222.42 1520.93 Q1220.61 1517.37 1216.98 1517.37 M1216.98 1513.66 Q1222.79 1513.66 1225.85 1518.27 Q1228.92 1522.85 1228.92 1531.6 Q1228.92 1540.33 1225.85 1544.94 Q1222.79 1549.52 1216.98 1549.52 Q1211.17 1549.52 1208.09 1544.94 Q1205.04 1540.33 1205.04 1531.6 Q1205.04 1522.85 1208.09 1518.27 Q1211.17 1513.66 1216.98 1513.66 Z\" fill=\"#000000\" fill-rule=\"nonzero\" fill-opacity=\"1\" /><path clip-path=\"url(#clip750)\" d=\"M1237.14 1542.97 L1242.03 1542.97 L1242.03 1548.85 L1237.14 1548.85 L1237.14 1542.97 Z\" fill=\"#000000\" fill-rule=\"nonzero\" fill-opacity=\"1\" /><path clip-path=\"url(#clip750)\" d=\"M1252.26 1514.29 L1270.61 1514.29 L1270.61 1518.22 L1256.54 1518.22 L1256.54 1526.7 Q1257.56 1526.35 1258.58 1526.19 Q1259.6 1526 1260.61 1526 Q1266.4 1526 1269.78 1529.17 Q1273.16 1532.34 1273.16 1537.76 Q1273.16 1543.34 1269.69 1546.44 Q1266.22 1549.52 1259.9 1549.52 Q1257.72 1549.52 1255.45 1549.15 Q1253.21 1548.78 1250.8 1548.04 L1250.8 1543.34 Q1252.88 1544.47 1255.11 1545.03 Q1257.33 1545.58 1259.8 1545.58 Q1263.81 1545.58 1266.15 1543.48 Q1268.48 1541.37 1268.48 1537.76 Q1268.48 1534.15 1266.15 1532.04 Q1263.81 1529.94 1259.8 1529.94 Q1257.93 1529.94 1256.05 1530.35 Q1254.2 1530.77 1252.26 1531.65 L1252.26 1514.29 Z\" fill=\"#000000\" fill-rule=\"nonzero\" fill-opacity=\"1\" /><path clip-path=\"url(#clip750)\" d=\"M1292.37 1517.37 Q1288.76 1517.37 1286.93 1520.93 Q1285.13 1524.47 1285.13 1531.6 Q1285.13 1538.71 1286.93 1542.27 Q1288.76 1545.82 1292.37 1545.82 Q1296.01 1545.82 1297.81 1542.27 Q1299.64 1538.71 1299.64 1531.6 Q1299.64 1524.47 1297.81 1520.93 Q1296.01 1517.37 1292.37 1517.37 M1292.37 1513.66 Q1298.18 1513.66 1301.24 1518.27 Q1304.32 1522.85 1304.32 1531.6 Q1304.32 1540.33 1301.24 1544.94 Q1298.18 1549.52 1292.37 1549.52 Q1286.56 1549.52 1283.48 1544.94 Q1280.43 1540.33 1280.43 1531.6 Q1280.43 1522.85 1283.48 1518.27 Q1286.56 1513.66 1292.37 1513.66 Z\" fill=\"#000000\" fill-rule=\"nonzero\" fill-opacity=\"1\" /><path clip-path=\"url(#clip750)\" d=\"M1735.44 1517.37 Q1731.83 1517.37 1730 1520.93 Q1728.19 1524.47 1728.19 1531.6 Q1728.19 1538.71 1730 1542.27 Q1731.83 1545.82 1735.44 1545.82 Q1739.07 1545.82 1740.88 1542.27 Q1742.71 1538.71 1742.71 1531.6 Q1742.71 1524.47 1740.88 1520.93 Q1739.07 1517.37 1735.44 1517.37 M1735.44 1513.66 Q1741.25 1513.66 1744.31 1518.27 Q1747.38 1522.85 1747.38 1531.6 Q1747.38 1540.33 1744.31 1544.94 Q1741.25 1549.52 1735.44 1549.52 Q1729.63 1549.52 1726.55 1544.94 Q1723.5 1540.33 1723.5 1531.6 Q1723.5 1522.85 1726.55 1518.27 Q1729.63 1513.66 1735.44 1513.66 Z\" fill=\"#000000\" fill-rule=\"nonzero\" fill-opacity=\"1\" /><path clip-path=\"url(#clip750)\" d=\"M1755.6 1542.97 L1760.49 1542.97 L1760.49 1548.85 L1755.6 1548.85 L1755.6 1542.97 Z\" fill=\"#000000\" fill-rule=\"nonzero\" fill-opacity=\"1\" /><path clip-path=\"url(#clip750)\" d=\"M1769.49 1514.29 L1791.71 1514.29 L1791.71 1516.28 L1779.17 1548.85 L1774.28 1548.85 L1786.09 1518.22 L1769.49 1518.22 L1769.49 1514.29 Z\" fill=\"#000000\" fill-rule=\"nonzero\" fill-opacity=\"1\" /><path clip-path=\"url(#clip750)\" d=\"M1800.88 1514.29 L1819.24 1514.29 L1819.24 1518.22 L1805.16 1518.22 L1805.16 1526.7 Q1806.18 1526.35 1807.2 1526.19 Q1808.22 1526 1809.24 1526 Q1815.02 1526 1818.4 1529.17 Q1821.78 1532.34 1821.78 1537.76 Q1821.78 1543.34 1818.31 1546.44 Q1814.84 1549.52 1808.52 1549.52 Q1806.34 1549.52 1804.07 1549.15 Q1801.83 1548.78 1799.42 1548.04 L1799.42 1543.34 Q1801.5 1544.47 1803.73 1545.03 Q1805.95 1545.58 1808.43 1545.58 Q1812.43 1545.58 1814.77 1543.48 Q1817.11 1541.37 1817.11 1537.76 Q1817.11 1534.15 1814.77 1532.04 Q1812.43 1529.94 1808.43 1529.94 Q1806.55 1529.94 1804.68 1530.35 Q1802.82 1530.77 1800.88 1531.65 L1800.88 1514.29 Z\" fill=\"#000000\" fill-rule=\"nonzero\" fill-opacity=\"1\" /><path clip-path=\"url(#clip750)\" d=\"M2242.67 1544.91 L2250.31 1544.91 L2250.31 1518.55 L2242 1520.21 L2242 1515.95 L2250.27 1514.29 L2254.94 1514.29 L2254.94 1544.91 L2262.58 1544.91 L2262.58 1548.85 L2242.67 1548.85 L2242.67 1544.91 Z\" fill=\"#000000\" fill-rule=\"nonzero\" fill-opacity=\"1\" /><path clip-path=\"url(#clip750)\" d=\"M2272.02 1542.97 L2276.91 1542.97 L2276.91 1548.85 L2272.02 1548.85 L2272.02 1542.97 Z\" fill=\"#000000\" fill-rule=\"nonzero\" fill-opacity=\"1\" /><path clip-path=\"url(#clip750)\" d=\"M2297.09 1517.37 Q2293.48 1517.37 2291.65 1520.93 Q2289.85 1524.47 2289.85 1531.6 Q2289.85 1538.71 2291.65 1542.27 Q2293.48 1545.82 2297.09 1545.82 Q2300.73 1545.82 2302.53 1542.27 Q2304.36 1538.71 2304.36 1531.6 Q2304.36 1524.47 2302.53 1520.93 Q2300.73 1517.37 2297.09 1517.37 M2297.09 1513.66 Q2302.9 1513.66 2305.96 1518.27 Q2309.04 1522.85 2309.04 1531.6 Q2309.04 1540.33 2305.96 1544.94 Q2302.9 1549.52 2297.09 1549.52 Q2291.28 1549.52 2288.2 1544.94 Q2285.15 1540.33 2285.15 1531.6 Q2285.15 1522.85 2288.2 1518.27 Q2291.28 1513.66 2297.09 1513.66 Z\" fill=\"#000000\" fill-rule=\"nonzero\" fill-opacity=\"1\" /><path clip-path=\"url(#clip750)\" d=\"M2327.26 1517.37 Q2323.64 1517.37 2321.82 1520.93 Q2320.01 1524.47 2320.01 1531.6 Q2320.01 1538.71 2321.82 1542.27 Q2323.64 1545.82 2327.26 1545.82 Q2330.89 1545.82 2332.7 1542.27 Q2334.52 1538.71 2334.52 1531.6 Q2334.52 1524.47 2332.7 1520.93 Q2330.89 1517.37 2327.26 1517.37 M2327.26 1513.66 Q2333.07 1513.66 2336.12 1518.27 Q2339.2 1522.85 2339.2 1531.6 Q2339.2 1540.33 2336.12 1544.94 Q2333.07 1549.52 2327.26 1549.52 Q2321.45 1549.52 2318.37 1544.94 Q2315.31 1540.33 2315.31 1531.6 Q2315.31 1522.85 2318.37 1518.27 Q2321.45 1513.66 2327.26 1513.66 Z\" fill=\"#000000\" fill-rule=\"nonzero\" fill-opacity=\"1\" /><polyline clip-path=\"url(#clip750)\" style=\"stroke:#000000; stroke-linecap:round; stroke-linejoin:round; stroke-width:4; stroke-opacity:1; fill:none\" points=\"156.598,1486.45 156.598,47.2441 \"/>\n",
       "<polyline clip-path=\"url(#clip750)\" style=\"stroke:#000000; stroke-linecap:round; stroke-linejoin:round; stroke-width:4; stroke-opacity:1; fill:none\" points=\"156.598,1445.72 175.496,1445.72 \"/>\n",
       "<polyline clip-path=\"url(#clip750)\" style=\"stroke:#000000; stroke-linecap:round; stroke-linejoin:round; stroke-width:4; stroke-opacity:1; fill:none\" points=\"156.598,1228.48 175.496,1228.48 \"/>\n",
       "<polyline clip-path=\"url(#clip750)\" style=\"stroke:#000000; stroke-linecap:round; stroke-linejoin:round; stroke-width:4; stroke-opacity:1; fill:none\" points=\"156.598,1011.24 175.496,1011.24 \"/>\n",
       "<polyline clip-path=\"url(#clip750)\" style=\"stroke:#000000; stroke-linecap:round; stroke-linejoin:round; stroke-width:4; stroke-opacity:1; fill:none\" points=\"156.598,794.001 175.496,794.001 \"/>\n",
       "<polyline clip-path=\"url(#clip750)\" style=\"stroke:#000000; stroke-linecap:round; stroke-linejoin:round; stroke-width:4; stroke-opacity:1; fill:none\" points=\"156.598,576.762 175.496,576.762 \"/>\n",
       "<polyline clip-path=\"url(#clip750)\" style=\"stroke:#000000; stroke-linecap:round; stroke-linejoin:round; stroke-width:4; stroke-opacity:1; fill:none\" points=\"156.598,359.524 175.496,359.524 \"/>\n",
       "<polyline clip-path=\"url(#clip750)\" style=\"stroke:#000000; stroke-linecap:round; stroke-linejoin:round; stroke-width:4; stroke-opacity:1; fill:none\" points=\"156.598,142.286 175.496,142.286 \"/>\n",
       "<path clip-path=\"url(#clip750)\" d=\"M63.4226 1431.51 Q59.8115 1431.51 57.9828 1435.08 Q56.1773 1438.62 56.1773 1445.75 Q56.1773 1452.86 57.9828 1456.42 Q59.8115 1459.96 63.4226 1459.96 Q67.0569 1459.96 68.8624 1456.42 Q70.6911 1452.86 70.6911 1445.75 Q70.6911 1438.62 68.8624 1435.08 Q67.0569 1431.51 63.4226 1431.51 M63.4226 1427.81 Q69.2328 1427.81 72.2883 1432.42 Q75.367 1437 75.367 1445.75 Q75.367 1454.48 72.2883 1459.08 Q69.2328 1463.67 63.4226 1463.67 Q57.6125 1463.67 54.5338 1459.08 Q51.4782 1454.48 51.4782 1445.75 Q51.4782 1437 54.5338 1432.42 Q57.6125 1427.81 63.4226 1427.81 Z\" fill=\"#000000\" fill-rule=\"nonzero\" fill-opacity=\"1\" /><path clip-path=\"url(#clip750)\" d=\"M83.5845 1457.12 L88.4688 1457.12 L88.4688 1463 L83.5845 1463 L83.5845 1457.12 Z\" fill=\"#000000\" fill-rule=\"nonzero\" fill-opacity=\"1\" /><path clip-path=\"url(#clip750)\" d=\"M108.654 1431.51 Q105.043 1431.51 103.214 1435.08 Q101.409 1438.62 101.409 1445.75 Q101.409 1452.86 103.214 1456.42 Q105.043 1459.96 108.654 1459.96 Q112.288 1459.96 114.094 1456.42 Q115.922 1452.86 115.922 1445.75 Q115.922 1438.62 114.094 1435.08 Q112.288 1431.51 108.654 1431.51 M108.654 1427.81 Q114.464 1427.81 117.52 1432.42 Q120.598 1437 120.598 1445.75 Q120.598 1454.48 117.52 1459.08 Q114.464 1463.67 108.654 1463.67 Q102.844 1463.67 99.765 1459.08 Q96.7095 1454.48 96.7095 1445.75 Q96.7095 1437 99.765 1432.42 Q102.844 1427.81 108.654 1427.81 Z\" fill=\"#000000\" fill-rule=\"nonzero\" fill-opacity=\"1\" /><path clip-path=\"url(#clip750)\" d=\"M64.6495 1214.28 Q61.0384 1214.28 59.2097 1217.84 Q57.4041 1221.38 57.4041 1228.51 Q57.4041 1235.62 59.2097 1239.18 Q61.0384 1242.72 64.6495 1242.72 Q68.2837 1242.72 70.0892 1239.18 Q71.9179 1235.62 71.9179 1228.51 Q71.9179 1221.38 70.0892 1217.84 Q68.2837 1214.28 64.6495 1214.28 M64.6495 1210.57 Q70.4596 1210.57 73.5152 1215.18 Q76.5938 1219.76 76.5938 1228.51 Q76.5938 1237.24 73.5152 1241.85 Q70.4596 1246.43 64.6495 1246.43 Q58.8393 1246.43 55.7606 1241.85 Q52.7051 1237.24 52.7051 1228.51 Q52.7051 1219.76 55.7606 1215.18 Q58.8393 1210.57 64.6495 1210.57 Z\" fill=\"#000000\" fill-rule=\"nonzero\" fill-opacity=\"1\" /><path clip-path=\"url(#clip750)\" d=\"M84.8114 1239.88 L89.6956 1239.88 L89.6956 1245.76 L84.8114 1245.76 L84.8114 1239.88 Z\" fill=\"#000000\" fill-rule=\"nonzero\" fill-opacity=\"1\" /><path clip-path=\"url(#clip750)\" d=\"M100.691 1241.82 L108.33 1241.82 L108.33 1215.46 L100.02 1217.12 L100.02 1212.86 L108.283 1211.2 L112.959 1211.2 L112.959 1241.82 L120.598 1241.82 L120.598 1245.76 L100.691 1245.76 L100.691 1241.82 Z\" fill=\"#000000\" fill-rule=\"nonzero\" fill-opacity=\"1\" /><path clip-path=\"url(#clip750)\" d=\"M65.0198 997.038 Q61.4087 997.038 59.58 1000.6 Q57.7745 1004.14 57.7745 1011.27 Q57.7745 1018.38 59.58 1021.95 Q61.4087 1025.49 65.0198 1025.49 Q68.6541 1025.49 70.4596 1021.95 Q72.2883 1018.38 72.2883 1011.27 Q72.2883 1004.14 70.4596 1000.6 Q68.6541 997.038 65.0198 997.038 M65.0198 993.334 Q70.83 993.334 73.8855 997.941 Q76.9642 1002.52 76.9642 1011.27 Q76.9642 1020 73.8855 1024.61 Q70.83 1029.19 65.0198 1029.19 Q59.2097 1029.19 56.131 1024.61 Q53.0754 1020 53.0754 1011.27 Q53.0754 1002.52 56.131 997.941 Q59.2097 993.334 65.0198 993.334 Z\" fill=\"#000000\" fill-rule=\"nonzero\" fill-opacity=\"1\" /><path clip-path=\"url(#clip750)\" d=\"M85.1818 1022.64 L90.066 1022.64 L90.066 1028.52 L85.1818 1028.52 L85.1818 1022.64 Z\" fill=\"#000000\" fill-rule=\"nonzero\" fill-opacity=\"1\" /><path clip-path=\"url(#clip750)\" d=\"M104.279 1024.58 L120.598 1024.58 L120.598 1028.52 L98.6539 1028.52 L98.6539 1024.58 Q101.316 1021.83 105.899 1017.2 Q110.506 1012.55 111.686 1011.2 Q113.932 1008.68 114.811 1006.95 Q115.714 1005.19 115.714 1003.5 Q115.714 1000.74 113.77 999.005 Q111.848 997.269 108.746 997.269 Q106.547 997.269 104.094 998.033 Q101.663 998.797 98.8854 1000.35 L98.8854 995.626 Q101.709 994.491 104.163 993.913 Q106.617 993.334 108.654 993.334 Q114.024 993.334 117.219 996.019 Q120.413 998.704 120.413 1003.2 Q120.413 1005.32 119.603 1007.25 Q118.816 1009.14 116.709 1011.74 Q116.131 1012.41 113.029 1015.63 Q109.927 1018.82 104.279 1024.58 Z\" fill=\"#000000\" fill-rule=\"nonzero\" fill-opacity=\"1\" /><path clip-path=\"url(#clip750)\" d=\"M64.0708 779.799 Q60.4597 779.799 58.631 783.364 Q56.8254 786.906 56.8254 794.035 Q56.8254 801.142 58.631 804.707 Q60.4597 808.248 64.0708 808.248 Q67.705 808.248 69.5105 804.707 Q71.3392 801.142 71.3392 794.035 Q71.3392 786.906 69.5105 783.364 Q67.705 779.799 64.0708 779.799 M64.0708 776.096 Q69.8809 776.096 72.9365 780.702 Q76.0151 785.286 76.0151 794.035 Q76.0151 802.762 72.9365 807.369 Q69.8809 811.952 64.0708 811.952 Q58.2606 811.952 55.1819 807.369 Q52.1264 802.762 52.1264 794.035 Q52.1264 785.286 55.1819 780.702 Q58.2606 776.096 64.0708 776.096 Z\" fill=\"#000000\" fill-rule=\"nonzero\" fill-opacity=\"1\" /><path clip-path=\"url(#clip750)\" d=\"M84.2327 805.401 L89.1169 805.401 L89.1169 811.281 L84.2327 811.281 L84.2327 805.401 Z\" fill=\"#000000\" fill-rule=\"nonzero\" fill-opacity=\"1\" /><path clip-path=\"url(#clip750)\" d=\"M113.469 792.647 Q116.825 793.364 118.7 795.633 Q120.598 797.901 120.598 801.235 Q120.598 806.35 117.08 809.151 Q113.561 811.952 107.08 811.952 Q104.904 811.952 102.589 811.512 Q100.297 811.096 97.8437 810.239 L97.8437 805.725 Q99.7882 806.859 102.103 807.438 Q104.418 808.017 106.941 808.017 Q111.339 808.017 113.631 806.281 Q115.945 804.545 115.945 801.235 Q115.945 798.179 113.793 796.466 Q111.663 794.73 107.844 794.73 L103.816 794.73 L103.816 790.887 L108.029 790.887 Q111.478 790.887 113.307 789.522 Q115.135 788.133 115.135 785.54 Q115.135 782.878 113.237 781.466 Q111.362 780.031 107.844 780.031 Q105.922 780.031 103.723 780.448 Q101.524 780.864 98.8854 781.744 L98.8854 777.577 Q101.547 776.837 103.862 776.466 Q106.2 776.096 108.26 776.096 Q113.584 776.096 116.686 778.526 Q119.788 780.934 119.788 785.054 Q119.788 787.924 118.145 789.915 Q116.501 791.883 113.469 792.647 Z\" fill=\"#000000\" fill-rule=\"nonzero\" fill-opacity=\"1\" /><path clip-path=\"url(#clip750)\" d=\"M62.9365 562.561 Q59.3254 562.561 57.4967 566.126 Q55.6912 569.668 55.6912 576.797 Q55.6912 583.904 57.4967 587.468 Q59.3254 591.01 62.9365 591.01 Q66.5707 591.01 68.3763 587.468 Q70.205 583.904 70.205 576.797 Q70.205 569.668 68.3763 566.126 Q66.5707 562.561 62.9365 562.561 M62.9365 558.857 Q68.7467 558.857 71.8022 563.464 Q74.8809 568.047 74.8809 576.797 Q74.8809 585.524 71.8022 590.13 Q68.7467 594.714 62.9365 594.714 Q57.1264 594.714 54.0477 590.13 Q50.9921 585.524 50.9921 576.797 Q50.9921 568.047 54.0477 563.464 Q57.1264 558.857 62.9365 558.857 Z\" fill=\"#000000\" fill-rule=\"nonzero\" fill-opacity=\"1\" /><path clip-path=\"url(#clip750)\" d=\"M83.0984 588.163 L87.9827 588.163 L87.9827 594.042 L83.0984 594.042 L83.0984 588.163 Z\" fill=\"#000000\" fill-rule=\"nonzero\" fill-opacity=\"1\" /><path clip-path=\"url(#clip750)\" d=\"M111.015 563.557 L99.2095 582.005 L111.015 582.005 L111.015 563.557 M109.788 559.482 L115.668 559.482 L115.668 582.005 L120.598 582.005 L120.598 585.894 L115.668 585.894 L115.668 594.042 L111.015 594.042 L111.015 585.894 L95.4132 585.894 L95.4132 581.38 L109.788 559.482 Z\" fill=\"#000000\" fill-rule=\"nonzero\" fill-opacity=\"1\" /><path clip-path=\"url(#clip750)\" d=\"M64.418 345.323 Q60.8069 345.323 58.9782 348.888 Q57.1726 352.429 57.1726 359.559 Q57.1726 366.665 58.9782 370.23 Q60.8069 373.772 64.418 373.772 Q68.0522 373.772 69.8578 370.23 Q71.6865 366.665 71.6865 359.559 Q71.6865 352.429 69.8578 348.888 Q68.0522 345.323 64.418 345.323 M64.418 341.619 Q70.2281 341.619 73.2837 346.226 Q76.3624 350.809 76.3624 359.559 Q76.3624 368.286 73.2837 372.892 Q70.2281 377.475 64.418 377.475 Q58.6078 377.475 55.5291 372.892 Q52.4736 368.286 52.4736 359.559 Q52.4736 350.809 55.5291 346.226 Q58.6078 341.619 64.418 341.619 Z\" fill=\"#000000\" fill-rule=\"nonzero\" fill-opacity=\"1\" /><path clip-path=\"url(#clip750)\" d=\"M84.5799 370.925 L89.4641 370.925 L89.4641 376.804 L84.5799 376.804 L84.5799 370.925 Z\" fill=\"#000000\" fill-rule=\"nonzero\" fill-opacity=\"1\" /><path clip-path=\"url(#clip750)\" d=\"M99.6956 342.244 L118.052 342.244 L118.052 346.179 L103.978 346.179 L103.978 354.652 Q104.996 354.304 106.015 354.142 Q107.033 353.957 108.052 353.957 Q113.839 353.957 117.219 357.128 Q120.598 360.3 120.598 365.716 Q120.598 371.295 117.126 374.397 Q113.654 377.475 107.334 377.475 Q105.159 377.475 102.89 377.105 Q100.645 376.735 98.2372 375.994 L98.2372 371.295 Q100.321 372.429 102.543 372.985 Q104.765 373.54 107.242 373.54 Q111.246 373.54 113.584 371.434 Q115.922 369.327 115.922 365.716 Q115.922 362.105 113.584 359.999 Q111.246 357.892 107.242 357.892 Q105.367 357.892 103.492 358.309 Q101.64 358.726 99.6956 359.605 L99.6956 342.244 Z\" fill=\"#000000\" fill-rule=\"nonzero\" fill-opacity=\"1\" /><path clip-path=\"url(#clip750)\" d=\"M63.2606 128.085 Q59.6495 128.085 57.8208 131.649 Q56.0152 135.191 56.0152 142.321 Q56.0152 149.427 57.8208 152.992 Q59.6495 156.533 63.2606 156.533 Q66.8948 156.533 68.7004 152.992 Q70.5291 149.427 70.5291 142.321 Q70.5291 135.191 68.7004 131.649 Q66.8948 128.085 63.2606 128.085 M63.2606 124.381 Q69.0707 124.381 72.1263 128.987 Q75.205 133.571 75.205 142.321 Q75.205 151.047 72.1263 155.654 Q69.0707 160.237 63.2606 160.237 Q57.4504 160.237 54.3717 155.654 Q51.3162 151.047 51.3162 142.321 Q51.3162 133.571 54.3717 128.987 Q57.4504 124.381 63.2606 124.381 Z\" fill=\"#000000\" fill-rule=\"nonzero\" fill-opacity=\"1\" /><path clip-path=\"url(#clip750)\" d=\"M83.4225 153.686 L88.3067 153.686 L88.3067 159.566 L83.4225 159.566 L83.4225 153.686 Z\" fill=\"#000000\" fill-rule=\"nonzero\" fill-opacity=\"1\" /><path clip-path=\"url(#clip750)\" d=\"M109.071 140.422 Q105.922 140.422 104.071 142.575 Q102.242 144.728 102.242 148.478 Q102.242 152.205 104.071 154.381 Q105.922 156.533 109.071 156.533 Q112.219 156.533 114.047 154.381 Q115.899 152.205 115.899 148.478 Q115.899 144.728 114.047 142.575 Q112.219 140.422 109.071 140.422 M118.353 125.77 L118.353 130.029 Q116.594 129.196 114.788 128.756 Q113.006 128.316 111.246 128.316 Q106.617 128.316 104.163 131.441 Q101.733 134.566 101.385 140.885 Q102.751 138.872 104.811 137.807 Q106.871 136.719 109.348 136.719 Q114.557 136.719 117.566 139.89 Q120.598 143.038 120.598 148.478 Q120.598 153.802 117.45 157.02 Q114.302 160.237 109.071 160.237 Q103.075 160.237 99.9039 155.654 Q96.7326 151.047 96.7326 142.321 Q96.7326 134.126 100.621 129.265 Q104.51 124.381 111.061 124.381 Q112.82 124.381 114.603 124.728 Q116.408 125.075 118.353 125.77 Z\" fill=\"#000000\" fill-rule=\"nonzero\" fill-opacity=\"1\" /><polyline clip-path=\"url(#clip752)\" style=\"stroke:#009af9; stroke-linecap:round; stroke-linejoin:round; stroke-width:4; stroke-opacity:1; fill:none\" points=\"218.754,1445.72 736.715,902.62 1254.68,1174.17 1772.64,1038.39 2290.6,87.9763 \"/>\n",
       "<circle clip-path=\"url(#clip752)\" cx=\"218.754\" cy=\"1445.72\" r=\"10.8\" fill=\"#009af9\" fill-rule=\"evenodd\" fill-opacity=\"1\" stroke=\"#000000\" stroke-opacity=\"1\" stroke-width=\"3.2\"/>\n",
       "<circle clip-path=\"url(#clip752)\" cx=\"736.715\" cy=\"902.62\" r=\"10.8\" fill=\"#009af9\" fill-rule=\"evenodd\" fill-opacity=\"1\" stroke=\"#000000\" stroke-opacity=\"1\" stroke-width=\"3.2\"/>\n",
       "<circle clip-path=\"url(#clip752)\" cx=\"1254.68\" cy=\"1174.17\" r=\"10.8\" fill=\"#009af9\" fill-rule=\"evenodd\" fill-opacity=\"1\" stroke=\"#000000\" stroke-opacity=\"1\" stroke-width=\"3.2\"/>\n",
       "<circle clip-path=\"url(#clip752)\" cx=\"1772.64\" cy=\"1038.39\" r=\"10.8\" fill=\"#009af9\" fill-rule=\"evenodd\" fill-opacity=\"1\" stroke=\"#000000\" stroke-opacity=\"1\" stroke-width=\"3.2\"/>\n",
       "<circle clip-path=\"url(#clip752)\" cx=\"2290.6\" cy=\"87.9763\" r=\"10.8\" fill=\"#009af9\" fill-rule=\"evenodd\" fill-opacity=\"1\" stroke=\"#000000\" stroke-opacity=\"1\" stroke-width=\"3.2\"/>\n",
       "<polyline clip-path=\"url(#clip752)\" style=\"stroke:#e26f46; stroke-linecap:round; stroke-linejoin:round; stroke-width:4; stroke-opacity:1; fill:none\" points=\"218.754,1445.72 477.734,1377.83 736.715,1208.11 995.696,1276 1254.68,1038.39 1513.66,1276 1772.64,1174.17 2031.62,1242.05 2290.6,868.676 \"/>\n",
       "<circle clip-path=\"url(#clip752)\" cx=\"218.754\" cy=\"1445.72\" r=\"10.8\" fill=\"#e26f46\" fill-rule=\"evenodd\" fill-opacity=\"1\" stroke=\"#000000\" stroke-opacity=\"1\" stroke-width=\"3.2\"/>\n",
       "<circle clip-path=\"url(#clip752)\" cx=\"477.734\" cy=\"1377.83\" r=\"10.8\" fill=\"#e26f46\" fill-rule=\"evenodd\" fill-opacity=\"1\" stroke=\"#000000\" stroke-opacity=\"1\" stroke-width=\"3.2\"/>\n",
       "<circle clip-path=\"url(#clip752)\" cx=\"736.715\" cy=\"1208.11\" r=\"10.8\" fill=\"#e26f46\" fill-rule=\"evenodd\" fill-opacity=\"1\" stroke=\"#000000\" stroke-opacity=\"1\" stroke-width=\"3.2\"/>\n",
       "<circle clip-path=\"url(#clip752)\" cx=\"995.696\" cy=\"1276\" r=\"10.8\" fill=\"#e26f46\" fill-rule=\"evenodd\" fill-opacity=\"1\" stroke=\"#000000\" stroke-opacity=\"1\" stroke-width=\"3.2\"/>\n",
       "<circle clip-path=\"url(#clip752)\" cx=\"1254.68\" cy=\"1038.39\" r=\"10.8\" fill=\"#e26f46\" fill-rule=\"evenodd\" fill-opacity=\"1\" stroke=\"#000000\" stroke-opacity=\"1\" stroke-width=\"3.2\"/>\n",
       "<circle clip-path=\"url(#clip752)\" cx=\"1513.66\" cy=\"1276\" r=\"10.8\" fill=\"#e26f46\" fill-rule=\"evenodd\" fill-opacity=\"1\" stroke=\"#000000\" stroke-opacity=\"1\" stroke-width=\"3.2\"/>\n",
       "<circle clip-path=\"url(#clip752)\" cx=\"1772.64\" cy=\"1174.17\" r=\"10.8\" fill=\"#e26f46\" fill-rule=\"evenodd\" fill-opacity=\"1\" stroke=\"#000000\" stroke-opacity=\"1\" stroke-width=\"3.2\"/>\n",
       "<circle clip-path=\"url(#clip752)\" cx=\"2031.62\" cy=\"1242.05\" r=\"10.8\" fill=\"#e26f46\" fill-rule=\"evenodd\" fill-opacity=\"1\" stroke=\"#000000\" stroke-opacity=\"1\" stroke-width=\"3.2\"/>\n",
       "<circle clip-path=\"url(#clip752)\" cx=\"2290.6\" cy=\"868.676\" r=\"10.8\" fill=\"#e26f46\" fill-rule=\"evenodd\" fill-opacity=\"1\" stroke=\"#000000\" stroke-opacity=\"1\" stroke-width=\"3.2\"/>\n",
       "<polyline clip-path=\"url(#clip752)\" style=\"stroke:#3da44d; stroke-linecap:round; stroke-linejoin:round; stroke-width:4; stroke-opacity:1; fill:none\" points=\"218.754,1445.72 391.408,1221.54 564.061,1179.45 736.715,1136.45 909.369,1106.73 1082.02,1064.49 1254.68,1015.01 1427.33,1016.67 1599.98,992.382 1772.64,992.985 1945.29,973.072 2117.95,957.986 2290.6,946.671 \"/>\n",
       "<circle clip-path=\"url(#clip752)\" cx=\"218.754\" cy=\"1445.72\" r=\"10.8\" fill=\"#3da44d\" fill-rule=\"evenodd\" fill-opacity=\"1\" stroke=\"#000000\" stroke-opacity=\"1\" stroke-width=\"3.2\"/>\n",
       "<circle clip-path=\"url(#clip752)\" cx=\"391.408\" cy=\"1221.54\" r=\"10.8\" fill=\"#3da44d\" fill-rule=\"evenodd\" fill-opacity=\"1\" stroke=\"#000000\" stroke-opacity=\"1\" stroke-width=\"3.2\"/>\n",
       "<circle clip-path=\"url(#clip752)\" cx=\"564.061\" cy=\"1179.45\" r=\"10.8\" fill=\"#3da44d\" fill-rule=\"evenodd\" fill-opacity=\"1\" stroke=\"#000000\" stroke-opacity=\"1\" stroke-width=\"3.2\"/>\n",
       "<circle clip-path=\"url(#clip752)\" cx=\"736.715\" cy=\"1136.45\" r=\"10.8\" fill=\"#3da44d\" fill-rule=\"evenodd\" fill-opacity=\"1\" stroke=\"#000000\" stroke-opacity=\"1\" stroke-width=\"3.2\"/>\n",
       "<circle clip-path=\"url(#clip752)\" cx=\"909.369\" cy=\"1106.73\" r=\"10.8\" fill=\"#3da44d\" fill-rule=\"evenodd\" fill-opacity=\"1\" stroke=\"#000000\" stroke-opacity=\"1\" stroke-width=\"3.2\"/>\n",
       "<circle clip-path=\"url(#clip752)\" cx=\"1082.02\" cy=\"1064.49\" r=\"10.8\" fill=\"#3da44d\" fill-rule=\"evenodd\" fill-opacity=\"1\" stroke=\"#000000\" stroke-opacity=\"1\" stroke-width=\"3.2\"/>\n",
       "<circle clip-path=\"url(#clip752)\" cx=\"1254.68\" cy=\"1015.01\" r=\"10.8\" fill=\"#3da44d\" fill-rule=\"evenodd\" fill-opacity=\"1\" stroke=\"#000000\" stroke-opacity=\"1\" stroke-width=\"3.2\"/>\n",
       "<circle clip-path=\"url(#clip752)\" cx=\"1427.33\" cy=\"1016.67\" r=\"10.8\" fill=\"#3da44d\" fill-rule=\"evenodd\" fill-opacity=\"1\" stroke=\"#000000\" stroke-opacity=\"1\" stroke-width=\"3.2\"/>\n",
       "<circle clip-path=\"url(#clip752)\" cx=\"1599.98\" cy=\"992.382\" r=\"10.8\" fill=\"#3da44d\" fill-rule=\"evenodd\" fill-opacity=\"1\" stroke=\"#000000\" stroke-opacity=\"1\" stroke-width=\"3.2\"/>\n",
       "<circle clip-path=\"url(#clip752)\" cx=\"1772.64\" cy=\"992.985\" r=\"10.8\" fill=\"#3da44d\" fill-rule=\"evenodd\" fill-opacity=\"1\" stroke=\"#000000\" stroke-opacity=\"1\" stroke-width=\"3.2\"/>\n",
       "<circle clip-path=\"url(#clip752)\" cx=\"1945.29\" cy=\"973.072\" r=\"10.8\" fill=\"#3da44d\" fill-rule=\"evenodd\" fill-opacity=\"1\" stroke=\"#000000\" stroke-opacity=\"1\" stroke-width=\"3.2\"/>\n",
       "<circle clip-path=\"url(#clip752)\" cx=\"2117.95\" cy=\"957.986\" r=\"10.8\" fill=\"#3da44d\" fill-rule=\"evenodd\" fill-opacity=\"1\" stroke=\"#000000\" stroke-opacity=\"1\" stroke-width=\"3.2\"/>\n",
       "<circle clip-path=\"url(#clip752)\" cx=\"2290.6\" cy=\"946.671\" r=\"10.8\" fill=\"#3da44d\" fill-rule=\"evenodd\" fill-opacity=\"1\" stroke=\"#000000\" stroke-opacity=\"1\" stroke-width=\"3.2\"/>\n",
       "<path clip-path=\"url(#clip750)\" d=\"M229.803 302.578 L566.479 302.578 L566.479 95.2176 L229.803 95.2176  Z\" fill=\"#ffffff\" fill-rule=\"evenodd\" fill-opacity=\"1\"/>\n",
       "<polyline clip-path=\"url(#clip750)\" style=\"stroke:#000000; stroke-linecap:round; stroke-linejoin:round; stroke-width:4; stroke-opacity:1; fill:none\" points=\"229.803,302.578 566.479,302.578 566.479,95.2176 229.803,95.2176 229.803,302.578 \"/>\n",
       "<polyline clip-path=\"url(#clip750)\" style=\"stroke:#009af9; stroke-linecap:round; stroke-linejoin:round; stroke-width:4; stroke-opacity:1; fill:none\" points=\"254.205,147.058 400.616,147.058 \"/>\n",
       "<circle clip-path=\"url(#clip750)\" cx=\"327.41\" cy=\"147.058\" r=\"19.7486\" fill=\"#009af9\" fill-rule=\"evenodd\" fill-opacity=\"1\" stroke=\"#000000\" stroke-opacity=\"1\" stroke-width=\"5.85143\"/>\n",
       "<path clip-path=\"url(#clip750)\" d=\"M425.018 129.778 L429.693 129.778 L429.693 160.402 L446.522 160.402 L446.522 164.338 L425.018 164.338 L425.018 129.778 Z\" fill=\"#000000\" fill-rule=\"nonzero\" fill-opacity=\"1\" /><path clip-path=\"url(#clip750)\" d=\"M451.8 142.81 L481.476 142.81 L481.476 146.699 L451.8 146.699 L451.8 142.81 M451.8 152.254 L481.476 152.254 L481.476 156.189 L451.8 156.189 L451.8 152.254 Z\" fill=\"#000000\" fill-rule=\"nonzero\" fill-opacity=\"1\" /><path clip-path=\"url(#clip750)\" d=\"M504.415 133.852 L492.61 152.301 L504.415 152.301 L504.415 133.852 M503.188 129.778 L509.068 129.778 L509.068 152.301 L513.999 152.301 L513.999 156.189 L509.068 156.189 L509.068 164.338 L504.415 164.338 L504.415 156.189 L488.813 156.189 L488.813 151.676 L503.188 129.778 Z\" fill=\"#000000\" fill-rule=\"nonzero\" fill-opacity=\"1\" /><polyline clip-path=\"url(#clip750)\" style=\"stroke:#e26f46; stroke-linecap:round; stroke-linejoin:round; stroke-width:4; stroke-opacity:1; fill:none\" points=\"254.205,198.898 400.616,198.898 \"/>\n",
       "<circle clip-path=\"url(#clip750)\" cx=\"327.41\" cy=\"198.898\" r=\"19.7486\" fill=\"#e26f46\" fill-rule=\"evenodd\" fill-opacity=\"1\" stroke=\"#000000\" stroke-opacity=\"1\" stroke-width=\"5.85143\"/>\n",
       "<path clip-path=\"url(#clip750)\" d=\"M425.018 181.618 L429.693 181.618 L429.693 212.242 L446.522 212.242 L446.522 216.178 L425.018 216.178 L425.018 181.618 Z\" fill=\"#000000\" fill-rule=\"nonzero\" fill-opacity=\"1\" /><path clip-path=\"url(#clip750)\" d=\"M451.8 194.65 L481.476 194.65 L481.476 198.539 L451.8 198.539 L451.8 194.65 M451.8 204.094 L481.476 204.094 L481.476 208.029 L451.8 208.029 L451.8 204.094 Z\" fill=\"#000000\" fill-rule=\"nonzero\" fill-opacity=\"1\" /><path clip-path=\"url(#clip750)\" d=\"M501.568 199.766 Q498.235 199.766 496.313 201.548 Q494.415 203.33 494.415 206.455 Q494.415 209.58 496.313 211.363 Q498.235 213.145 501.568 213.145 Q504.901 213.145 506.823 211.363 Q508.744 209.557 508.744 206.455 Q508.744 203.33 506.823 201.548 Q504.924 199.766 501.568 199.766 M496.892 197.775 Q493.883 197.034 492.193 194.974 Q490.526 192.914 490.526 189.951 Q490.526 185.807 493.466 183.4 Q496.429 180.993 501.568 180.993 Q506.73 180.993 509.67 183.4 Q512.61 185.807 512.61 189.951 Q512.61 192.914 510.92 194.974 Q509.253 197.034 506.267 197.775 Q509.647 198.562 511.522 200.854 Q513.42 203.145 513.42 206.455 Q513.42 211.479 510.341 214.164 Q507.286 216.849 501.568 216.849 Q495.85 216.849 492.772 214.164 Q489.716 211.479 489.716 206.455 Q489.716 203.145 491.614 200.854 Q493.513 198.562 496.892 197.775 M495.179 190.391 Q495.179 193.076 496.846 194.58 Q498.536 196.085 501.568 196.085 Q504.577 196.085 506.267 194.58 Q507.98 193.076 507.98 190.391 Q507.98 187.705 506.267 186.201 Q504.577 184.696 501.568 184.696 Q498.536 184.696 496.846 186.201 Q495.179 187.705 495.179 190.391 Z\" fill=\"#000000\" fill-rule=\"nonzero\" fill-opacity=\"1\" /><polyline clip-path=\"url(#clip750)\" style=\"stroke:#3da44d; stroke-linecap:round; stroke-linejoin:round; stroke-width:4; stroke-opacity:1; fill:none\" points=\"254.205,250.738 400.616,250.738 \"/>\n",
       "<circle clip-path=\"url(#clip750)\" cx=\"327.41\" cy=\"250.738\" r=\"19.7486\" fill=\"#3da44d\" fill-rule=\"evenodd\" fill-opacity=\"1\" stroke=\"#000000\" stroke-opacity=\"1\" stroke-width=\"5.85143\"/>\n",
       "<path clip-path=\"url(#clip750)\" d=\"M425.018 233.458 L429.693 233.458 L429.693 264.082 L446.522 264.082 L446.522 268.018 L425.018 268.018 L425.018 233.458 Z\" fill=\"#000000\" fill-rule=\"nonzero\" fill-opacity=\"1\" /><path clip-path=\"url(#clip750)\" d=\"M451.8 246.49 L481.476 246.49 L481.476 250.379 L451.8 250.379 L451.8 246.49 M451.8 255.934 L481.476 255.934 L481.476 259.869 L451.8 259.869 L451.8 255.934 Z\" fill=\"#000000\" fill-rule=\"nonzero\" fill-opacity=\"1\" /><path clip-path=\"url(#clip750)\" d=\"M492.378 264.082 L500.017 264.082 L500.017 237.717 L491.707 239.383 L491.707 235.124 L499.971 233.458 L504.647 233.458 L504.647 264.082 L512.286 264.082 L512.286 268.018 L492.378 268.018 L492.378 264.082 Z\" fill=\"#000000\" fill-rule=\"nonzero\" fill-opacity=\"1\" /><path clip-path=\"url(#clip750)\" d=\"M525.758 264.082 L542.077 264.082 L542.077 268.018 L520.133 268.018 L520.133 264.082 Q522.795 261.328 527.378 256.698 Q531.985 252.045 533.165 250.703 Q535.41 248.18 536.29 246.444 Q537.193 244.684 537.193 242.995 Q537.193 240.24 535.248 238.504 Q533.327 236.768 530.225 236.768 Q528.026 236.768 525.573 237.532 Q523.142 238.295 520.364 239.846 L520.364 235.124 Q523.188 233.99 525.642 233.411 Q528.096 232.833 530.133 232.833 Q535.503 232.833 538.697 235.518 Q541.892 238.203 541.892 242.694 Q541.892 244.823 541.082 246.745 Q540.295 248.643 538.188 251.235 Q537.609 251.907 534.508 255.124 Q531.406 258.319 525.758 264.082 Z\" fill=\"#000000\" fill-rule=\"nonzero\" fill-opacity=\"1\" /></svg>\n"
      ]
     },
     "metadata": {},
     "output_type": "display_data"
    }
   ],
   "source": [
    "peff = 0.2\n",
    "q = 0.2\n",
    "p = 0.05\n",
    "\n",
    "plt = plot()\n",
    "for L in 4:4:12\n",
    "    T = L\n",
    "    xs = collect(0:T)\n",
    "    ys = data[(L, T, p, peff, q)]\n",
    "    plot!(plt, xs/L, ys, label=\"L=$L\", m=3)\n",
    "end\n",
    "plt"
   ]
  },
  {
   "cell_type": "code",
   "execution_count": 403,
   "id": "88f5feaf",
   "metadata": {},
   "outputs": [
    {
     "ename": "KeyError",
     "evalue": "KeyError: key (4, 8, 0.2, 0.25, 0.1) not found",
     "output_type": "error",
     "traceback": [
      "KeyError: key (4, 8, 0.2, 0.25, 0.1) not found\n",
      "\n",
      "Stacktrace:\n",
      " [1] getindex(h::Dict{Tuple{Int64, Int64, Float64, Float64, Float64}, Vector{Float64}}, key::Tuple{Int64, Int64, Float64, Float64, Float64})\n",
      "   @ Base ./dict.jl:477\n",
      " [2] (::var\"#200#201\"{Int64})(peff::Float64)\n",
      "   @ Main ./none:0\n",
      " [3] iterate\n",
      "   @ ./generator.jl:48 [inlined]\n",
      " [4] collect_to!(dest::Vector{Float64}, itr::Base.Generator{StepRangeLen{Float64, Base.TwicePrecision{Float64}, Base.TwicePrecision{Float64}, Int64}, var\"#200#201\"{Int64}}, offs::Int64, st::Int64)\n",
      "   @ Base ./array.jl:849\n",
      " [5] collect_to_with_first!(dest::Vector{Float64}, v1::Float64, itr::Base.Generator{StepRangeLen{Float64, Base.TwicePrecision{Float64}, Base.TwicePrecision{Float64}, Int64}, var\"#200#201\"{Int64}}, st::Int64)\n",
      "   @ Base ./array.jl:827\n",
      " [6] collect(itr::Base.Generator{StepRangeLen{Float64, Base.TwicePrecision{Float64}, Base.TwicePrecision{Float64}, Int64}, var\"#200#201\"{Int64}})\n",
      "   @ Base ./array.jl:801\n",
      " [7] top-level scope\n",
      "   @ ~/Code/single_shot/jl_notebook_cell_df34fa98e69747e1a8f8a730347b8e2f_Y164sZmlsZQ==.jl:8"
     ]
    }
   ],
   "source": [
    "plt = plot()\n",
    "for L in 4:4:12\n",
    "    T = 2L\n",
    "    q = 0.1\n",
    "    p = 0.2\n",
    "\n",
    "    peffs = 0.2:0.05:0.5\n",
    "    ys = [data[(L,T,p,peff,q)][L] for peff in peffs]\n",
    "\n",
    "    plot!(plt, peffs, ys, m=3, label=\"L=$L\")\n",
    "end\n",
    "plt"
   ]
  },
  {
   "cell_type": "code",
   "execution_count": 406,
   "id": "0c762a06",
   "metadata": {},
   "outputs": [
    {
     "data": {
      "image/png": "[encoded data removed]",
      "image/svg+xml": [
       "<?xml version=\"1.0\" encoding=\"utf-8\"?>\n",
       "<svg xmlns=\"http://www.w3.org/2000/svg\" xmlns:xlink=\"http://www.w3.org/1999/xlink\" width=\"600\" height=\"400\" viewBox=\"0 0 2400 1600\">\n",
       "<defs>\n",
       "  <clipPath id=\"clip970\">\n",
       "    <rect x=\"0\" y=\"0\" width=\"2400\" height=\"1600\"/>\n",
       "  </clipPath>\n",
       "</defs>\n",
       "<path clip-path=\"url(#clip970)\" d=\"M0 1600 L2400 1600 L2400 8.88178e-14 L0 8.88178e-14  Z\" fill=\"#ffffff\" fill-rule=\"evenodd\" fill-opacity=\"1\"/>\n",
       "<defs>\n",
       "  <clipPath id=\"clip971\">\n",
       "    <rect x=\"480\" y=\"0\" width=\"1681\" height=\"1600\"/>\n",
       "  </clipPath>\n",
       "</defs>\n",
       "<path clip-path=\"url(#clip970)\" d=\"M156.598 1486.45 L2352.76 1486.45 L2352.76 47.2441 L156.598 47.2441  Z\" fill=\"#ffffff\" fill-rule=\"evenodd\" fill-opacity=\"1\"/>\n",
       "<defs>\n",
       "  <clipPath id=\"clip972\">\n",
       "    <rect x=\"156\" y=\"47\" width=\"2197\" height=\"1440\"/>\n",
       "  </clipPath>\n",
       "</defs>\n",
       "<polyline clip-path=\"url(#clip972)\" style=\"stroke:#000000; stroke-linecap:round; stroke-linejoin:round; stroke-width:2; stroke-opacity:0.1; fill:none\" points=\"218.754,1486.45 218.754,47.2441 \"/>\n",
       "<polyline clip-path=\"url(#clip972)\" style=\"stroke:#000000; stroke-linecap:round; stroke-linejoin:round; stroke-width:2; stroke-opacity:0.1; fill:none\" points=\"633.123,1486.45 633.123,47.2441 \"/>\n",
       "<polyline clip-path=\"url(#clip972)\" style=\"stroke:#000000; stroke-linecap:round; stroke-linejoin:round; stroke-width:2; stroke-opacity:0.1; fill:none\" points=\"1047.49,1486.45 1047.49,47.2441 \"/>\n",
       "<polyline clip-path=\"url(#clip972)\" style=\"stroke:#000000; stroke-linecap:round; stroke-linejoin:round; stroke-width:2; stroke-opacity:0.1; fill:none\" points=\"1461.86,1486.45 1461.86,47.2441 \"/>\n",
       "<polyline clip-path=\"url(#clip972)\" style=\"stroke:#000000; stroke-linecap:round; stroke-linejoin:round; stroke-width:2; stroke-opacity:0.1; fill:none\" points=\"1876.23,1486.45 1876.23,47.2441 \"/>\n",
       "<polyline clip-path=\"url(#clip972)\" style=\"stroke:#000000; stroke-linecap:round; stroke-linejoin:round; stroke-width:2; stroke-opacity:0.1; fill:none\" points=\"2290.6,1486.45 2290.6,47.2441 \"/>\n",
       "<polyline clip-path=\"url(#clip972)\" style=\"stroke:#000000; stroke-linecap:round; stroke-linejoin:round; stroke-width:2; stroke-opacity:0.1; fill:none\" points=\"156.598,1311.5 2352.76,1311.5 \"/>\n",
       "<polyline clip-path=\"url(#clip972)\" style=\"stroke:#000000; stroke-linecap:round; stroke-linejoin:round; stroke-width:2; stroke-opacity:0.1; fill:none\" points=\"156.598,1031.39 2352.76,1031.39 \"/>\n",
       "<polyline clip-path=\"url(#clip972)\" style=\"stroke:#000000; stroke-linecap:round; stroke-linejoin:round; stroke-width:2; stroke-opacity:0.1; fill:none\" points=\"156.598,751.285 2352.76,751.285 \"/>\n",
       "<polyline clip-path=\"url(#clip972)\" style=\"stroke:#000000; stroke-linecap:round; stroke-linejoin:round; stroke-width:2; stroke-opacity:0.1; fill:none\" points=\"156.598,471.178 2352.76,471.178 \"/>\n",
       "<polyline clip-path=\"url(#clip972)\" style=\"stroke:#000000; stroke-linecap:round; stroke-linejoin:round; stroke-width:2; stroke-opacity:0.1; fill:none\" points=\"156.598,191.071 2352.76,191.071 \"/>\n",
       "<polyline clip-path=\"url(#clip970)\" style=\"stroke:#000000; stroke-linecap:round; stroke-linejoin:round; stroke-width:4; stroke-opacity:1; fill:none\" points=\"156.598,1486.45 2352.76,1486.45 \"/>\n",
       "<polyline clip-path=\"url(#clip970)\" style=\"stroke:#000000; stroke-linecap:round; stroke-linejoin:round; stroke-width:4; stroke-opacity:1; fill:none\" points=\"218.754,1486.45 218.754,1467.55 \"/>\n",
       "<polyline clip-path=\"url(#clip970)\" style=\"stroke:#000000; stroke-linecap:round; stroke-linejoin:round; stroke-width:4; stroke-opacity:1; fill:none\" points=\"633.123,1486.45 633.123,1467.55 \"/>\n",
       "<polyline clip-path=\"url(#clip970)\" style=\"stroke:#000000; stroke-linecap:round; stroke-linejoin:round; stroke-width:4; stroke-opacity:1; fill:none\" points=\"1047.49,1486.45 1047.49,1467.55 \"/>\n",
       "<polyline clip-path=\"url(#clip970)\" style=\"stroke:#000000; stroke-linecap:round; stroke-linejoin:round; stroke-width:4; stroke-opacity:1; fill:none\" points=\"1461.86,1486.45 1461.86,1467.55 \"/>\n",
       "<polyline clip-path=\"url(#clip970)\" style=\"stroke:#000000; stroke-linecap:round; stroke-linejoin:round; stroke-width:4; stroke-opacity:1; fill:none\" points=\"1876.23,1486.45 1876.23,1467.55 \"/>\n",
       "<polyline clip-path=\"url(#clip970)\" style=\"stroke:#000000; stroke-linecap:round; stroke-linejoin:round; stroke-width:4; stroke-opacity:1; fill:none\" points=\"2290.6,1486.45 2290.6,1467.55 \"/>\n",
       "<path clip-path=\"url(#clip970)\" d=\"M196.138 1517.37 Q192.527 1517.37 190.698 1520.93 Q188.893 1524.47 188.893 1531.6 Q188.893 1538.71 190.698 1542.27 Q192.527 1545.82 196.138 1545.82 Q199.772 1545.82 201.578 1542.27 Q203.407 1538.71 203.407 1531.6 Q203.407 1524.47 201.578 1520.93 Q199.772 1517.37 196.138 1517.37 M196.138 1513.66 Q201.948 1513.66 205.004 1518.27 Q208.082 1522.85 208.082 1531.6 Q208.082 1540.33 205.004 1544.94 Q201.948 1549.52 196.138 1549.52 Q190.328 1549.52 187.249 1544.94 Q184.194 1540.33 184.194 1531.6 Q184.194 1522.85 187.249 1518.27 Q190.328 1513.66 196.138 1513.66 Z\" fill=\"#000000\" fill-rule=\"nonzero\" fill-opacity=\"1\" /><path clip-path=\"url(#clip970)\" d=\"M216.3 1542.97 L221.184 1542.97 L221.184 1548.85 L216.3 1548.85 L216.3 1542.97 Z\" fill=\"#000000\" fill-rule=\"nonzero\" fill-opacity=\"1\" /><path clip-path=\"url(#clip970)\" d=\"M241.369 1517.37 Q237.758 1517.37 235.929 1520.93 Q234.124 1524.47 234.124 1531.6 Q234.124 1538.71 235.929 1542.27 Q237.758 1545.82 241.369 1545.82 Q245.003 1545.82 246.809 1542.27 Q248.638 1538.71 248.638 1531.6 Q248.638 1524.47 246.809 1520.93 Q245.003 1517.37 241.369 1517.37 M241.369 1513.66 Q247.179 1513.66 250.235 1518.27 Q253.314 1522.85 253.314 1531.6 Q253.314 1540.33 250.235 1544.94 Q247.179 1549.52 241.369 1549.52 Q235.559 1549.52 232.48 1544.94 Q229.425 1540.33 229.425 1531.6 Q229.425 1522.85 232.48 1518.27 Q235.559 1513.66 241.369 1513.66 Z\" fill=\"#000000\" fill-rule=\"nonzero\" fill-opacity=\"1\" /><path clip-path=\"url(#clip970)\" d=\"M611.121 1517.37 Q607.51 1517.37 605.681 1520.93 Q603.875 1524.47 603.875 1531.6 Q603.875 1538.71 605.681 1542.27 Q607.51 1545.82 611.121 1545.82 Q614.755 1545.82 616.561 1542.27 Q618.389 1538.71 618.389 1531.6 Q618.389 1524.47 616.561 1520.93 Q614.755 1517.37 611.121 1517.37 M611.121 1513.66 Q616.931 1513.66 619.987 1518.27 Q623.065 1522.85 623.065 1531.6 Q623.065 1540.33 619.987 1544.94 Q616.931 1549.52 611.121 1549.52 Q605.311 1549.52 602.232 1544.94 Q599.176 1540.33 599.176 1531.6 Q599.176 1522.85 602.232 1518.27 Q605.311 1513.66 611.121 1513.66 Z\" fill=\"#000000\" fill-rule=\"nonzero\" fill-opacity=\"1\" /><path clip-path=\"url(#clip970)\" d=\"M631.283 1542.97 L636.167 1542.97 L636.167 1548.85 L631.283 1548.85 L631.283 1542.97 Z\" fill=\"#000000\" fill-rule=\"nonzero\" fill-opacity=\"1\" /><path clip-path=\"url(#clip970)\" d=\"M647.162 1544.91 L654.801 1544.91 L654.801 1518.55 L646.491 1520.21 L646.491 1515.95 L654.755 1514.29 L659.431 1514.29 L659.431 1544.91 L667.07 1544.91 L667.07 1548.85 L647.162 1548.85 L647.162 1544.91 Z\" fill=\"#000000\" fill-rule=\"nonzero\" fill-opacity=\"1\" /><path clip-path=\"url(#clip970)\" d=\"M1025.68 1517.37 Q1022.06 1517.37 1020.24 1520.93 Q1018.43 1524.47 1018.43 1531.6 Q1018.43 1538.71 1020.24 1542.27 Q1022.06 1545.82 1025.68 1545.82 Q1029.31 1545.82 1031.12 1542.27 Q1032.94 1538.71 1032.94 1531.6 Q1032.94 1524.47 1031.12 1520.93 Q1029.31 1517.37 1025.68 1517.37 M1025.68 1513.66 Q1031.49 1513.66 1034.54 1518.27 Q1037.62 1522.85 1037.62 1531.6 Q1037.62 1540.33 1034.54 1544.94 Q1031.49 1549.52 1025.68 1549.52 Q1019.87 1549.52 1016.79 1544.94 Q1013.73 1540.33 1013.73 1531.6 Q1013.73 1522.85 1016.79 1518.27 Q1019.87 1513.66 1025.68 1513.66 Z\" fill=\"#000000\" fill-rule=\"nonzero\" fill-opacity=\"1\" /><path clip-path=\"url(#clip970)\" d=\"M1045.84 1542.97 L1050.72 1542.97 L1050.72 1548.85 L1045.84 1548.85 L1045.84 1542.97 Z\" fill=\"#000000\" fill-rule=\"nonzero\" fill-opacity=\"1\" /><path clip-path=\"url(#clip970)\" d=\"M1064.93 1544.91 L1081.25 1544.91 L1081.25 1548.85 L1059.31 1548.85 L1059.31 1544.91 Q1061.97 1542.16 1066.55 1537.53 Q1071.16 1532.88 1072.34 1531.53 Q1074.59 1529.01 1075.47 1527.27 Q1076.37 1525.51 1076.37 1523.82 Q1076.37 1521.07 1074.43 1519.33 Q1072.5 1517.6 1069.4 1517.6 Q1067.2 1517.6 1064.75 1518.36 Q1062.32 1519.13 1059.54 1520.68 L1059.54 1515.95 Q1062.36 1514.82 1064.82 1514.24 Q1067.27 1513.66 1069.31 1513.66 Q1074.68 1513.66 1077.87 1516.35 Q1081.07 1519.03 1081.07 1523.52 Q1081.07 1525.65 1080.26 1527.57 Q1079.47 1529.47 1077.36 1532.07 Q1076.79 1532.74 1073.68 1535.95 Q1070.58 1539.15 1064.93 1544.91 Z\" fill=\"#000000\" fill-rule=\"nonzero\" fill-opacity=\"1\" /><path clip-path=\"url(#clip970)\" d=\"M1439.57 1517.37 Q1435.96 1517.37 1434.13 1520.93 Q1432.32 1524.47 1432.32 1531.6 Q1432.32 1538.71 1434.13 1542.27 Q1435.96 1545.82 1439.57 1545.82 Q1443.2 1545.82 1445.01 1542.27 Q1446.84 1538.71 1446.84 1531.6 Q1446.84 1524.47 1445.01 1520.93 Q1443.2 1517.37 1439.57 1517.37 M1439.57 1513.66 Q1445.38 1513.66 1448.44 1518.27 Q1451.51 1522.85 1451.51 1531.6 Q1451.51 1540.33 1448.44 1544.94 Q1445.38 1549.52 1439.57 1549.52 Q1433.76 1549.52 1430.68 1544.94 Q1427.63 1540.33 1427.63 1531.6 Q1427.63 1522.85 1430.68 1518.27 Q1433.76 1513.66 1439.57 1513.66 Z\" fill=\"#000000\" fill-rule=\"nonzero\" fill-opacity=\"1\" /><path clip-path=\"url(#clip970)\" d=\"M1459.73 1542.97 L1464.62 1542.97 L1464.62 1548.85 L1459.73 1548.85 L1459.73 1542.97 Z\" fill=\"#000000\" fill-rule=\"nonzero\" fill-opacity=\"1\" /><path clip-path=\"url(#clip970)\" d=\"M1488.97 1530.21 Q1492.32 1530.93 1494.2 1533.2 Q1496.1 1535.47 1496.1 1538.8 Q1496.1 1543.92 1492.58 1546.72 Q1489.06 1549.52 1482.58 1549.52 Q1480.4 1549.52 1478.09 1549.08 Q1475.8 1548.66 1473.34 1547.81 L1473.34 1543.29 Q1475.29 1544.43 1477.6 1545.01 Q1479.92 1545.58 1482.44 1545.58 Q1486.84 1545.58 1489.13 1543.85 Q1491.44 1542.11 1491.44 1538.8 Q1491.44 1535.75 1489.29 1534.03 Q1487.16 1532.3 1483.34 1532.3 L1479.32 1532.3 L1479.32 1528.45 L1483.53 1528.45 Q1486.98 1528.45 1488.81 1527.09 Q1490.63 1525.7 1490.63 1523.11 Q1490.63 1520.45 1488.74 1519.03 Q1486.86 1517.6 1483.34 1517.6 Q1481.42 1517.6 1479.22 1518.01 Q1477.02 1518.43 1474.38 1519.31 L1474.38 1515.14 Q1477.05 1514.4 1479.36 1514.03 Q1481.7 1513.66 1483.76 1513.66 Q1489.08 1513.66 1492.19 1516.09 Q1495.29 1518.5 1495.29 1522.62 Q1495.29 1525.49 1493.64 1527.48 Q1492 1529.45 1488.97 1530.21 Z\" fill=\"#000000\" fill-rule=\"nonzero\" fill-opacity=\"1\" /><path clip-path=\"url(#clip970)\" d=\"M1853.37 1517.37 Q1849.76 1517.37 1847.93 1520.93 Q1846.13 1524.47 1846.13 1531.6 Q1846.13 1538.71 1847.93 1542.27 Q1849.76 1545.82 1853.37 1545.82 Q1857.01 1545.82 1858.81 1542.27 Q1860.64 1538.71 1860.64 1531.6 Q1860.64 1524.47 1858.81 1520.93 Q1857.01 1517.37 1853.37 1517.37 M1853.37 1513.66 Q1859.18 1513.66 1862.24 1518.27 Q1865.32 1522.85 1865.32 1531.6 Q1865.32 1540.33 1862.24 1544.94 Q1859.18 1549.52 1853.37 1549.52 Q1847.56 1549.52 1844.48 1544.94 Q1841.43 1540.33 1841.43 1531.6 Q1841.43 1522.85 1844.48 1518.27 Q1847.56 1513.66 1853.37 1513.66 Z\" fill=\"#000000\" fill-rule=\"nonzero\" fill-opacity=\"1\" /><path clip-path=\"url(#clip970)\" d=\"M1873.53 1542.97 L1878.42 1542.97 L1878.42 1548.85 L1873.53 1548.85 L1873.53 1542.97 Z\" fill=\"#000000\" fill-rule=\"nonzero\" fill-opacity=\"1\" /><path clip-path=\"url(#clip970)\" d=\"M1901.45 1518.36 L1889.65 1536.81 L1901.45 1536.81 L1901.45 1518.36 M1900.22 1514.29 L1906.1 1514.29 L1906.1 1536.81 L1911.03 1536.81 L1911.03 1540.7 L1906.1 1540.7 L1906.1 1548.85 L1901.45 1548.85 L1901.45 1540.7 L1885.85 1540.7 L1885.85 1536.19 L1900.22 1514.29 Z\" fill=\"#000000\" fill-rule=\"nonzero\" fill-opacity=\"1\" /><path clip-path=\"url(#clip970)\" d=\"M2268.48 1517.37 Q2264.87 1517.37 2263.04 1520.93 Q2261.24 1524.47 2261.24 1531.6 Q2261.24 1538.71 2263.04 1542.27 Q2264.87 1545.82 2268.48 1545.82 Q2272.12 1545.82 2273.92 1542.27 Q2275.75 1538.71 2275.75 1531.6 Q2275.75 1524.47 2273.92 1520.93 Q2272.12 1517.37 2268.48 1517.37 M2268.48 1513.66 Q2274.29 1513.66 2277.35 1518.27 Q2280.43 1522.85 2280.43 1531.6 Q2280.43 1540.33 2277.35 1544.94 Q2274.29 1549.52 2268.48 1549.52 Q2262.67 1549.52 2259.59 1544.94 Q2256.54 1540.33 2256.54 1531.6 Q2256.54 1522.85 2259.59 1518.27 Q2262.67 1513.66 2268.48 1513.66 Z\" fill=\"#000000\" fill-rule=\"nonzero\" fill-opacity=\"1\" /><path clip-path=\"url(#clip970)\" d=\"M2288.64 1542.97 L2293.53 1542.97 L2293.53 1548.85 L2288.64 1548.85 L2288.64 1542.97 Z\" fill=\"#000000\" fill-rule=\"nonzero\" fill-opacity=\"1\" /><path clip-path=\"url(#clip970)\" d=\"M2303.76 1514.29 L2322.12 1514.29 L2322.12 1518.22 L2308.04 1518.22 L2308.04 1526.7 Q2309.06 1526.35 2310.08 1526.19 Q2311.1 1526 2312.12 1526 Q2317.9 1526 2321.28 1529.17 Q2324.66 1532.34 2324.66 1537.76 Q2324.66 1543.34 2321.19 1546.44 Q2317.72 1549.52 2311.4 1549.52 Q2309.22 1549.52 2306.95 1549.15 Q2304.71 1548.78 2302.3 1548.04 L2302.3 1543.34 Q2304.39 1544.47 2306.61 1545.03 Q2308.83 1545.58 2311.31 1545.58 Q2315.31 1545.58 2317.65 1543.48 Q2319.99 1541.37 2319.99 1537.76 Q2319.99 1534.15 2317.65 1532.04 Q2315.31 1529.94 2311.31 1529.94 Q2309.43 1529.94 2307.56 1530.35 Q2305.7 1530.77 2303.76 1531.65 L2303.76 1514.29 Z\" fill=\"#000000\" fill-rule=\"nonzero\" fill-opacity=\"1\" /><polyline clip-path=\"url(#clip970)\" style=\"stroke:#000000; stroke-linecap:round; stroke-linejoin:round; stroke-width:4; stroke-opacity:1; fill:none\" points=\"156.598,1486.45 156.598,47.2441 \"/>\n",
       "<polyline clip-path=\"url(#clip970)\" style=\"stroke:#000000; stroke-linecap:round; stroke-linejoin:round; stroke-width:4; stroke-opacity:1; fill:none\" points=\"156.598,1311.5 175.496,1311.5 \"/>\n",
       "<polyline clip-path=\"url(#clip970)\" style=\"stroke:#000000; stroke-linecap:round; stroke-linejoin:round; stroke-width:4; stroke-opacity:1; fill:none\" points=\"156.598,1031.39 175.496,1031.39 \"/>\n",
       "<polyline clip-path=\"url(#clip970)\" style=\"stroke:#000000; stroke-linecap:round; stroke-linejoin:round; stroke-width:4; stroke-opacity:1; fill:none\" points=\"156.598,751.285 175.496,751.285 \"/>\n",
       "<polyline clip-path=\"url(#clip970)\" style=\"stroke:#000000; stroke-linecap:round; stroke-linejoin:round; stroke-width:4; stroke-opacity:1; fill:none\" points=\"156.598,471.178 175.496,471.178 \"/>\n",
       "<polyline clip-path=\"url(#clip970)\" style=\"stroke:#000000; stroke-linecap:round; stroke-linejoin:round; stroke-width:4; stroke-opacity:1; fill:none\" points=\"156.598,191.071 175.496,191.071 \"/>\n",
       "<path clip-path=\"url(#clip970)\" d=\"M64.6495 1297.3 Q61.0384 1297.3 59.2097 1300.86 Q57.4041 1304.4 57.4041 1311.53 Q57.4041 1318.64 59.2097 1322.2 Q61.0384 1325.75 64.6495 1325.75 Q68.2837 1325.75 70.0892 1322.2 Q71.9179 1318.64 71.9179 1311.53 Q71.9179 1304.4 70.0892 1300.86 Q68.2837 1297.3 64.6495 1297.3 M64.6495 1293.59 Q70.4596 1293.59 73.5152 1298.2 Q76.5938 1302.78 76.5938 1311.53 Q76.5938 1320.26 73.5152 1324.87 Q70.4596 1329.45 64.6495 1329.45 Q58.8393 1329.45 55.7606 1324.87 Q52.7051 1320.26 52.7051 1311.53 Q52.7051 1302.78 55.7606 1298.2 Q58.8393 1293.59 64.6495 1293.59 Z\" fill=\"#000000\" fill-rule=\"nonzero\" fill-opacity=\"1\" /><path clip-path=\"url(#clip970)\" d=\"M84.8114 1322.9 L89.6956 1322.9 L89.6956 1328.78 L84.8114 1328.78 L84.8114 1322.9 Z\" fill=\"#000000\" fill-rule=\"nonzero\" fill-opacity=\"1\" /><path clip-path=\"url(#clip970)\" d=\"M100.691 1324.84 L108.33 1324.84 L108.33 1298.48 L100.02 1300.14 L100.02 1295.88 L108.283 1294.22 L112.959 1294.22 L112.959 1324.84 L120.598 1324.84 L120.598 1328.78 L100.691 1328.78 L100.691 1324.84 Z\" fill=\"#000000\" fill-rule=\"nonzero\" fill-opacity=\"1\" /><path clip-path=\"url(#clip970)\" d=\"M65.0198 1017.19 Q61.4087 1017.19 59.58 1020.75 Q57.7745 1024.3 57.7745 1031.43 Q57.7745 1038.53 59.58 1042.1 Q61.4087 1045.64 65.0198 1045.64 Q68.6541 1045.64 70.4596 1042.1 Q72.2883 1038.53 72.2883 1031.43 Q72.2883 1024.3 70.4596 1020.75 Q68.6541 1017.19 65.0198 1017.19 M65.0198 1013.49 Q70.83 1013.49 73.8855 1018.09 Q76.9642 1022.68 76.9642 1031.43 Q76.9642 1040.15 73.8855 1044.76 Q70.83 1049.34 65.0198 1049.34 Q59.2097 1049.34 56.131 1044.76 Q53.0754 1040.15 53.0754 1031.43 Q53.0754 1022.68 56.131 1018.09 Q59.2097 1013.49 65.0198 1013.49 Z\" fill=\"#000000\" fill-rule=\"nonzero\" fill-opacity=\"1\" /><path clip-path=\"url(#clip970)\" d=\"M85.1818 1042.79 L90.066 1042.79 L90.066 1048.67 L85.1818 1048.67 L85.1818 1042.79 Z\" fill=\"#000000\" fill-rule=\"nonzero\" fill-opacity=\"1\" /><path clip-path=\"url(#clip970)\" d=\"M104.279 1044.74 L120.598 1044.74 L120.598 1048.67 L98.6539 1048.67 L98.6539 1044.74 Q101.316 1041.98 105.899 1037.35 Q110.506 1032.7 111.686 1031.36 Q113.932 1028.83 114.811 1027.1 Q115.714 1025.34 115.714 1023.65 Q115.714 1020.89 113.77 1019.16 Q111.848 1017.42 108.746 1017.42 Q106.547 1017.42 104.094 1018.19 Q101.663 1018.95 98.8854 1020.5 L98.8854 1015.78 Q101.709 1014.64 104.163 1014.06 Q106.617 1013.49 108.654 1013.49 Q114.024 1013.49 117.219 1016.17 Q120.413 1018.86 120.413 1023.35 Q120.413 1025.48 119.603 1027.4 Q118.816 1029.3 116.709 1031.89 Q116.131 1032.56 113.029 1035.78 Q109.927 1038.97 104.279 1044.74 Z\" fill=\"#000000\" fill-rule=\"nonzero\" fill-opacity=\"1\" /><path clip-path=\"url(#clip970)\" d=\"M64.0708 737.083 Q60.4597 737.083 58.631 740.648 Q56.8254 744.19 56.8254 751.319 Q56.8254 758.426 58.631 761.99 Q60.4597 765.532 64.0708 765.532 Q67.705 765.532 69.5105 761.99 Q71.3392 758.426 71.3392 751.319 Q71.3392 744.19 69.5105 740.648 Q67.705 737.083 64.0708 737.083 M64.0708 733.38 Q69.8809 733.38 72.9365 737.986 Q76.0151 742.569 76.0151 751.319 Q76.0151 760.046 72.9365 764.652 Q69.8809 769.236 64.0708 769.236 Q58.2606 769.236 55.1819 764.652 Q52.1264 760.046 52.1264 751.319 Q52.1264 742.569 55.1819 737.986 Q58.2606 733.38 64.0708 733.38 Z\" fill=\"#000000\" fill-rule=\"nonzero\" fill-opacity=\"1\" /><path clip-path=\"url(#clip970)\" d=\"M84.2327 762.685 L89.1169 762.685 L89.1169 768.565 L84.2327 768.565 L84.2327 762.685 Z\" fill=\"#000000\" fill-rule=\"nonzero\" fill-opacity=\"1\" /><path clip-path=\"url(#clip970)\" d=\"M113.469 749.93 Q116.825 750.648 118.7 752.916 Q120.598 755.185 120.598 758.518 Q120.598 763.634 117.08 766.435 Q113.561 769.236 107.08 769.236 Q104.904 769.236 102.589 768.796 Q100.297 768.379 97.8437 767.523 L97.8437 763.009 Q99.7882 764.143 102.103 764.722 Q104.418 765.301 106.941 765.301 Q111.339 765.301 113.631 763.565 Q115.945 761.828 115.945 758.518 Q115.945 755.463 113.793 753.75 Q111.663 752.014 107.844 752.014 L103.816 752.014 L103.816 748.171 L108.029 748.171 Q111.478 748.171 113.307 746.805 Q115.135 745.416 115.135 742.824 Q115.135 740.162 113.237 738.75 Q111.362 737.315 107.844 737.315 Q105.922 737.315 103.723 737.731 Q101.524 738.148 98.8854 739.028 L98.8854 734.861 Q101.547 734.12 103.862 733.75 Q106.2 733.38 108.26 733.38 Q113.584 733.38 116.686 735.81 Q119.788 738.217 119.788 742.338 Q119.788 745.208 118.145 747.199 Q116.501 749.166 113.469 749.93 Z\" fill=\"#000000\" fill-rule=\"nonzero\" fill-opacity=\"1\" /><path clip-path=\"url(#clip970)\" d=\"M62.9365 456.976 Q59.3254 456.976 57.4967 460.541 Q55.6912 464.083 55.6912 471.213 Q55.6912 478.319 57.4967 481.884 Q59.3254 485.425 62.9365 485.425 Q66.5707 485.425 68.3763 481.884 Q70.205 478.319 70.205 471.213 Q70.205 464.083 68.3763 460.541 Q66.5707 456.976 62.9365 456.976 M62.9365 453.273 Q68.7467 453.273 71.8022 457.879 Q74.8809 462.463 74.8809 471.213 Q74.8809 479.939 71.8022 484.546 Q68.7467 489.129 62.9365 489.129 Q57.1264 489.129 54.0477 484.546 Q50.9921 479.939 50.9921 471.213 Q50.9921 462.463 54.0477 457.879 Q57.1264 453.273 62.9365 453.273 Z\" fill=\"#000000\" fill-rule=\"nonzero\" fill-opacity=\"1\" /><path clip-path=\"url(#clip970)\" d=\"M83.0984 482.578 L87.9827 482.578 L87.9827 488.458 L83.0984 488.458 L83.0984 482.578 Z\" fill=\"#000000\" fill-rule=\"nonzero\" fill-opacity=\"1\" /><path clip-path=\"url(#clip970)\" d=\"M111.015 457.972 L99.2095 476.421 L111.015 476.421 L111.015 457.972 M109.788 453.898 L115.668 453.898 L115.668 476.421 L120.598 476.421 L120.598 480.31 L115.668 480.31 L115.668 488.458 L111.015 488.458 L111.015 480.31 L95.4132 480.31 L95.4132 475.796 L109.788 453.898 Z\" fill=\"#000000\" fill-rule=\"nonzero\" fill-opacity=\"1\" /><path clip-path=\"url(#clip970)\" d=\"M64.418 176.87 Q60.8069 176.87 58.9782 180.435 Q57.1726 183.976 57.1726 191.106 Q57.1726 198.212 58.9782 201.777 Q60.8069 205.319 64.418 205.319 Q68.0522 205.319 69.8578 201.777 Q71.6865 198.212 71.6865 191.106 Q71.6865 183.976 69.8578 180.435 Q68.0522 176.87 64.418 176.87 M64.418 173.166 Q70.2281 173.166 73.2837 177.773 Q76.3624 182.356 76.3624 191.106 Q76.3624 199.833 73.2837 204.439 Q70.2281 209.022 64.418 209.022 Q58.6078 209.022 55.5291 204.439 Q52.4736 199.833 52.4736 191.106 Q52.4736 182.356 55.5291 177.773 Q58.6078 173.166 64.418 173.166 Z\" fill=\"#000000\" fill-rule=\"nonzero\" fill-opacity=\"1\" /><path clip-path=\"url(#clip970)\" d=\"M84.5799 202.472 L89.4641 202.472 L89.4641 208.351 L84.5799 208.351 L84.5799 202.472 Z\" fill=\"#000000\" fill-rule=\"nonzero\" fill-opacity=\"1\" /><path clip-path=\"url(#clip970)\" d=\"M99.6956 173.791 L118.052 173.791 L118.052 177.726 L103.978 177.726 L103.978 186.198 Q104.996 185.851 106.015 185.689 Q107.033 185.504 108.052 185.504 Q113.839 185.504 117.219 188.675 Q120.598 191.847 120.598 197.263 Q120.598 202.842 117.126 205.944 Q113.654 209.022 107.334 209.022 Q105.159 209.022 102.89 208.652 Q100.645 208.282 98.2372 207.541 L98.2372 202.842 Q100.321 203.976 102.543 204.532 Q104.765 205.087 107.242 205.087 Q111.246 205.087 113.584 202.981 Q115.922 200.874 115.922 197.263 Q115.922 193.652 113.584 191.546 Q111.246 189.439 107.242 189.439 Q105.367 189.439 103.492 189.856 Q101.64 190.272 99.6956 191.152 L99.6956 173.791 Z\" fill=\"#000000\" fill-rule=\"nonzero\" fill-opacity=\"1\" /><polyline clip-path=\"url(#clip972)\" style=\"stroke:#009af9; stroke-linecap:round; stroke-linejoin:round; stroke-width:4; stroke-opacity:1; fill:none\" points=\"218.754,1318.68 425.938,1132.23 633.123,895.89 840.308,679.157 1047.49,444.218 1254.68,337.952 1461.86,229.761 1669.05,181.968 1876.23,127.697 2083.42,219.082 2290.6,227.66 \"/>\n",
       "<circle clip-path=\"url(#clip972)\" cx=\"218.754\" cy=\"1318.68\" r=\"10.8\" fill=\"#009af9\" fill-rule=\"evenodd\" fill-opacity=\"1\" stroke=\"#000000\" stroke-opacity=\"1\" stroke-width=\"3.2\"/>\n",
       "<circle clip-path=\"url(#clip972)\" cx=\"425.938\" cy=\"1132.23\" r=\"10.8\" fill=\"#009af9\" fill-rule=\"evenodd\" fill-opacity=\"1\" stroke=\"#000000\" stroke-opacity=\"1\" stroke-width=\"3.2\"/>\n",
       "<circle clip-path=\"url(#clip972)\" cx=\"633.123\" cy=\"895.89\" r=\"10.8\" fill=\"#009af9\" fill-rule=\"evenodd\" fill-opacity=\"1\" stroke=\"#000000\" stroke-opacity=\"1\" stroke-width=\"3.2\"/>\n",
       "<circle clip-path=\"url(#clip972)\" cx=\"840.308\" cy=\"679.157\" r=\"10.8\" fill=\"#009af9\" fill-rule=\"evenodd\" fill-opacity=\"1\" stroke=\"#000000\" stroke-opacity=\"1\" stroke-width=\"3.2\"/>\n",
       "<circle clip-path=\"url(#clip972)\" cx=\"1047.49\" cy=\"444.218\" r=\"10.8\" fill=\"#009af9\" fill-rule=\"evenodd\" fill-opacity=\"1\" stroke=\"#000000\" stroke-opacity=\"1\" stroke-width=\"3.2\"/>\n",
       "<circle clip-path=\"url(#clip972)\" cx=\"1254.68\" cy=\"337.952\" r=\"10.8\" fill=\"#009af9\" fill-rule=\"evenodd\" fill-opacity=\"1\" stroke=\"#000000\" stroke-opacity=\"1\" stroke-width=\"3.2\"/>\n",
       "<circle clip-path=\"url(#clip972)\" cx=\"1461.86\" cy=\"229.761\" r=\"10.8\" fill=\"#009af9\" fill-rule=\"evenodd\" fill-opacity=\"1\" stroke=\"#000000\" stroke-opacity=\"1\" stroke-width=\"3.2\"/>\n",
       "<circle clip-path=\"url(#clip972)\" cx=\"1669.05\" cy=\"181.968\" r=\"10.8\" fill=\"#009af9\" fill-rule=\"evenodd\" fill-opacity=\"1\" stroke=\"#000000\" stroke-opacity=\"1\" stroke-width=\"3.2\"/>\n",
       "<circle clip-path=\"url(#clip972)\" cx=\"1876.23\" cy=\"127.697\" r=\"10.8\" fill=\"#009af9\" fill-rule=\"evenodd\" fill-opacity=\"1\" stroke=\"#000000\" stroke-opacity=\"1\" stroke-width=\"3.2\"/>\n",
       "<circle clip-path=\"url(#clip972)\" cx=\"2083.42\" cy=\"219.082\" r=\"10.8\" fill=\"#009af9\" fill-rule=\"evenodd\" fill-opacity=\"1\" stroke=\"#000000\" stroke-opacity=\"1\" stroke-width=\"3.2\"/>\n",
       "<circle clip-path=\"url(#clip972)\" cx=\"2290.6\" cy=\"227.66\" r=\"10.8\" fill=\"#009af9\" fill-rule=\"evenodd\" fill-opacity=\"1\" stroke=\"#000000\" stroke-opacity=\"1\" stroke-width=\"3.2\"/>\n",
       "<polyline clip-path=\"url(#clip972)\" style=\"stroke:#e26f46; stroke-linecap:round; stroke-linejoin:round; stroke-width:4; stroke-opacity:1; fill:none\" points=\"218.754,1417.72 425.938,1314.34 633.123,1103.47 840.308,782.49 1047.49,390.997 1254.68,275.103 1461.86,228.448 1669.05,173.915 1876.23,207.309 2083.42,165.205 2290.6,188.007 \"/>\n",
       "<circle clip-path=\"url(#clip972)\" cx=\"218.754\" cy=\"1417.72\" r=\"10.8\" fill=\"#e26f46\" fill-rule=\"evenodd\" fill-opacity=\"1\" stroke=\"#000000\" stroke-opacity=\"1\" stroke-width=\"3.2\"/>\n",
       "<circle clip-path=\"url(#clip972)\" cx=\"425.938\" cy=\"1314.34\" r=\"10.8\" fill=\"#e26f46\" fill-rule=\"evenodd\" fill-opacity=\"1\" stroke=\"#000000\" stroke-opacity=\"1\" stroke-width=\"3.2\"/>\n",
       "<circle clip-path=\"url(#clip972)\" cx=\"633.123\" cy=\"1103.47\" r=\"10.8\" fill=\"#e26f46\" fill-rule=\"evenodd\" fill-opacity=\"1\" stroke=\"#000000\" stroke-opacity=\"1\" stroke-width=\"3.2\"/>\n",
       "<circle clip-path=\"url(#clip972)\" cx=\"840.308\" cy=\"782.49\" r=\"10.8\" fill=\"#e26f46\" fill-rule=\"evenodd\" fill-opacity=\"1\" stroke=\"#000000\" stroke-opacity=\"1\" stroke-width=\"3.2\"/>\n",
       "<circle clip-path=\"url(#clip972)\" cx=\"1047.49\" cy=\"390.997\" r=\"10.8\" fill=\"#e26f46\" fill-rule=\"evenodd\" fill-opacity=\"1\" stroke=\"#000000\" stroke-opacity=\"1\" stroke-width=\"3.2\"/>\n",
       "<circle clip-path=\"url(#clip972)\" cx=\"1254.68\" cy=\"275.103\" r=\"10.8\" fill=\"#e26f46\" fill-rule=\"evenodd\" fill-opacity=\"1\" stroke=\"#000000\" stroke-opacity=\"1\" stroke-width=\"3.2\"/>\n",
       "<circle clip-path=\"url(#clip972)\" cx=\"1461.86\" cy=\"228.448\" r=\"10.8\" fill=\"#e26f46\" fill-rule=\"evenodd\" fill-opacity=\"1\" stroke=\"#000000\" stroke-opacity=\"1\" stroke-width=\"3.2\"/>\n",
       "<circle clip-path=\"url(#clip972)\" cx=\"1669.05\" cy=\"173.915\" r=\"10.8\" fill=\"#e26f46\" fill-rule=\"evenodd\" fill-opacity=\"1\" stroke=\"#000000\" stroke-opacity=\"1\" stroke-width=\"3.2\"/>\n",
       "<circle clip-path=\"url(#clip972)\" cx=\"1876.23\" cy=\"207.309\" r=\"10.8\" fill=\"#e26f46\" fill-rule=\"evenodd\" fill-opacity=\"1\" stroke=\"#000000\" stroke-opacity=\"1\" stroke-width=\"3.2\"/>\n",
       "<circle clip-path=\"url(#clip972)\" cx=\"2083.42\" cy=\"165.205\" r=\"10.8\" fill=\"#e26f46\" fill-rule=\"evenodd\" fill-opacity=\"1\" stroke=\"#000000\" stroke-opacity=\"1\" stroke-width=\"3.2\"/>\n",
       "<circle clip-path=\"url(#clip972)\" cx=\"2290.6\" cy=\"188.007\" r=\"10.8\" fill=\"#e26f46\" fill-rule=\"evenodd\" fill-opacity=\"1\" stroke=\"#000000\" stroke-opacity=\"1\" stroke-width=\"3.2\"/>\n",
       "<polyline clip-path=\"url(#clip972)\" style=\"stroke:#3da44d; stroke-linecap:round; stroke-linejoin:round; stroke-width:4; stroke-opacity:1; fill:none\" points=\"218.754,1445.72 425.938,1359.15 633.123,1154.52 840.308,923.239 1047.49,509.498 1254.68,87.9763 1461.86,191.071 1669.05,202.353 1876.23,307.199 2083.42,198.074 2290.6,142.247 \"/>\n",
       "<circle clip-path=\"url(#clip972)\" cx=\"218.754\" cy=\"1445.72\" r=\"10.8\" fill=\"#3da44d\" fill-rule=\"evenodd\" fill-opacity=\"1\" stroke=\"#000000\" stroke-opacity=\"1\" stroke-width=\"3.2\"/>\n",
       "<circle clip-path=\"url(#clip972)\" cx=\"425.938\" cy=\"1359.15\" r=\"10.8\" fill=\"#3da44d\" fill-rule=\"evenodd\" fill-opacity=\"1\" stroke=\"#000000\" stroke-opacity=\"1\" stroke-width=\"3.2\"/>\n",
       "<circle clip-path=\"url(#clip972)\" cx=\"633.123\" cy=\"1154.52\" r=\"10.8\" fill=\"#3da44d\" fill-rule=\"evenodd\" fill-opacity=\"1\" stroke=\"#000000\" stroke-opacity=\"1\" stroke-width=\"3.2\"/>\n",
       "<circle clip-path=\"url(#clip972)\" cx=\"840.308\" cy=\"923.239\" r=\"10.8\" fill=\"#3da44d\" fill-rule=\"evenodd\" fill-opacity=\"1\" stroke=\"#000000\" stroke-opacity=\"1\" stroke-width=\"3.2\"/>\n",
       "<circle clip-path=\"url(#clip972)\" cx=\"1047.49\" cy=\"509.498\" r=\"10.8\" fill=\"#3da44d\" fill-rule=\"evenodd\" fill-opacity=\"1\" stroke=\"#000000\" stroke-opacity=\"1\" stroke-width=\"3.2\"/>\n",
       "<circle clip-path=\"url(#clip972)\" cx=\"1254.68\" cy=\"87.9763\" r=\"10.8\" fill=\"#3da44d\" fill-rule=\"evenodd\" fill-opacity=\"1\" stroke=\"#000000\" stroke-opacity=\"1\" stroke-width=\"3.2\"/>\n",
       "<circle clip-path=\"url(#clip972)\" cx=\"1461.86\" cy=\"191.071\" r=\"10.8\" fill=\"#3da44d\" fill-rule=\"evenodd\" fill-opacity=\"1\" stroke=\"#000000\" stroke-opacity=\"1\" stroke-width=\"3.2\"/>\n",
       "<circle clip-path=\"url(#clip972)\" cx=\"1669.05\" cy=\"202.353\" r=\"10.8\" fill=\"#3da44d\" fill-rule=\"evenodd\" fill-opacity=\"1\" stroke=\"#000000\" stroke-opacity=\"1\" stroke-width=\"3.2\"/>\n",
       "<circle clip-path=\"url(#clip972)\" cx=\"1876.23\" cy=\"307.199\" r=\"10.8\" fill=\"#3da44d\" fill-rule=\"evenodd\" fill-opacity=\"1\" stroke=\"#000000\" stroke-opacity=\"1\" stroke-width=\"3.2\"/>\n",
       "<circle clip-path=\"url(#clip972)\" cx=\"2083.42\" cy=\"198.074\" r=\"10.8\" fill=\"#3da44d\" fill-rule=\"evenodd\" fill-opacity=\"1\" stroke=\"#000000\" stroke-opacity=\"1\" stroke-width=\"3.2\"/>\n",
       "<circle clip-path=\"url(#clip972)\" cx=\"2290.6\" cy=\"142.247\" r=\"10.8\" fill=\"#3da44d\" fill-rule=\"evenodd\" fill-opacity=\"1\" stroke=\"#000000\" stroke-opacity=\"1\" stroke-width=\"3.2\"/>\n",
       "<path clip-path=\"url(#clip970)\" d=\"M229.803 302.578 L566.479 302.578 L566.479 95.2176 L229.803 95.2176  Z\" fill=\"#ffffff\" fill-rule=\"evenodd\" fill-opacity=\"1\"/>\n",
       "<polyline clip-path=\"url(#clip970)\" style=\"stroke:#000000; stroke-linecap:round; stroke-linejoin:round; stroke-width:4; stroke-opacity:1; fill:none\" points=\"229.803,302.578 566.479,302.578 566.479,95.2176 229.803,95.2176 229.803,302.578 \"/>\n",
       "<polyline clip-path=\"url(#clip970)\" style=\"stroke:#009af9; stroke-linecap:round; stroke-linejoin:round; stroke-width:4; stroke-opacity:1; fill:none\" points=\"254.205,147.058 400.616,147.058 \"/>\n",
       "<circle clip-path=\"url(#clip970)\" cx=\"327.41\" cy=\"147.058\" r=\"19.7486\" fill=\"#009af9\" fill-rule=\"evenodd\" fill-opacity=\"1\" stroke=\"#000000\" stroke-opacity=\"1\" stroke-width=\"5.85143\"/>\n",
       "<path clip-path=\"url(#clip970)\" d=\"M425.018 129.778 L429.693 129.778 L429.693 160.402 L446.522 160.402 L446.522 164.338 L425.018 164.338 L425.018 129.778 Z\" fill=\"#000000\" fill-rule=\"nonzero\" fill-opacity=\"1\" /><path clip-path=\"url(#clip970)\" d=\"M451.8 142.81 L481.476 142.81 L481.476 146.699 L451.8 146.699 L451.8 142.81 M451.8 152.254 L481.476 152.254 L481.476 156.189 L451.8 156.189 L451.8 152.254 Z\" fill=\"#000000\" fill-rule=\"nonzero\" fill-opacity=\"1\" /><path clip-path=\"url(#clip970)\" d=\"M504.415 133.852 L492.61 152.301 L504.415 152.301 L504.415 133.852 M503.188 129.778 L509.068 129.778 L509.068 152.301 L513.999 152.301 L513.999 156.189 L509.068 156.189 L509.068 164.338 L504.415 164.338 L504.415 156.189 L488.813 156.189 L488.813 151.676 L503.188 129.778 Z\" fill=\"#000000\" fill-rule=\"nonzero\" fill-opacity=\"1\" /><polyline clip-path=\"url(#clip970)\" style=\"stroke:#e26f46; stroke-linecap:round; stroke-linejoin:round; stroke-width:4; stroke-opacity:1; fill:none\" points=\"254.205,198.898 400.616,198.898 \"/>\n",
       "<circle clip-path=\"url(#clip970)\" cx=\"327.41\" cy=\"198.898\" r=\"19.7486\" fill=\"#e26f46\" fill-rule=\"evenodd\" fill-opacity=\"1\" stroke=\"#000000\" stroke-opacity=\"1\" stroke-width=\"5.85143\"/>\n",
       "<path clip-path=\"url(#clip970)\" d=\"M425.018 181.618 L429.693 181.618 L429.693 212.242 L446.522 212.242 L446.522 216.178 L425.018 216.178 L425.018 181.618 Z\" fill=\"#000000\" fill-rule=\"nonzero\" fill-opacity=\"1\" /><path clip-path=\"url(#clip970)\" d=\"M451.8 194.65 L481.476 194.65 L481.476 198.539 L451.8 198.539 L451.8 194.65 M451.8 204.094 L481.476 204.094 L481.476 208.029 L451.8 208.029 L451.8 204.094 Z\" fill=\"#000000\" fill-rule=\"nonzero\" fill-opacity=\"1\" /><path clip-path=\"url(#clip970)\" d=\"M501.568 199.766 Q498.235 199.766 496.313 201.548 Q494.415 203.33 494.415 206.455 Q494.415 209.58 496.313 211.363 Q498.235 213.145 501.568 213.145 Q504.901 213.145 506.823 211.363 Q508.744 209.557 508.744 206.455 Q508.744 203.33 506.823 201.548 Q504.924 199.766 501.568 199.766 M496.892 197.775 Q493.883 197.034 492.193 194.974 Q490.526 192.914 490.526 189.951 Q490.526 185.807 493.466 183.4 Q496.429 180.993 501.568 180.993 Q506.73 180.993 509.67 183.4 Q512.61 185.807 512.61 189.951 Q512.61 192.914 510.92 194.974 Q509.253 197.034 506.267 197.775 Q509.647 198.562 511.522 200.854 Q513.42 203.145 513.42 206.455 Q513.42 211.479 510.341 214.164 Q507.286 216.849 501.568 216.849 Q495.85 216.849 492.772 214.164 Q489.716 211.479 489.716 206.455 Q489.716 203.145 491.614 200.854 Q493.513 198.562 496.892 197.775 M495.179 190.391 Q495.179 193.076 496.846 194.58 Q498.536 196.085 501.568 196.085 Q504.577 196.085 506.267 194.58 Q507.98 193.076 507.98 190.391 Q507.98 187.705 506.267 186.201 Q504.577 184.696 501.568 184.696 Q498.536 184.696 496.846 186.201 Q495.179 187.705 495.179 190.391 Z\" fill=\"#000000\" fill-rule=\"nonzero\" fill-opacity=\"1\" /><polyline clip-path=\"url(#clip970)\" style=\"stroke:#3da44d; stroke-linecap:round; stroke-linejoin:round; stroke-width:4; stroke-opacity:1; fill:none\" points=\"254.205,250.738 400.616,250.738 \"/>\n",
       "<circle clip-path=\"url(#clip970)\" cx=\"327.41\" cy=\"250.738\" r=\"19.7486\" fill=\"#3da44d\" fill-rule=\"evenodd\" fill-opacity=\"1\" stroke=\"#000000\" stroke-opacity=\"1\" stroke-width=\"5.85143\"/>\n",
       "<path clip-path=\"url(#clip970)\" d=\"M425.018 233.458 L429.693 233.458 L429.693 264.082 L446.522 264.082 L446.522 268.018 L425.018 268.018 L425.018 233.458 Z\" fill=\"#000000\" fill-rule=\"nonzero\" fill-opacity=\"1\" /><path clip-path=\"url(#clip970)\" d=\"M451.8 246.49 L481.476 246.49 L481.476 250.379 L451.8 250.379 L451.8 246.49 M451.8 255.934 L481.476 255.934 L481.476 259.869 L451.8 259.869 L451.8 255.934 Z\" fill=\"#000000\" fill-rule=\"nonzero\" fill-opacity=\"1\" /><path clip-path=\"url(#clip970)\" d=\"M492.378 264.082 L500.017 264.082 L500.017 237.717 L491.707 239.383 L491.707 235.124 L499.971 233.458 L504.647 233.458 L504.647 264.082 L512.286 264.082 L512.286 268.018 L492.378 268.018 L492.378 264.082 Z\" fill=\"#000000\" fill-rule=\"nonzero\" fill-opacity=\"1\" /><path clip-path=\"url(#clip970)\" d=\"M525.758 264.082 L542.077 264.082 L542.077 268.018 L520.133 268.018 L520.133 264.082 Q522.795 261.328 527.378 256.698 Q531.985 252.045 533.165 250.703 Q535.41 248.18 536.29 246.444 Q537.193 244.684 537.193 242.995 Q537.193 240.24 535.248 238.504 Q533.327 236.768 530.225 236.768 Q528.026 236.768 525.573 237.532 Q523.142 238.295 520.364 239.846 L520.364 235.124 Q523.188 233.99 525.642 233.411 Q528.096 232.833 530.133 232.833 Q535.503 232.833 538.697 235.518 Q541.892 238.203 541.892 242.694 Q541.892 244.823 541.082 246.745 Q540.295 248.643 538.188 251.235 Q537.609 251.907 534.508 255.124 Q531.406 258.319 525.758 264.082 Z\" fill=\"#000000\" fill-rule=\"nonzero\" fill-opacity=\"1\" /></svg>\n"
      ],
      "text/html": [
       "<?xml version=\"1.0\" encoding=\"utf-8\"?>\n",
       "<svg xmlns=\"http://www.w3.org/2000/svg\" xmlns:xlink=\"http://www.w3.org/1999/xlink\" width=\"600\" height=\"400\" viewBox=\"0 0 2400 1600\">\n",
       "<defs>\n",
       "  <clipPath id=\"clip020\">\n",
       "    <rect x=\"0\" y=\"0\" width=\"2400\" height=\"1600\"/>\n",
       "  </clipPath>\n",
       "</defs>\n",
       "<path clip-path=\"url(#clip020)\" d=\"M0 1600 L2400 1600 L2400 8.88178e-14 L0 8.88178e-14  Z\" fill=\"#ffffff\" fill-rule=\"evenodd\" fill-opacity=\"1\"/>\n",
       "<defs>\n",
       "  <clipPath id=\"clip021\">\n",
       "    <rect x=\"480\" y=\"0\" width=\"1681\" height=\"1600\"/>\n",
       "  </clipPath>\n",
       "</defs>\n",
       "<path clip-path=\"url(#clip020)\" d=\"M156.598 1486.45 L2352.76 1486.45 L2352.76 47.2441 L156.598 47.2441  Z\" fill=\"#ffffff\" fill-rule=\"evenodd\" fill-opacity=\"1\"/>\n",
       "<defs>\n",
       "  <clipPath id=\"clip022\">\n",
       "    <rect x=\"156\" y=\"47\" width=\"2197\" height=\"1440\"/>\n",
       "  </clipPath>\n",
       "</defs>\n",
       "<polyline clip-path=\"url(#clip022)\" style=\"stroke:#000000; stroke-linecap:round; stroke-linejoin:round; stroke-width:2; stroke-opacity:0.1; fill:none\" points=\"218.754,1486.45 218.754,47.2441 \"/>\n",
       "<polyline clip-path=\"url(#clip022)\" style=\"stroke:#000000; stroke-linecap:round; stroke-linejoin:round; stroke-width:2; stroke-opacity:0.1; fill:none\" points=\"633.123,1486.45 633.123,47.2441 \"/>\n",
       "<polyline clip-path=\"url(#clip022)\" style=\"stroke:#000000; stroke-linecap:round; stroke-linejoin:round; stroke-width:2; stroke-opacity:0.1; fill:none\" points=\"1047.49,1486.45 1047.49,47.2441 \"/>\n",
       "<polyline clip-path=\"url(#clip022)\" style=\"stroke:#000000; stroke-linecap:round; stroke-linejoin:round; stroke-width:2; stroke-opacity:0.1; fill:none\" points=\"1461.86,1486.45 1461.86,47.2441 \"/>\n",
       "<polyline clip-path=\"url(#clip022)\" style=\"stroke:#000000; stroke-linecap:round; stroke-linejoin:round; stroke-width:2; stroke-opacity:0.1; fill:none\" points=\"1876.23,1486.45 1876.23,47.2441 \"/>\n",
       "<polyline clip-path=\"url(#clip022)\" style=\"stroke:#000000; stroke-linecap:round; stroke-linejoin:round; stroke-width:2; stroke-opacity:0.1; fill:none\" points=\"2290.6,1486.45 2290.6,47.2441 \"/>\n",
       "<polyline clip-path=\"url(#clip022)\" style=\"stroke:#000000; stroke-linecap:round; stroke-linejoin:round; stroke-width:2; stroke-opacity:0.1; fill:none\" points=\"156.598,1311.5 2352.76,1311.5 \"/>\n",
       "<polyline clip-path=\"url(#clip022)\" style=\"stroke:#000000; stroke-linecap:round; stroke-linejoin:round; stroke-width:2; stroke-opacity:0.1; fill:none\" points=\"156.598,1031.39 2352.76,1031.39 \"/>\n",
       "<polyline clip-path=\"url(#clip022)\" style=\"stroke:#000000; stroke-linecap:round; stroke-linejoin:round; stroke-width:2; stroke-opacity:0.1; fill:none\" points=\"156.598,751.285 2352.76,751.285 \"/>\n",
       "<polyline clip-path=\"url(#clip022)\" style=\"stroke:#000000; stroke-linecap:round; stroke-linejoin:round; stroke-width:2; stroke-opacity:0.1; fill:none\" points=\"156.598,471.178 2352.76,471.178 \"/>\n",
       "<polyline clip-path=\"url(#clip022)\" style=\"stroke:#000000; stroke-linecap:round; stroke-linejoin:round; stroke-width:2; stroke-opacity:0.1; fill:none\" points=\"156.598,191.071 2352.76,191.071 \"/>\n",
       "<polyline clip-path=\"url(#clip020)\" style=\"stroke:#000000; stroke-linecap:round; stroke-linejoin:round; stroke-width:4; stroke-opacity:1; fill:none\" points=\"156.598,1486.45 2352.76,1486.45 \"/>\n",
       "<polyline clip-path=\"url(#clip020)\" style=\"stroke:#000000; stroke-linecap:round; stroke-linejoin:round; stroke-width:4; stroke-opacity:1; fill:none\" points=\"218.754,1486.45 218.754,1467.55 \"/>\n",
       "<polyline clip-path=\"url(#clip020)\" style=\"stroke:#000000; stroke-linecap:round; stroke-linejoin:round; stroke-width:4; stroke-opacity:1; fill:none\" points=\"633.123,1486.45 633.123,1467.55 \"/>\n",
       "<polyline clip-path=\"url(#clip020)\" style=\"stroke:#000000; stroke-linecap:round; stroke-linejoin:round; stroke-width:4; stroke-opacity:1; fill:none\" points=\"1047.49,1486.45 1047.49,1467.55 \"/>\n",
       "<polyline clip-path=\"url(#clip020)\" style=\"stroke:#000000; stroke-linecap:round; stroke-linejoin:round; stroke-width:4; stroke-opacity:1; fill:none\" points=\"1461.86,1486.45 1461.86,1467.55 \"/>\n",
       "<polyline clip-path=\"url(#clip020)\" style=\"stroke:#000000; stroke-linecap:round; stroke-linejoin:round; stroke-width:4; stroke-opacity:1; fill:none\" points=\"1876.23,1486.45 1876.23,1467.55 \"/>\n",
       "<polyline clip-path=\"url(#clip020)\" style=\"stroke:#000000; stroke-linecap:round; stroke-linejoin:round; stroke-width:4; stroke-opacity:1; fill:none\" points=\"2290.6,1486.45 2290.6,1467.55 \"/>\n",
       "<path clip-path=\"url(#clip020)\" d=\"M196.138 1517.37 Q192.527 1517.37 190.698 1520.93 Q188.893 1524.47 188.893 1531.6 Q188.893 1538.71 190.698 1542.27 Q192.527 1545.82 196.138 1545.82 Q199.772 1545.82 201.578 1542.27 Q203.407 1538.71 203.407 1531.6 Q203.407 1524.47 201.578 1520.93 Q199.772 1517.37 196.138 1517.37 M196.138 1513.66 Q201.948 1513.66 205.004 1518.27 Q208.082 1522.85 208.082 1531.6 Q208.082 1540.33 205.004 1544.94 Q201.948 1549.52 196.138 1549.52 Q190.328 1549.52 187.249 1544.94 Q184.194 1540.33 184.194 1531.6 Q184.194 1522.85 187.249 1518.27 Q190.328 1513.66 196.138 1513.66 Z\" fill=\"#000000\" fill-rule=\"nonzero\" fill-opacity=\"1\" /><path clip-path=\"url(#clip020)\" d=\"M216.3 1542.97 L221.184 1542.97 L221.184 1548.85 L216.3 1548.85 L216.3 1542.97 Z\" fill=\"#000000\" fill-rule=\"nonzero\" fill-opacity=\"1\" /><path clip-path=\"url(#clip020)\" d=\"M241.369 1517.37 Q237.758 1517.37 235.929 1520.93 Q234.124 1524.47 234.124 1531.6 Q234.124 1538.71 235.929 1542.27 Q237.758 1545.82 241.369 1545.82 Q245.003 1545.82 246.809 1542.27 Q248.638 1538.71 248.638 1531.6 Q248.638 1524.47 246.809 1520.93 Q245.003 1517.37 241.369 1517.37 M241.369 1513.66 Q247.179 1513.66 250.235 1518.27 Q253.314 1522.85 253.314 1531.6 Q253.314 1540.33 250.235 1544.94 Q247.179 1549.52 241.369 1549.52 Q235.559 1549.52 232.48 1544.94 Q229.425 1540.33 229.425 1531.6 Q229.425 1522.85 232.48 1518.27 Q235.559 1513.66 241.369 1513.66 Z\" fill=\"#000000\" fill-rule=\"nonzero\" fill-opacity=\"1\" /><path clip-path=\"url(#clip020)\" d=\"M611.121 1517.37 Q607.51 1517.37 605.681 1520.93 Q603.875 1524.47 603.875 1531.6 Q603.875 1538.71 605.681 1542.27 Q607.51 1545.82 611.121 1545.82 Q614.755 1545.82 616.561 1542.27 Q618.389 1538.71 618.389 1531.6 Q618.389 1524.47 616.561 1520.93 Q614.755 1517.37 611.121 1517.37 M611.121 1513.66 Q616.931 1513.66 619.987 1518.27 Q623.065 1522.85 623.065 1531.6 Q623.065 1540.33 619.987 1544.94 Q616.931 1549.52 611.121 1549.52 Q605.311 1549.52 602.232 1544.94 Q599.176 1540.33 599.176 1531.6 Q599.176 1522.85 602.232 1518.27 Q605.311 1513.66 611.121 1513.66 Z\" fill=\"#000000\" fill-rule=\"nonzero\" fill-opacity=\"1\" /><path clip-path=\"url(#clip020)\" d=\"M631.283 1542.97 L636.167 1542.97 L636.167 1548.85 L631.283 1548.85 L631.283 1542.97 Z\" fill=\"#000000\" fill-rule=\"nonzero\" fill-opacity=\"1\" /><path clip-path=\"url(#clip020)\" d=\"M647.162 1544.91 L654.801 1544.91 L654.801 1518.55 L646.491 1520.21 L646.491 1515.95 L654.755 1514.29 L659.431 1514.29 L659.431 1544.91 L667.07 1544.91 L667.07 1548.85 L647.162 1548.85 L647.162 1544.91 Z\" fill=\"#000000\" fill-rule=\"nonzero\" fill-opacity=\"1\" /><path clip-path=\"url(#clip020)\" d=\"M1025.68 1517.37 Q1022.06 1517.37 1020.24 1520.93 Q1018.43 1524.47 1018.43 1531.6 Q1018.43 1538.71 1020.24 1542.27 Q1022.06 1545.82 1025.68 1545.82 Q1029.31 1545.82 1031.12 1542.27 Q1032.94 1538.71 1032.94 1531.6 Q1032.94 1524.47 1031.12 1520.93 Q1029.31 1517.37 1025.68 1517.37 M1025.68 1513.66 Q1031.49 1513.66 1034.54 1518.27 Q1037.62 1522.85 1037.62 1531.6 Q1037.62 1540.33 1034.54 1544.94 Q1031.49 1549.52 1025.68 1549.52 Q1019.87 1549.52 1016.79 1544.94 Q1013.73 1540.33 1013.73 1531.6 Q1013.73 1522.85 1016.79 1518.27 Q1019.87 1513.66 1025.68 1513.66 Z\" fill=\"#000000\" fill-rule=\"nonzero\" fill-opacity=\"1\" /><path clip-path=\"url(#clip020)\" d=\"M1045.84 1542.97 L1050.72 1542.97 L1050.72 1548.85 L1045.84 1548.85 L1045.84 1542.97 Z\" fill=\"#000000\" fill-rule=\"nonzero\" fill-opacity=\"1\" /><path clip-path=\"url(#clip020)\" d=\"M1064.93 1544.91 L1081.25 1544.91 L1081.25 1548.85 L1059.31 1548.85 L1059.31 1544.91 Q1061.97 1542.16 1066.55 1537.53 Q1071.16 1532.88 1072.34 1531.53 Q1074.59 1529.01 1075.47 1527.27 Q1076.37 1525.51 1076.37 1523.82 Q1076.37 1521.07 1074.43 1519.33 Q1072.5 1517.6 1069.4 1517.6 Q1067.2 1517.6 1064.75 1518.36 Q1062.32 1519.13 1059.54 1520.68 L1059.54 1515.95 Q1062.36 1514.82 1064.82 1514.24 Q1067.27 1513.66 1069.31 1513.66 Q1074.68 1513.66 1077.87 1516.35 Q1081.07 1519.03 1081.07 1523.52 Q1081.07 1525.65 1080.26 1527.57 Q1079.47 1529.47 1077.36 1532.07 Q1076.79 1532.74 1073.68 1535.95 Q1070.58 1539.15 1064.93 1544.91 Z\" fill=\"#000000\" fill-rule=\"nonzero\" fill-opacity=\"1\" /><path clip-path=\"url(#clip020)\" d=\"M1439.57 1517.37 Q1435.96 1517.37 1434.13 1520.93 Q1432.32 1524.47 1432.32 1531.6 Q1432.32 1538.71 1434.13 1542.27 Q1435.96 1545.82 1439.57 1545.82 Q1443.2 1545.82 1445.01 1542.27 Q1446.84 1538.71 1446.84 1531.6 Q1446.84 1524.47 1445.01 1520.93 Q1443.2 1517.37 1439.57 1517.37 M1439.57 1513.66 Q1445.38 1513.66 1448.44 1518.27 Q1451.51 1522.85 1451.51 1531.6 Q1451.51 1540.33 1448.44 1544.94 Q1445.38 1549.52 1439.57 1549.52 Q1433.76 1549.52 1430.68 1544.94 Q1427.63 1540.33 1427.63 1531.6 Q1427.63 1522.85 1430.68 1518.27 Q1433.76 1513.66 1439.57 1513.66 Z\" fill=\"#000000\" fill-rule=\"nonzero\" fill-opacity=\"1\" /><path clip-path=\"url(#clip020)\" d=\"M1459.73 1542.97 L1464.62 1542.97 L1464.62 1548.85 L1459.73 1548.85 L1459.73 1542.97 Z\" fill=\"#000000\" fill-rule=\"nonzero\" fill-opacity=\"1\" /><path clip-path=\"url(#clip020)\" d=\"M1488.97 1530.21 Q1492.32 1530.93 1494.2 1533.2 Q1496.1 1535.47 1496.1 1538.8 Q1496.1 1543.92 1492.58 1546.72 Q1489.06 1549.52 1482.58 1549.52 Q1480.4 1549.52 1478.09 1549.08 Q1475.8 1548.66 1473.34 1547.81 L1473.34 1543.29 Q1475.29 1544.43 1477.6 1545.01 Q1479.92 1545.58 1482.44 1545.58 Q1486.84 1545.58 1489.13 1543.85 Q1491.44 1542.11 1491.44 1538.8 Q1491.44 1535.75 1489.29 1534.03 Q1487.16 1532.3 1483.34 1532.3 L1479.32 1532.3 L1479.32 1528.45 L1483.53 1528.45 Q1486.98 1528.45 1488.81 1527.09 Q1490.63 1525.7 1490.63 1523.11 Q1490.63 1520.45 1488.74 1519.03 Q1486.86 1517.6 1483.34 1517.6 Q1481.42 1517.6 1479.22 1518.01 Q1477.02 1518.43 1474.38 1519.31 L1474.38 1515.14 Q1477.05 1514.4 1479.36 1514.03 Q1481.7 1513.66 1483.76 1513.66 Q1489.08 1513.66 1492.19 1516.09 Q1495.29 1518.5 1495.29 1522.62 Q1495.29 1525.49 1493.64 1527.48 Q1492 1529.45 1488.97 1530.21 Z\" fill=\"#000000\" fill-rule=\"nonzero\" fill-opacity=\"1\" /><path clip-path=\"url(#clip020)\" d=\"M1853.37 1517.37 Q1849.76 1517.37 1847.93 1520.93 Q1846.13 1524.47 1846.13 1531.6 Q1846.13 1538.71 1847.93 1542.27 Q1849.76 1545.82 1853.37 1545.82 Q1857.01 1545.82 1858.81 1542.27 Q1860.64 1538.71 1860.64 1531.6 Q1860.64 1524.47 1858.81 1520.93 Q1857.01 1517.37 1853.37 1517.37 M1853.37 1513.66 Q1859.18 1513.66 1862.24 1518.27 Q1865.32 1522.85 1865.32 1531.6 Q1865.32 1540.33 1862.24 1544.94 Q1859.18 1549.52 1853.37 1549.52 Q1847.56 1549.52 1844.48 1544.94 Q1841.43 1540.33 1841.43 1531.6 Q1841.43 1522.85 1844.48 1518.27 Q1847.56 1513.66 1853.37 1513.66 Z\" fill=\"#000000\" fill-rule=\"nonzero\" fill-opacity=\"1\" /><path clip-path=\"url(#clip020)\" d=\"M1873.53 1542.97 L1878.42 1542.97 L1878.42 1548.85 L1873.53 1548.85 L1873.53 1542.97 Z\" fill=\"#000000\" fill-rule=\"nonzero\" fill-opacity=\"1\" /><path clip-path=\"url(#clip020)\" d=\"M1901.45 1518.36 L1889.65 1536.81 L1901.45 1536.81 L1901.45 1518.36 M1900.22 1514.29 L1906.1 1514.29 L1906.1 1536.81 L1911.03 1536.81 L1911.03 1540.7 L1906.1 1540.7 L1906.1 1548.85 L1901.45 1548.85 L1901.45 1540.7 L1885.85 1540.7 L1885.85 1536.19 L1900.22 1514.29 Z\" fill=\"#000000\" fill-rule=\"nonzero\" fill-opacity=\"1\" /><path clip-path=\"url(#clip020)\" d=\"M2268.48 1517.37 Q2264.87 1517.37 2263.04 1520.93 Q2261.24 1524.47 2261.24 1531.6 Q2261.24 1538.71 2263.04 1542.27 Q2264.87 1545.82 2268.48 1545.82 Q2272.12 1545.82 2273.92 1542.27 Q2275.75 1538.71 2275.75 1531.6 Q2275.75 1524.47 2273.92 1520.93 Q2272.12 1517.37 2268.48 1517.37 M2268.48 1513.66 Q2274.29 1513.66 2277.35 1518.27 Q2280.43 1522.85 2280.43 1531.6 Q2280.43 1540.33 2277.35 1544.94 Q2274.29 1549.52 2268.48 1549.52 Q2262.67 1549.52 2259.59 1544.94 Q2256.54 1540.33 2256.54 1531.6 Q2256.54 1522.85 2259.59 1518.27 Q2262.67 1513.66 2268.48 1513.66 Z\" fill=\"#000000\" fill-rule=\"nonzero\" fill-opacity=\"1\" /><path clip-path=\"url(#clip020)\" d=\"M2288.64 1542.97 L2293.53 1542.97 L2293.53 1548.85 L2288.64 1548.85 L2288.64 1542.97 Z\" fill=\"#000000\" fill-rule=\"nonzero\" fill-opacity=\"1\" /><path clip-path=\"url(#clip020)\" d=\"M2303.76 1514.29 L2322.12 1514.29 L2322.12 1518.22 L2308.04 1518.22 L2308.04 1526.7 Q2309.06 1526.35 2310.08 1526.19 Q2311.1 1526 2312.12 1526 Q2317.9 1526 2321.28 1529.17 Q2324.66 1532.34 2324.66 1537.76 Q2324.66 1543.34 2321.19 1546.44 Q2317.72 1549.52 2311.4 1549.52 Q2309.22 1549.52 2306.95 1549.15 Q2304.71 1548.78 2302.3 1548.04 L2302.3 1543.34 Q2304.39 1544.47 2306.61 1545.03 Q2308.83 1545.58 2311.31 1545.58 Q2315.31 1545.58 2317.65 1543.48 Q2319.99 1541.37 2319.99 1537.76 Q2319.99 1534.15 2317.65 1532.04 Q2315.31 1529.94 2311.31 1529.94 Q2309.43 1529.94 2307.56 1530.35 Q2305.7 1530.77 2303.76 1531.65 L2303.76 1514.29 Z\" fill=\"#000000\" fill-rule=\"nonzero\" fill-opacity=\"1\" /><polyline clip-path=\"url(#clip020)\" style=\"stroke:#000000; stroke-linecap:round; stroke-linejoin:round; stroke-width:4; stroke-opacity:1; fill:none\" points=\"156.598,1486.45 156.598,47.2441 \"/>\n",
       "<polyline clip-path=\"url(#clip020)\" style=\"stroke:#000000; stroke-linecap:round; stroke-linejoin:round; stroke-width:4; stroke-opacity:1; fill:none\" points=\"156.598,1311.5 175.496,1311.5 \"/>\n",
       "<polyline clip-path=\"url(#clip020)\" style=\"stroke:#000000; stroke-linecap:round; stroke-linejoin:round; stroke-width:4; stroke-opacity:1; fill:none\" points=\"156.598,1031.39 175.496,1031.39 \"/>\n",
       "<polyline clip-path=\"url(#clip020)\" style=\"stroke:#000000; stroke-linecap:round; stroke-linejoin:round; stroke-width:4; stroke-opacity:1; fill:none\" points=\"156.598,751.285 175.496,751.285 \"/>\n",
       "<polyline clip-path=\"url(#clip020)\" style=\"stroke:#000000; stroke-linecap:round; stroke-linejoin:round; stroke-width:4; stroke-opacity:1; fill:none\" points=\"156.598,471.178 175.496,471.178 \"/>\n",
       "<polyline clip-path=\"url(#clip020)\" style=\"stroke:#000000; stroke-linecap:round; stroke-linejoin:round; stroke-width:4; stroke-opacity:1; fill:none\" points=\"156.598,191.071 175.496,191.071 \"/>\n",
       "<path clip-path=\"url(#clip020)\" d=\"M64.6495 1297.3 Q61.0384 1297.3 59.2097 1300.86 Q57.4041 1304.4 57.4041 1311.53 Q57.4041 1318.64 59.2097 1322.2 Q61.0384 1325.75 64.6495 1325.75 Q68.2837 1325.75 70.0892 1322.2 Q71.9179 1318.64 71.9179 1311.53 Q71.9179 1304.4 70.0892 1300.86 Q68.2837 1297.3 64.6495 1297.3 M64.6495 1293.59 Q70.4596 1293.59 73.5152 1298.2 Q76.5938 1302.78 76.5938 1311.53 Q76.5938 1320.26 73.5152 1324.87 Q70.4596 1329.45 64.6495 1329.45 Q58.8393 1329.45 55.7606 1324.87 Q52.7051 1320.26 52.7051 1311.53 Q52.7051 1302.78 55.7606 1298.2 Q58.8393 1293.59 64.6495 1293.59 Z\" fill=\"#000000\" fill-rule=\"nonzero\" fill-opacity=\"1\" /><path clip-path=\"url(#clip020)\" d=\"M84.8114 1322.9 L89.6956 1322.9 L89.6956 1328.78 L84.8114 1328.78 L84.8114 1322.9 Z\" fill=\"#000000\" fill-rule=\"nonzero\" fill-opacity=\"1\" /><path clip-path=\"url(#clip020)\" d=\"M100.691 1324.84 L108.33 1324.84 L108.33 1298.48 L100.02 1300.14 L100.02 1295.88 L108.283 1294.22 L112.959 1294.22 L112.959 1324.84 L120.598 1324.84 L120.598 1328.78 L100.691 1328.78 L100.691 1324.84 Z\" fill=\"#000000\" fill-rule=\"nonzero\" fill-opacity=\"1\" /><path clip-path=\"url(#clip020)\" d=\"M65.0198 1017.19 Q61.4087 1017.19 59.58 1020.75 Q57.7745 1024.3 57.7745 1031.43 Q57.7745 1038.53 59.58 1042.1 Q61.4087 1045.64 65.0198 1045.64 Q68.6541 1045.64 70.4596 1042.1 Q72.2883 1038.53 72.2883 1031.43 Q72.2883 1024.3 70.4596 1020.75 Q68.6541 1017.19 65.0198 1017.19 M65.0198 1013.49 Q70.83 1013.49 73.8855 1018.09 Q76.9642 1022.68 76.9642 1031.43 Q76.9642 1040.15 73.8855 1044.76 Q70.83 1049.34 65.0198 1049.34 Q59.2097 1049.34 56.131 1044.76 Q53.0754 1040.15 53.0754 1031.43 Q53.0754 1022.68 56.131 1018.09 Q59.2097 1013.49 65.0198 1013.49 Z\" fill=\"#000000\" fill-rule=\"nonzero\" fill-opacity=\"1\" /><path clip-path=\"url(#clip020)\" d=\"M85.1818 1042.79 L90.066 1042.79 L90.066 1048.67 L85.1818 1048.67 L85.1818 1042.79 Z\" fill=\"#000000\" fill-rule=\"nonzero\" fill-opacity=\"1\" /><path clip-path=\"url(#clip020)\" d=\"M104.279 1044.74 L120.598 1044.74 L120.598 1048.67 L98.6539 1048.67 L98.6539 1044.74 Q101.316 1041.98 105.899 1037.35 Q110.506 1032.7 111.686 1031.36 Q113.932 1028.83 114.811 1027.1 Q115.714 1025.34 115.714 1023.65 Q115.714 1020.89 113.77 1019.16 Q111.848 1017.42 108.746 1017.42 Q106.547 1017.42 104.094 1018.19 Q101.663 1018.95 98.8854 1020.5 L98.8854 1015.78 Q101.709 1014.64 104.163 1014.06 Q106.617 1013.49 108.654 1013.49 Q114.024 1013.49 117.219 1016.17 Q120.413 1018.86 120.413 1023.35 Q120.413 1025.48 119.603 1027.4 Q118.816 1029.3 116.709 1031.89 Q116.131 1032.56 113.029 1035.78 Q109.927 1038.97 104.279 1044.74 Z\" fill=\"#000000\" fill-rule=\"nonzero\" fill-opacity=\"1\" /><path clip-path=\"url(#clip020)\" d=\"M64.0708 737.083 Q60.4597 737.083 58.631 740.648 Q56.8254 744.19 56.8254 751.319 Q56.8254 758.426 58.631 761.99 Q60.4597 765.532 64.0708 765.532 Q67.705 765.532 69.5105 761.99 Q71.3392 758.426 71.3392 751.319 Q71.3392 744.19 69.5105 740.648 Q67.705 737.083 64.0708 737.083 M64.0708 733.38 Q69.8809 733.38 72.9365 737.986 Q76.0151 742.569 76.0151 751.319 Q76.0151 760.046 72.9365 764.652 Q69.8809 769.236 64.0708 769.236 Q58.2606 769.236 55.1819 764.652 Q52.1264 760.046 52.1264 751.319 Q52.1264 742.569 55.1819 737.986 Q58.2606 733.38 64.0708 733.38 Z\" fill=\"#000000\" fill-rule=\"nonzero\" fill-opacity=\"1\" /><path clip-path=\"url(#clip020)\" d=\"M84.2327 762.685 L89.1169 762.685 L89.1169 768.565 L84.2327 768.565 L84.2327 762.685 Z\" fill=\"#000000\" fill-rule=\"nonzero\" fill-opacity=\"1\" /><path clip-path=\"url(#clip020)\" d=\"M113.469 749.93 Q116.825 750.648 118.7 752.916 Q120.598 755.185 120.598 758.518 Q120.598 763.634 117.08 766.435 Q113.561 769.236 107.08 769.236 Q104.904 769.236 102.589 768.796 Q100.297 768.379 97.8437 767.523 L97.8437 763.009 Q99.7882 764.143 102.103 764.722 Q104.418 765.301 106.941 765.301 Q111.339 765.301 113.631 763.565 Q115.945 761.828 115.945 758.518 Q115.945 755.463 113.793 753.75 Q111.663 752.014 107.844 752.014 L103.816 752.014 L103.816 748.171 L108.029 748.171 Q111.478 748.171 113.307 746.805 Q115.135 745.416 115.135 742.824 Q115.135 740.162 113.237 738.75 Q111.362 737.315 107.844 737.315 Q105.922 737.315 103.723 737.731 Q101.524 738.148 98.8854 739.028 L98.8854 734.861 Q101.547 734.12 103.862 733.75 Q106.2 733.38 108.26 733.38 Q113.584 733.38 116.686 735.81 Q119.788 738.217 119.788 742.338 Q119.788 745.208 118.145 747.199 Q116.501 749.166 113.469 749.93 Z\" fill=\"#000000\" fill-rule=\"nonzero\" fill-opacity=\"1\" /><path clip-path=\"url(#clip020)\" d=\"M62.9365 456.976 Q59.3254 456.976 57.4967 460.541 Q55.6912 464.083 55.6912 471.213 Q55.6912 478.319 57.4967 481.884 Q59.3254 485.425 62.9365 485.425 Q66.5707 485.425 68.3763 481.884 Q70.205 478.319 70.205 471.213 Q70.205 464.083 68.3763 460.541 Q66.5707 456.976 62.9365 456.976 M62.9365 453.273 Q68.7467 453.273 71.8022 457.879 Q74.8809 462.463 74.8809 471.213 Q74.8809 479.939 71.8022 484.546 Q68.7467 489.129 62.9365 489.129 Q57.1264 489.129 54.0477 484.546 Q50.9921 479.939 50.9921 471.213 Q50.9921 462.463 54.0477 457.879 Q57.1264 453.273 62.9365 453.273 Z\" fill=\"#000000\" fill-rule=\"nonzero\" fill-opacity=\"1\" /><path clip-path=\"url(#clip020)\" d=\"M83.0984 482.578 L87.9827 482.578 L87.9827 488.458 L83.0984 488.458 L83.0984 482.578 Z\" fill=\"#000000\" fill-rule=\"nonzero\" fill-opacity=\"1\" /><path clip-path=\"url(#clip020)\" d=\"M111.015 457.972 L99.2095 476.421 L111.015 476.421 L111.015 457.972 M109.788 453.898 L115.668 453.898 L115.668 476.421 L120.598 476.421 L120.598 480.31 L115.668 480.31 L115.668 488.458 L111.015 488.458 L111.015 480.31 L95.4132 480.31 L95.4132 475.796 L109.788 453.898 Z\" fill=\"#000000\" fill-rule=\"nonzero\" fill-opacity=\"1\" /><path clip-path=\"url(#clip020)\" d=\"M64.418 176.87 Q60.8069 176.87 58.9782 180.435 Q57.1726 183.976 57.1726 191.106 Q57.1726 198.212 58.9782 201.777 Q60.8069 205.319 64.418 205.319 Q68.0522 205.319 69.8578 201.777 Q71.6865 198.212 71.6865 191.106 Q71.6865 183.976 69.8578 180.435 Q68.0522 176.87 64.418 176.87 M64.418 173.166 Q70.2281 173.166 73.2837 177.773 Q76.3624 182.356 76.3624 191.106 Q76.3624 199.833 73.2837 204.439 Q70.2281 209.022 64.418 209.022 Q58.6078 209.022 55.5291 204.439 Q52.4736 199.833 52.4736 191.106 Q52.4736 182.356 55.5291 177.773 Q58.6078 173.166 64.418 173.166 Z\" fill=\"#000000\" fill-rule=\"nonzero\" fill-opacity=\"1\" /><path clip-path=\"url(#clip020)\" d=\"M84.5799 202.472 L89.4641 202.472 L89.4641 208.351 L84.5799 208.351 L84.5799 202.472 Z\" fill=\"#000000\" fill-rule=\"nonzero\" fill-opacity=\"1\" /><path clip-path=\"url(#clip020)\" d=\"M99.6956 173.791 L118.052 173.791 L118.052 177.726 L103.978 177.726 L103.978 186.198 Q104.996 185.851 106.015 185.689 Q107.033 185.504 108.052 185.504 Q113.839 185.504 117.219 188.675 Q120.598 191.847 120.598 197.263 Q120.598 202.842 117.126 205.944 Q113.654 209.022 107.334 209.022 Q105.159 209.022 102.89 208.652 Q100.645 208.282 98.2372 207.541 L98.2372 202.842 Q100.321 203.976 102.543 204.532 Q104.765 205.087 107.242 205.087 Q111.246 205.087 113.584 202.981 Q115.922 200.874 115.922 197.263 Q115.922 193.652 113.584 191.546 Q111.246 189.439 107.242 189.439 Q105.367 189.439 103.492 189.856 Q101.64 190.272 99.6956 191.152 L99.6956 173.791 Z\" fill=\"#000000\" fill-rule=\"nonzero\" fill-opacity=\"1\" /><polyline clip-path=\"url(#clip022)\" style=\"stroke:#009af9; stroke-linecap:round; stroke-linejoin:round; stroke-width:4; stroke-opacity:1; fill:none\" points=\"218.754,1318.68 425.938,1132.23 633.123,895.89 840.308,679.157 1047.49,444.218 1254.68,337.952 1461.86,229.761 1669.05,181.968 1876.23,127.697 2083.42,219.082 2290.6,227.66 \"/>\n",
       "<circle clip-path=\"url(#clip022)\" cx=\"218.754\" cy=\"1318.68\" r=\"10.8\" fill=\"#009af9\" fill-rule=\"evenodd\" fill-opacity=\"1\" stroke=\"#000000\" stroke-opacity=\"1\" stroke-width=\"3.2\"/>\n",
       "<circle clip-path=\"url(#clip022)\" cx=\"425.938\" cy=\"1132.23\" r=\"10.8\" fill=\"#009af9\" fill-rule=\"evenodd\" fill-opacity=\"1\" stroke=\"#000000\" stroke-opacity=\"1\" stroke-width=\"3.2\"/>\n",
       "<circle clip-path=\"url(#clip022)\" cx=\"633.123\" cy=\"895.89\" r=\"10.8\" fill=\"#009af9\" fill-rule=\"evenodd\" fill-opacity=\"1\" stroke=\"#000000\" stroke-opacity=\"1\" stroke-width=\"3.2\"/>\n",
       "<circle clip-path=\"url(#clip022)\" cx=\"840.308\" cy=\"679.157\" r=\"10.8\" fill=\"#009af9\" fill-rule=\"evenodd\" fill-opacity=\"1\" stroke=\"#000000\" stroke-opacity=\"1\" stroke-width=\"3.2\"/>\n",
       "<circle clip-path=\"url(#clip022)\" cx=\"1047.49\" cy=\"444.218\" r=\"10.8\" fill=\"#009af9\" fill-rule=\"evenodd\" fill-opacity=\"1\" stroke=\"#000000\" stroke-opacity=\"1\" stroke-width=\"3.2\"/>\n",
       "<circle clip-path=\"url(#clip022)\" cx=\"1254.68\" cy=\"337.952\" r=\"10.8\" fill=\"#009af9\" fill-rule=\"evenodd\" fill-opacity=\"1\" stroke=\"#000000\" stroke-opacity=\"1\" stroke-width=\"3.2\"/>\n",
       "<circle clip-path=\"url(#clip022)\" cx=\"1461.86\" cy=\"229.761\" r=\"10.8\" fill=\"#009af9\" fill-rule=\"evenodd\" fill-opacity=\"1\" stroke=\"#000000\" stroke-opacity=\"1\" stroke-width=\"3.2\"/>\n",
       "<circle clip-path=\"url(#clip022)\" cx=\"1669.05\" cy=\"181.968\" r=\"10.8\" fill=\"#009af9\" fill-rule=\"evenodd\" fill-opacity=\"1\" stroke=\"#000000\" stroke-opacity=\"1\" stroke-width=\"3.2\"/>\n",
       "<circle clip-path=\"url(#clip022)\" cx=\"1876.23\" cy=\"127.697\" r=\"10.8\" fill=\"#009af9\" fill-rule=\"evenodd\" fill-opacity=\"1\" stroke=\"#000000\" stroke-opacity=\"1\" stroke-width=\"3.2\"/>\n",
       "<circle clip-path=\"url(#clip022)\" cx=\"2083.42\" cy=\"219.082\" r=\"10.8\" fill=\"#009af9\" fill-rule=\"evenodd\" fill-opacity=\"1\" stroke=\"#000000\" stroke-opacity=\"1\" stroke-width=\"3.2\"/>\n",
       "<circle clip-path=\"url(#clip022)\" cx=\"2290.6\" cy=\"227.66\" r=\"10.8\" fill=\"#009af9\" fill-rule=\"evenodd\" fill-opacity=\"1\" stroke=\"#000000\" stroke-opacity=\"1\" stroke-width=\"3.2\"/>\n",
       "<polyline clip-path=\"url(#clip022)\" style=\"stroke:#e26f46; stroke-linecap:round; stroke-linejoin:round; stroke-width:4; stroke-opacity:1; fill:none\" points=\"218.754,1417.72 425.938,1314.34 633.123,1103.47 840.308,782.49 1047.49,390.997 1254.68,275.103 1461.86,228.448 1669.05,173.915 1876.23,207.309 2083.42,165.205 2290.6,188.007 \"/>\n",
       "<circle clip-path=\"url(#clip022)\" cx=\"218.754\" cy=\"1417.72\" r=\"10.8\" fill=\"#e26f46\" fill-rule=\"evenodd\" fill-opacity=\"1\" stroke=\"#000000\" stroke-opacity=\"1\" stroke-width=\"3.2\"/>\n",
       "<circle clip-path=\"url(#clip022)\" cx=\"425.938\" cy=\"1314.34\" r=\"10.8\" fill=\"#e26f46\" fill-rule=\"evenodd\" fill-opacity=\"1\" stroke=\"#000000\" stroke-opacity=\"1\" stroke-width=\"3.2\"/>\n",
       "<circle clip-path=\"url(#clip022)\" cx=\"633.123\" cy=\"1103.47\" r=\"10.8\" fill=\"#e26f46\" fill-rule=\"evenodd\" fill-opacity=\"1\" stroke=\"#000000\" stroke-opacity=\"1\" stroke-width=\"3.2\"/>\n",
       "<circle clip-path=\"url(#clip022)\" cx=\"840.308\" cy=\"782.49\" r=\"10.8\" fill=\"#e26f46\" fill-rule=\"evenodd\" fill-opacity=\"1\" stroke=\"#000000\" stroke-opacity=\"1\" stroke-width=\"3.2\"/>\n",
       "<circle clip-path=\"url(#clip022)\" cx=\"1047.49\" cy=\"390.997\" r=\"10.8\" fill=\"#e26f46\" fill-rule=\"evenodd\" fill-opacity=\"1\" stroke=\"#000000\" stroke-opacity=\"1\" stroke-width=\"3.2\"/>\n",
       "<circle clip-path=\"url(#clip022)\" cx=\"1254.68\" cy=\"275.103\" r=\"10.8\" fill=\"#e26f46\" fill-rule=\"evenodd\" fill-opacity=\"1\" stroke=\"#000000\" stroke-opacity=\"1\" stroke-width=\"3.2\"/>\n",
       "<circle clip-path=\"url(#clip022)\" cx=\"1461.86\" cy=\"228.448\" r=\"10.8\" fill=\"#e26f46\" fill-rule=\"evenodd\" fill-opacity=\"1\" stroke=\"#000000\" stroke-opacity=\"1\" stroke-width=\"3.2\"/>\n",
       "<circle clip-path=\"url(#clip022)\" cx=\"1669.05\" cy=\"173.915\" r=\"10.8\" fill=\"#e26f46\" fill-rule=\"evenodd\" fill-opacity=\"1\" stroke=\"#000000\" stroke-opacity=\"1\" stroke-width=\"3.2\"/>\n",
       "<circle clip-path=\"url(#clip022)\" cx=\"1876.23\" cy=\"207.309\" r=\"10.8\" fill=\"#e26f46\" fill-rule=\"evenodd\" fill-opacity=\"1\" stroke=\"#000000\" stroke-opacity=\"1\" stroke-width=\"3.2\"/>\n",
       "<circle clip-path=\"url(#clip022)\" cx=\"2083.42\" cy=\"165.205\" r=\"10.8\" fill=\"#e26f46\" fill-rule=\"evenodd\" fill-opacity=\"1\" stroke=\"#000000\" stroke-opacity=\"1\" stroke-width=\"3.2\"/>\n",
       "<circle clip-path=\"url(#clip022)\" cx=\"2290.6\" cy=\"188.007\" r=\"10.8\" fill=\"#e26f46\" fill-rule=\"evenodd\" fill-opacity=\"1\" stroke=\"#000000\" stroke-opacity=\"1\" stroke-width=\"3.2\"/>\n",
       "<polyline clip-path=\"url(#clip022)\" style=\"stroke:#3da44d; stroke-linecap:round; stroke-linejoin:round; stroke-width:4; stroke-opacity:1; fill:none\" points=\"218.754,1445.72 425.938,1359.15 633.123,1154.52 840.308,923.239 1047.49,509.498 1254.68,87.9763 1461.86,191.071 1669.05,202.353 1876.23,307.199 2083.42,198.074 2290.6,142.247 \"/>\n",
       "<circle clip-path=\"url(#clip022)\" cx=\"218.754\" cy=\"1445.72\" r=\"10.8\" fill=\"#3da44d\" fill-rule=\"evenodd\" fill-opacity=\"1\" stroke=\"#000000\" stroke-opacity=\"1\" stroke-width=\"3.2\"/>\n",
       "<circle clip-path=\"url(#clip022)\" cx=\"425.938\" cy=\"1359.15\" r=\"10.8\" fill=\"#3da44d\" fill-rule=\"evenodd\" fill-opacity=\"1\" stroke=\"#000000\" stroke-opacity=\"1\" stroke-width=\"3.2\"/>\n",
       "<circle clip-path=\"url(#clip022)\" cx=\"633.123\" cy=\"1154.52\" r=\"10.8\" fill=\"#3da44d\" fill-rule=\"evenodd\" fill-opacity=\"1\" stroke=\"#000000\" stroke-opacity=\"1\" stroke-width=\"3.2\"/>\n",
       "<circle clip-path=\"url(#clip022)\" cx=\"840.308\" cy=\"923.239\" r=\"10.8\" fill=\"#3da44d\" fill-rule=\"evenodd\" fill-opacity=\"1\" stroke=\"#000000\" stroke-opacity=\"1\" stroke-width=\"3.2\"/>\n",
       "<circle clip-path=\"url(#clip022)\" cx=\"1047.49\" cy=\"509.498\" r=\"10.8\" fill=\"#3da44d\" fill-rule=\"evenodd\" fill-opacity=\"1\" stroke=\"#000000\" stroke-opacity=\"1\" stroke-width=\"3.2\"/>\n",
       "<circle clip-path=\"url(#clip022)\" cx=\"1254.68\" cy=\"87.9763\" r=\"10.8\" fill=\"#3da44d\" fill-rule=\"evenodd\" fill-opacity=\"1\" stroke=\"#000000\" stroke-opacity=\"1\" stroke-width=\"3.2\"/>\n",
       "<circle clip-path=\"url(#clip022)\" cx=\"1461.86\" cy=\"191.071\" r=\"10.8\" fill=\"#3da44d\" fill-rule=\"evenodd\" fill-opacity=\"1\" stroke=\"#000000\" stroke-opacity=\"1\" stroke-width=\"3.2\"/>\n",
       "<circle clip-path=\"url(#clip022)\" cx=\"1669.05\" cy=\"202.353\" r=\"10.8\" fill=\"#3da44d\" fill-rule=\"evenodd\" fill-opacity=\"1\" stroke=\"#000000\" stroke-opacity=\"1\" stroke-width=\"3.2\"/>\n",
       "<circle clip-path=\"url(#clip022)\" cx=\"1876.23\" cy=\"307.199\" r=\"10.8\" fill=\"#3da44d\" fill-rule=\"evenodd\" fill-opacity=\"1\" stroke=\"#000000\" stroke-opacity=\"1\" stroke-width=\"3.2\"/>\n",
       "<circle clip-path=\"url(#clip022)\" cx=\"2083.42\" cy=\"198.074\" r=\"10.8\" fill=\"#3da44d\" fill-rule=\"evenodd\" fill-opacity=\"1\" stroke=\"#000000\" stroke-opacity=\"1\" stroke-width=\"3.2\"/>\n",
       "<circle clip-path=\"url(#clip022)\" cx=\"2290.6\" cy=\"142.247\" r=\"10.8\" fill=\"#3da44d\" fill-rule=\"evenodd\" fill-opacity=\"1\" stroke=\"#000000\" stroke-opacity=\"1\" stroke-width=\"3.2\"/>\n",
       "<path clip-path=\"url(#clip020)\" d=\"M229.803 302.578 L566.479 302.578 L566.479 95.2176 L229.803 95.2176  Z\" fill=\"#ffffff\" fill-rule=\"evenodd\" fill-opacity=\"1\"/>\n",
       "<polyline clip-path=\"url(#clip020)\" style=\"stroke:#000000; stroke-linecap:round; stroke-linejoin:round; stroke-width:4; stroke-opacity:1; fill:none\" points=\"229.803,302.578 566.479,302.578 566.479,95.2176 229.803,95.2176 229.803,302.578 \"/>\n",
       "<polyline clip-path=\"url(#clip020)\" style=\"stroke:#009af9; stroke-linecap:round; stroke-linejoin:round; stroke-width:4; stroke-opacity:1; fill:none\" points=\"254.205,147.058 400.616,147.058 \"/>\n",
       "<circle clip-path=\"url(#clip020)\" cx=\"327.41\" cy=\"147.058\" r=\"19.7486\" fill=\"#009af9\" fill-rule=\"evenodd\" fill-opacity=\"1\" stroke=\"#000000\" stroke-opacity=\"1\" stroke-width=\"5.85143\"/>\n",
       "<path clip-path=\"url(#clip020)\" d=\"M425.018 129.778 L429.693 129.778 L429.693 160.402 L446.522 160.402 L446.522 164.338 L425.018 164.338 L425.018 129.778 Z\" fill=\"#000000\" fill-rule=\"nonzero\" fill-opacity=\"1\" /><path clip-path=\"url(#clip020)\" d=\"M451.8 142.81 L481.476 142.81 L481.476 146.699 L451.8 146.699 L451.8 142.81 M451.8 152.254 L481.476 152.254 L481.476 156.189 L451.8 156.189 L451.8 152.254 Z\" fill=\"#000000\" fill-rule=\"nonzero\" fill-opacity=\"1\" /><path clip-path=\"url(#clip020)\" d=\"M504.415 133.852 L492.61 152.301 L504.415 152.301 L504.415 133.852 M503.188 129.778 L509.068 129.778 L509.068 152.301 L513.999 152.301 L513.999 156.189 L509.068 156.189 L509.068 164.338 L504.415 164.338 L504.415 156.189 L488.813 156.189 L488.813 151.676 L503.188 129.778 Z\" fill=\"#000000\" fill-rule=\"nonzero\" fill-opacity=\"1\" /><polyline clip-path=\"url(#clip020)\" style=\"stroke:#e26f46; stroke-linecap:round; stroke-linejoin:round; stroke-width:4; stroke-opacity:1; fill:none\" points=\"254.205,198.898 400.616,198.898 \"/>\n",
       "<circle clip-path=\"url(#clip020)\" cx=\"327.41\" cy=\"198.898\" r=\"19.7486\" fill=\"#e26f46\" fill-rule=\"evenodd\" fill-opacity=\"1\" stroke=\"#000000\" stroke-opacity=\"1\" stroke-width=\"5.85143\"/>\n",
       "<path clip-path=\"url(#clip020)\" d=\"M425.018 181.618 L429.693 181.618 L429.693 212.242 L446.522 212.242 L446.522 216.178 L425.018 216.178 L425.018 181.618 Z\" fill=\"#000000\" fill-rule=\"nonzero\" fill-opacity=\"1\" /><path clip-path=\"url(#clip020)\" d=\"M451.8 194.65 L481.476 194.65 L481.476 198.539 L451.8 198.539 L451.8 194.65 M451.8 204.094 L481.476 204.094 L481.476 208.029 L451.8 208.029 L451.8 204.094 Z\" fill=\"#000000\" fill-rule=\"nonzero\" fill-opacity=\"1\" /><path clip-path=\"url(#clip020)\" d=\"M501.568 199.766 Q498.235 199.766 496.313 201.548 Q494.415 203.33 494.415 206.455 Q494.415 209.58 496.313 211.363 Q498.235 213.145 501.568 213.145 Q504.901 213.145 506.823 211.363 Q508.744 209.557 508.744 206.455 Q508.744 203.33 506.823 201.548 Q504.924 199.766 501.568 199.766 M496.892 197.775 Q493.883 197.034 492.193 194.974 Q490.526 192.914 490.526 189.951 Q490.526 185.807 493.466 183.4 Q496.429 180.993 501.568 180.993 Q506.73 180.993 509.67 183.4 Q512.61 185.807 512.61 189.951 Q512.61 192.914 510.92 194.974 Q509.253 197.034 506.267 197.775 Q509.647 198.562 511.522 200.854 Q513.42 203.145 513.42 206.455 Q513.42 211.479 510.341 214.164 Q507.286 216.849 501.568 216.849 Q495.85 216.849 492.772 214.164 Q489.716 211.479 489.716 206.455 Q489.716 203.145 491.614 200.854 Q493.513 198.562 496.892 197.775 M495.179 190.391 Q495.179 193.076 496.846 194.58 Q498.536 196.085 501.568 196.085 Q504.577 196.085 506.267 194.58 Q507.98 193.076 507.98 190.391 Q507.98 187.705 506.267 186.201 Q504.577 184.696 501.568 184.696 Q498.536 184.696 496.846 186.201 Q495.179 187.705 495.179 190.391 Z\" fill=\"#000000\" fill-rule=\"nonzero\" fill-opacity=\"1\" /><polyline clip-path=\"url(#clip020)\" style=\"stroke:#3da44d; stroke-linecap:round; stroke-linejoin:round; stroke-width:4; stroke-opacity:1; fill:none\" points=\"254.205,250.738 400.616,250.738 \"/>\n",
       "<circle clip-path=\"url(#clip020)\" cx=\"327.41\" cy=\"250.738\" r=\"19.7486\" fill=\"#3da44d\" fill-rule=\"evenodd\" fill-opacity=\"1\" stroke=\"#000000\" stroke-opacity=\"1\" stroke-width=\"5.85143\"/>\n",
       "<path clip-path=\"url(#clip020)\" d=\"M425.018 233.458 L429.693 233.458 L429.693 264.082 L446.522 264.082 L446.522 268.018 L425.018 268.018 L425.018 233.458 Z\" fill=\"#000000\" fill-rule=\"nonzero\" fill-opacity=\"1\" /><path clip-path=\"url(#clip020)\" d=\"M451.8 246.49 L481.476 246.49 L481.476 250.379 L451.8 250.379 L451.8 246.49 M451.8 255.934 L481.476 255.934 L481.476 259.869 L451.8 259.869 L451.8 255.934 Z\" fill=\"#000000\" fill-rule=\"nonzero\" fill-opacity=\"1\" /><path clip-path=\"url(#clip020)\" d=\"M492.378 264.082 L500.017 264.082 L500.017 237.717 L491.707 239.383 L491.707 235.124 L499.971 233.458 L504.647 233.458 L504.647 264.082 L512.286 264.082 L512.286 268.018 L492.378 268.018 L492.378 264.082 Z\" fill=\"#000000\" fill-rule=\"nonzero\" fill-opacity=\"1\" /><path clip-path=\"url(#clip020)\" d=\"M525.758 264.082 L542.077 264.082 L542.077 268.018 L520.133 268.018 L520.133 264.082 Q522.795 261.328 527.378 256.698 Q531.985 252.045 533.165 250.703 Q535.41 248.18 536.29 246.444 Q537.193 244.684 537.193 242.995 Q537.193 240.24 535.248 238.504 Q533.327 236.768 530.225 236.768 Q528.026 236.768 525.573 237.532 Q523.142 238.295 520.364 239.846 L520.364 235.124 Q523.188 233.99 525.642 233.411 Q528.096 232.833 530.133 232.833 Q535.503 232.833 538.697 235.518 Q541.892 238.203 541.892 242.694 Q541.892 244.823 541.082 246.745 Q540.295 248.643 538.188 251.235 Q537.609 251.907 534.508 255.124 Q531.406 258.319 525.758 264.082 Z\" fill=\"#000000\" fill-rule=\"nonzero\" fill-opacity=\"1\" /></svg>\n"
      ]
     },
     "metadata": {},
     "output_type": "display_data"
    }
   ],
   "source": [
    "plt = plot()\n",
    "for L in 4:4:12\n",
    "    T = 2L\n",
    "    q = 0.1\n",
    "    peff = 0.2\n",
    "\n",
    "    ps = 0.0:0.05:0.5\n",
    "    ys = [data[(L,T,p,peff,q)][2L] for p in ps]\n",
    "\n",
    "    plot!(plt, ps, ys, m=3, label=\"L=$L\")\n",
    "end\n",
    "plt"
   ]
  },
  {
   "cell_type": "code",
   "execution_count": 248,
   "id": "7bb04166",
   "metadata": {},
   "outputs": [
    {
     "data": {
      "text/plain": [
       "17-element Vector{Float64}:\n",
       " 0.0\n",
       " 0.062125\n",
       " 0.061875\n",
       " 0.059203125\n",
       " 0.06446875\n",
       " 0.059671875\n",
       " 0.062125\n",
       " 0.068828125\n",
       " 0.063171875\n",
       " 0.065109375\n",
       " 0.064203125\n",
       " 0.066234375\n",
       " 0.0668125\n",
       " 0.061890625\n",
       " 0.064765625\n",
       " 0.062078125\n",
       " 0.065234375"
      ]
     },
     "metadata": {},
     "output_type": "display_data"
    }
   ],
   "source": [
    "data[(8,16,0.0,0.2,0.1)]"
   ]
  },
  {
   "cell_type": "code",
   "execution_count": 387,
   "id": "fe655946",
   "metadata": {},
   "outputs": [
    {
     "name": "stdout",
     "output_type": "stream",
     "text": [
      "[(3, 5), (6, 2)]\n",
      "(3, 5)(6, 2)\n",
      "[((3, 5), (2, 5)), ((2, 5), (1, 5)), ((1, 5), (8, 5)), ((8, 5), (8, 4)), ((8, 4), (8, 3)), ((8, 3), (8, 2)), ((8, 2), (7, 2)), ((7, 2), (6, 2))]\n",
      "Tuple{Int64, Int64}[]\n"
     ]
    },
    {
     "data": {
      "text/plain": [
       "8×8 BitMatrix:\n",
       " 0  0  0  0  0  0  0  0\n",
       " 0  0  0  0  0  0  0  0\n",
       " 0  0  0  0  0  0  1  1\n",
       " 0  0  0  0  0  0  1  1\n",
       " 0  0  0  0  0  0  1  1\n",
       " 1  1  1  1  1  1  1  1\n",
       " 1  1  1  1  1  1  1  1\n",
       " 1  1  1  1  1  1  1  1"
      ]
     },
     "metadata": {},
     "output_type": "display_data"
    }
   ],
   "source": [
    "L = 8\n",
    "peff = 0.5\n",
    "q = 0.1\n",
    "ρ = initialstate(L)\n",
    "\n",
    "horizontal_checks = [0 0 0 0 0 0 0 0\n",
    "                     0 0 0 0 0 0 0 0\n",
    "                     0 0 0 0 0 0 0 0\n",
    "                     0 0 0 0 0 0 0 0\n",
    "                     0 0 0 1 1 1 0 0\n",
    "                     0 0 0 0 0 0 0 0\n",
    "                     0 0 0 0 0 0 0 0\n",
    "                     0 0 0 0 0 0 0 0]\n",
    "\n",
    "vertical_checks = [0 0 0 0 0 0 0 0\n",
    "                   0 0 0 0 0 0 0 0\n",
    "                   0 0 0 0 0 1 0 0\n",
    "                   0 0 0 0 0 1 0 0\n",
    "                   0 0 0 0 0 1 0 0\n",
    "                   0 0 0 0 0 0 0 0\n",
    "                   0 0 0 0 0 0 0 0\n",
    "                   0 0 0 0 0 0 0 0]\n",
    "\n",
    "charges = detect_charges(horizontal_checks, vertical_checks)\n",
    "println(charges)\n",
    "# g = build_matching_graph((horizontal_checks, vertical_checks), peff, q)\n",
    "# fw = floyd_warshall_shortest_paths(g)\n",
    "# match = match_charges(fw, charges, L)\n",
    "\n",
    "# mated = Int[]\n",
    "\n",
    "# for i in 1:length(charges)\n",
    "#     j = match.mate[i]\n",
    "#     if j in mated\n",
    "#         continue\n",
    "#     end\n",
    "\n",
    "#     println(charges[i], charges[j])\n",
    "\n",
    "#     path = enumerate_paths(fw)[site(L,charges[i]...)][site(L,charges[j]...)]\n",
    "\n",
    "#     sites = unsite.(L, path)\n",
    "#     steps = [((x1,y1),(x2,y2)) for ((x1,y1),(x2,y2)) in zip(sites[1:end-1], sites[2:end])]\n",
    "#     println(steps)\n",
    "#     for ((x1, y1), (x2, y2)) in steps\n",
    "#         if x1 == x2\n",
    "#             vertical_checks[modmax(L, y1, y2), x1] ⊻= true\n",
    "#         elseif y1 == y2\n",
    "#             horizontal_checks[y1, modmax(L, x1, x2)] ⊻= true\n",
    "#         end\n",
    "#     end\n",
    "\n",
    "#     push!(mated, i)\n",
    "#     push!(mated, j)\n",
    "# end\n",
    "\n",
    "horizontal_checks, vertical_checks = heal((horizontal_checks, vertical_checks), peff, q)\n",
    "charges = detect_charges(horizontal_checks, vertical_checks)\n",
    "println(charges)\n",
    "domain = track_domains((horizontal_checks, vertical_checks))\n",
    "if magnetization(domain) > 0.5\n",
    "    domain = .!domain\n",
    "end\n",
    "\n",
    "ρ .⊻ domain"
   ]
  },
  {
   "cell_type": "code",
   "execution_count": 250,
   "id": "671ceba9",
   "metadata": {},
   "outputs": [
    {
     "data": {
      "text/plain": [
       "1"
      ]
     },
     "metadata": {},
     "output_type": "display_data"
    }
   ],
   "source": [
    "modmax(8,1,8)"
   ]
  },
  {
   "cell_type": "code",
   "execution_count": 251,
   "id": "f8e0d395",
   "metadata": {},
   "outputs": [
    {
     "data": {
      "text/plain": [
       "8×16 Matrix{Int64}:\n",
       " 0  0  0  0  0  0  0  0  0  0  0  0  0  0  0  0\n",
       " 0  0  0  0  0  0  0  0  0  0  0  0  0  0  0  0\n",
       " 0  0  0  0  0  0  0  0  0  0  0  0  0  0  0  0\n",
       " 0  0  0  0  0  0  0  0  0  0  0  0  0  0  0  0\n",
       " 0  0  0  0  0  0  0  0  0  0  0  0  0  0  0  0\n",
       " 0  0  0  0  0  0  0  0  0  0  0  0  0  0  0  0\n",
       " 0  0  0  0  0  0  0  0  0  0  0  0  0  0  0  0\n",
       " 0  0  0  0  0  0  0  0  0  0  0  0  0  0  0  0"
      ]
     },
     "metadata": {},
     "output_type": "display_data"
    }
   ],
   "source": [
    "[horizontal_checks vertical_checks]"
   ]
  },
  {
   "cell_type": "code",
   "execution_count": 252,
   "id": "572097ac",
   "metadata": {},
   "outputs": [],
   "source": []
  },
  {
   "cell_type": "code",
   "execution_count": 253,
   "id": "fa0b01c2",
   "metadata": {},
   "outputs": [
    {
     "data": {
      "text/plain": [
       "64×64 Matrix{Float64}:\n",
       " 0.0      2.19722  4.39445  4.39445  …  2.19722  2.19722  2.19722  2.19722\n",
       " 2.19722  0.0      2.19722  4.39445     2.19722  2.19722  2.19722  2.19722\n",
       " 4.39445  2.19722  0.0      2.19722     2.19722  2.19722  2.19722  2.19722\n",
       " 4.39445  4.39445  2.19722  0.0         2.19722  2.19722  2.19722  2.19722\n",
       " 4.39445  4.39445  4.39445  2.19722     2.19722  2.19722  2.19722  2.19722\n",
       " 4.39445  4.39445  4.39445  4.39445  …  2.19722  2.19722  2.19722  2.19722\n",
       " 4.39445  4.39445  4.39445  4.39445     2.19722  2.19722  2.19722  2.19722\n",
       " 2.19722  2.19722  2.19722  2.19722     0.0      0.0      0.0      0.0\n",
       " 2.19722  4.39445  4.39445  4.39445     2.19722  2.19722  2.19722  2.19722\n",
       " 4.39445  2.19722  4.39445  6.59167     4.39445  4.39445  4.39445  4.39445\n",
       " ⋮                                   ⋱  ⋮                          \n",
       " 2.19722  2.19722  2.19722  2.19722  …  0.0      0.0      0.0      0.0\n",
       " 2.19722  2.19722  2.19722  2.19722     0.0      0.0      0.0      0.0\n",
       " 2.19722  2.19722  2.19722  2.19722     0.0      0.0      0.0      0.0\n",
       " 2.19722  2.19722  2.19722  2.19722     0.0      0.0      0.0      0.0\n",
       " 2.19722  2.19722  2.19722  2.19722     0.0      0.0      0.0      0.0\n",
       " 2.19722  2.19722  2.19722  2.19722  …  0.0      0.0      0.0      0.0\n",
       " 2.19722  2.19722  2.19722  2.19722     0.0      0.0      0.0      0.0\n",
       " 2.19722  2.19722  2.19722  2.19722     0.0      0.0      0.0      0.0\n",
       " 2.19722  2.19722  2.19722  2.19722     0.0      0.0      0.0      0.0"
      ]
     },
     "metadata": {},
     "output_type": "display_data"
    }
   ],
   "source": [
    "fw.dists"
   ]
  },
  {
   "cell_type": "code",
   "execution_count": 254,
   "id": "48c34800",
   "metadata": {},
   "outputs": [
    {
     "data": {
      "text/plain": [
       "17-element Vector{Float64}:\n",
       " 0.0\n",
       " 0.066\n",
       " 0.103\n",
       " 0.141\n",
       " 0.178\n",
       " 0.214\n",
       " 0.237\n",
       " 0.258\n",
       " 0.291\n",
       " 0.311\n",
       " 0.338\n",
       " 0.357\n",
       " 0.373\n",
       " 0.391\n",
       " 0.405\n",
       " 0.413\n",
       " 0.432"
      ]
     },
     "metadata": {},
     "output_type": "display_data"
    }
   ],
   "source": [
    "L = 8\n",
    "T = 2L\n",
    "p = 0.4\n",
    "peff = 0.1\n",
    "q = 0.0\n",
    "samples = 1000\n",
    "sample(L, T, p, peff, q, samples)"
   ]
  },
  {
   "cell_type": "code",
   "execution_count": 255,
   "id": "6effd7f9",
   "metadata": {},
   "outputs": [
    {
     "ename": "InterruptException",
     "evalue": "InterruptException:",
     "output_type": "error",
     "traceback": [
      "InterruptException:\n",
      "\n",
      "Stacktrace:\n",
      "  [1] (::Base.var\"#133#134\"{Vector{Int64}, Int64, Int64, Int64, Int64, Int64, Memory{Int64}, MemoryRef{Int64}})()\n",
      "    @ Base ./array.jl:1116\n",
      "  [2] _growend!\n",
      "    @ ./array.jl:1116 [inlined]\n",
      "  [3] push!\n",
      "    @ ./array.jl:1261 [inlined]\n",
      "  [4] enumerate_paths(s::Graphs.FloydWarshallState{Float64, Int64}, v::Int64)\n",
      "    @ Graphs ~/.julia/packages/Graphs/OIRln/src/shortestpaths/floyd-warshall.jl:87\n",
      "  [5] #147\n",
      "    @ ./boot.jl:0 [inlined]\n",
      "  [6] iterate\n",
      "    @ ./generator.jl:48 [inlined]\n",
      "  [7] collect(itr::Base.Generator{UnitRange{Int64}, Graphs.var\"#147#148\"{Graphs.FloydWarshallState{Float64, Int64}}})\n",
      "    @ Base ./array.jl:791\n",
      "  [8] enumerate_paths(s::Graphs.FloydWarshallState{Float64, Int64})\n",
      "    @ Graphs ~/.julia/packages/Graphs/OIRln/src/shortestpaths/floyd-warshall.jl:101\n",
      "  [9] heal(checks::Tuple, peff::Float64, q::Float64)\n",
      "    @ Main ~/Code/single_shot/jl_notebook_cell_df34fa98e69747e1a8f8a730347b8e2f_X10sZmlsZQ==.jl:29\n",
      " [10] correct(ρ::AbstractMatrix, peff::Float64, q::Float64)\n",
      "    @ Main ~/Code/single_shot/jl_notebook_cell_df34fa98e69747e1a8f8a730347b8e2f_X12sZmlsZQ==.jl:5\n",
      " [11] circuit(L::Int64, T::Int64, p::Float64, peff::Float64, q::Float64)\n",
      "    @ Main ~/Code/single_shot/jl_notebook_cell_df34fa98e69747e1a8f8a730347b8e2f_X13sZmlsZQ==.jl:7\n",
      " [12] sample(L::Int64, T::Int64, p::Float64, peff::Float64, q::Float64, samples::Int64)\n",
      "    @ Main ~/Code/single_shot/jl_notebook_cell_df34fa98e69747e1a8f8a730347b8e2f_X13sZmlsZQ==.jl:17\n",
      " [13] eval\n",
      "    @ ./boot.jl:430 [inlined]\n",
      " [14] include_string(mapexpr::typeof(REPL.softscope), mod::Module, code::String, filename::String)\n",
      "    @ Base ./loading.jl:2734\n",
      " [15] #invokelatest#2\n",
      "    @ ./essentials.jl:1055 [inlined]\n",
      " [16] invokelatest\n",
      "    @ ./essentials.jl:1052 [inlined]\n",
      " [17] (::VSCodeServer.var\"#217#218\"{VSCodeServer.NotebookRunCellArguments, String})()\n",
      "    @ VSCodeServer ~/.vscode/extensions/julialang.language-julia-1.149.2/scripts/packages/VSCodeServer/src/serve_notebook.jl:24\n",
      " [18] withpath(f::VSCodeServer.var\"#217#218\"{VSCodeServer.NotebookRunCellArguments, String}, path::String)\n",
      "    @ VSCodeServer ~/.vscode/extensions/julialang.language-julia-1.149.2/scripts/packages/VSCodeServer/src/repl.jl:276\n",
      " [19] notebook_runcell_request(conn::VSCodeServer.JSONRPC.JSONRPCEndpoint{Base.PipeEndpoint, Base.PipeEndpoint, VSCodeServer.JSON.Serializations.StandardSerialization}, params::VSCodeServer.NotebookRunCellArguments, token::VSCodeServer.CancellationTokens.CancellationToken)\n",
      "    @ VSCodeServer ~/.vscode/extensions/julialang.language-julia-1.149.2/scripts/packages/VSCodeServer/src/serve_notebook.jl:13\n",
      " [20] dispatch_msg(x::VSCodeServer.JSONRPC.JSONRPCEndpoint{Base.PipeEndpoint, Base.PipeEndpoint, VSCodeServer.JSON.Serializations.StandardSerialization}, dispatcher::VSCodeServer.JSONRPC.MsgDispatcher, msg::VSCodeServer.JSONRPC.Request)\n",
      "    @ VSCodeServer.JSONRPC ~/.vscode/extensions/julialang.language-julia-1.149.2/scripts/packages/JSONRPC/src/typed.jl:68\n",
      " [21] serve_notebook(pipename::String, debugger_pipename::String, outputchannel_logger::Base.CoreLogging.SimpleLogger; error_handler::var\"#5#10\"{String})\n",
      "    @ VSCodeServer ~/.vscode/extensions/julialang.language-julia-1.149.2/scripts/packages/VSCodeServer/src/serve_notebook.jl:147\n",
      " [22] top-level scope\n",
      "    @ ~/.vscode/extensions/julialang.language-julia-1.149.2/scripts/notebook/notebook.jl:35"
     ]
    }
   ],
   "source": [
    "L = 8\n",
    "T = 2L\n",
    "p = 0.0\n",
    "peff = 0.01\n",
    "q = 0.1\n",
    "samples = 1\n",
    "sample(L, T, p, peff, q, samples)"
   ]
  },
  {
   "cell_type": "code",
   "execution_count": 256,
   "id": "a4f10b46",
   "metadata": {},
   "outputs": [
    {
     "data": {
      "text/plain": [
       "8-element view(::Matrix{Float64}, :, 8) with eltype Float64:\n",
       " 0.0\n",
       " 0.0\n",
       " 0.0\n",
       " 0.0\n",
       " 0.0\n",
       " 0.0\n",
       " 0.0\n",
       " 0.0"
      ]
     },
     "metadata": {},
     "output_type": "display_data"
    }
   ],
   "source": [
    "L = 8\n",
    "peff = 0.5\n",
    "q = 0.0\n",
    "ρ = initialstate(L)\n",
    "\n",
    "horizontal_checks = [0 0 0 0 0 1 0 0\n",
    "                     0 0 0 0 0 0 0 0\n",
    "                     0 0 0 0 0 0 0 0\n",
    "                     0 0 0 1 0 0 0 0\n",
    "                     0 0 1 0 0 0 0 1\n",
    "                     0 0 0 0 1 0 1 0\n",
    "                     0 1 0 1 0 0 0 0\n",
    "                     0 0 0 0 0 0 0 0]\n",
    "\n",
    "vertical_checks = [0 0 0 0 0 0 0 1\n",
    "                   0 0 0 0 0 0 0 1\n",
    "                   0 0 0 0 0 0 0 0\n",
    "                   0 0 1 0 0 0 0 0\n",
    "                   0 1 0 0 0 0 0 0\n",
    "                   0 0 0 0 0 0 0 0\n",
    "                   0 0 0 0 0 0 0 0\n",
    "                   0 0 0 0 0 0 0 0]\n",
    "\n",
    "charges = detect_charges(horizontal_checks, vertical_checks)\n",
    "g = build_matching_graph((horizontal_checks, vertical_checks), peff, q)\n",
    "fw = floyd_warshall_shortest_paths(g)\n",
    "\n",
    "horizontal_weights = weight.(peff, q, Bool.(horizontal_checks))\n",
    "horizontal_weights[end,:] .= 0\n",
    "# horizontal_weights = reshape(circshift(horizontal_weights,(0,-1))', L^2, 1)[:,1]\n",
    "\n",
    "vertical_weights = weight.(peff, q, Bool.(vertical_checks))\n",
    "vertical_weights[:,end] .= 0\n",
    "# vertical_weights = reshape(circshift(vertical_weights,(-1,0))', L^2, 1)[:,1]\n",
    "\n",
    "# match = match_charges(fw, charges, L)\n",
    "\n",
    "# horizontal_checks_healed, vertical_checks_healed = heal((horizontal_checks, vertical_checks), peff, q)\n",
    "# domain = track_domains((horizontal_checks_healed, vertical_checks_healed))\n",
    "# if magnetization(domain) > 0.5\n",
    "#     domain = .!domain\n",
    "# end\n",
    "\n",
    "# ρ_corrected = ρ .⊻ domain"
   ]
  },
  {
   "cell_type": "code",
   "execution_count": 257,
   "id": "53528770",
   "metadata": {},
   "outputs": [
    {
     "data": {
      "text/plain": [
       "8×8 Matrix{Float64}:\n",
       " Inf   Inf   Inf   Inf   Inf   Inf   Inf   Inf\n",
       " Inf   Inf   Inf   Inf   Inf   Inf   Inf   Inf\n",
       " Inf   Inf   Inf   Inf   Inf   Inf   Inf   Inf\n",
       " Inf   Inf   Inf   Inf   Inf   Inf   Inf   Inf\n",
       " Inf   Inf   Inf   Inf   Inf   Inf   Inf   Inf\n",
       " Inf   Inf   Inf   Inf   Inf   Inf   Inf   Inf\n",
       " Inf   Inf   Inf   Inf   Inf   Inf   Inf   Inf\n",
       "  0.0   0.0   0.0   0.0   0.0   0.0   0.0   0.0"
      ]
     },
     "metadata": {},
     "output_type": "display_data"
    }
   ],
   "source": [
    "horizontal_weights"
   ]
  },
  {
   "cell_type": "code",
   "execution_count": 258,
   "id": "e304a123",
   "metadata": {},
   "outputs": [
    {
     "data": {
      "text/plain": [
       "64-element Vector{Vector{Vector{Int64}}}:\n",
       " [[], [], [], [], [], [], [], [], [], []  …  [], [], [], [], [], [], [], [], [], []]\n",
       " [[], [], [], [], [], [], [], [], [], []  …  [], [], [], [], [], [], [], [], [], []]\n",
       " [[], [], [], [], [], [], [], [], [], []  …  [], [], [], [], [], [], [], [], [], []]\n",
       " [[], [], [], [], [], [], [], [], [], []  …  [], [], [], [], [], [], [], [], [], []]\n",
       " [[], [], [], [], [], [], [], [], [], []  …  [], [], [], [], [], [], [], [], [], []]\n",
       " [[], [], [], [], [], [], [], [], [], []  …  [], [], [], [], [], [], [], [], [], []]\n",
       " [[], [], [], [], [], [], [], [], [], []  …  [], [], [], [], [], [], [], [], [], []]\n",
       " [[], [], [], [], [], [], [], [], [], []  …  [], [8, 16, 24, 32, 40, 48, 56], [8, 64, 57], [8, 64, 57, 58], [8, 64, 57, 58, 59], [8, 64, 57, 58, 59, 60], [8, 64, 57, 58, 59, 60, 61], [8, 64, 57, 58, 59, 60, 61, 62], [8, 64, 63], [8, 64]]\n",
       " [[], [], [], [], [], [], [], [], [], []  …  [], [], [], [], [], [], [], [], [], []]\n",
       " [[], [], [], [], [], [], [], [], [], []  …  [], [], [], [], [], [], [], [], [], []]\n",
       " ⋮\n",
       " [[], [], [], [], [], [], [], [56, 48, 40, 32, 24, 16, 8], [], []  …  [], [], [56, 64, 57], [56, 64, 57, 58], [56, 64, 57, 58, 59], [56, 64, 57, 58, 59, 60], [56, 64, 57, 58, 59, 60, 61], [56, 64, 57, 58, 59, 60, 61, 62], [56, 64, 63], [56, 64]]\n",
       " [[], [], [], [], [], [], [], [57, 64, 8], [], []  …  [], [57, 64, 56], [], [57, 58], [57, 58, 59], [57, 58, 59, 60], [57, 58, 59, 60, 61], [57, 58, 59, 60, 61, 62], [57, 58, 59, 60, 61, 62, 63], [57, 64]]\n",
       " [[], [], [], [], [], [], [], [58, 57, 64, 8], [], []  …  [], [58, 57, 64, 56], [58, 57], [], [58, 59], [58, 59, 60], [58, 59, 60, 61], [58, 59, 60, 61, 62], [58, 59, 60, 61, 62, 63], [58, 57, 64]]\n",
       " [[], [], [], [], [], [], [], [59, 58, 57, 64, 8], [], []  …  [], [59, 58, 57, 64, 56], [59, 58, 57], [59, 58], [], [59, 60], [59, 60, 61], [59, 60, 61, 62], [59, 60, 61, 62, 63], [59, 58, 57, 64]]\n",
       " [[], [], [], [], [], [], [], [60, 59, 58, 57, 64, 8], [], []  …  [], [60, 59, 58, 57, 64, 56], [60, 59, 58, 57], [60, 59, 58], [60, 59], [], [60, 61], [60, 61, 62], [60, 61, 62, 63], [60, 59, 58, 57, 64]]\n",
       " [[], [], [], [], [], [], [], [61, 60, 59, 58, 57, 64, 8], [], []  …  [], [61, 60, 59, 58, 57, 64, 56], [61, 60, 59, 58, 57], [61, 60, 59, 58], [61, 60, 59], [61, 60], [], [61, 62], [61, 62, 63], [61, 60, 59, 58, 57, 64]]\n",
       " [[], [], [], [], [], [], [], [62, 61, 60, 59, 58, 57, 64, 8], [], []  …  [], [62, 61, 60, 59, 58, 57, 64, 56], [62, 61, 60, 59, 58, 57], [62, 61, 60, 59, 58], [62, 61, 60, 59], [62, 61, 60], [62, 61], [], [62, 63], [62, 61, 60, 59, 58, 57, 64]]\n",
       " [[], [], [], [], [], [], [], [63, 64, 8], [], []  …  [], [63, 64, 56], [63, 62, 61, 60, 59, 58, 57], [63, 62, 61, 60, 59, 58], [63, 62, 61, 60, 59], [63, 62, 61, 60], [63, 62, 61], [63, 62], [], [63, 64]]\n",
       " [[], [], [], [], [], [], [], [64, 8], [], []  …  [], [64, 56], [64, 57], [64, 57, 58], [64, 57, 58, 59], [64, 57, 58, 59, 60], [64, 57, 58, 59, 60, 61], [64, 57, 58, 59, 60, 61, 62], [64, 63], []]"
      ]
     },
     "metadata": {},
     "output_type": "display_data"
    }
   ],
   "source": [
    "enumerate_paths(fw)"
   ]
  },
  {
   "cell_type": "code",
   "execution_count": 259,
   "id": "e62db192",
   "metadata": {},
   "outputs": [
    {
     "data": {
      "text/plain": [
       "18-element Vector{Tuple{Int64, Int64}}:\n",
       " (1, 7)\n",
       " (2, 4)\n",
       " (2, 7)\n",
       " (3, 3)\n",
       " (3, 5)\n",
       " (3, 7)\n",
       " (4, 4)\n",
       " (4, 6)\n",
       " (4, 7)\n",
       " (5, 1)\n",
       " (5, 6)\n",
       " (6, 1)\n",
       " (6, 6)\n",
       " (7, 5)\n",
       " (7, 6)\n",
       " (8, 2)\n",
       " (8, 5)\n",
       " (8, 8)"
      ]
     },
     "metadata": {},
     "output_type": "display_data"
    }
   ],
   "source": [
    "L = 8\n",
    "peff = 0.5\n",
    "q = 0.1\n",
    "ρ = initialstate(L)\n",
    "\n",
    "horizontal_checks = [0 0 0 0 0 1 0 0\n",
    "                     0 0 0 0 0 0 0 0\n",
    "                     0 0 0 0 0 0 0 0\n",
    "                     0 0 0 1 0 0 0 0\n",
    "                     0 0 1 0 0 0 0 1\n",
    "                     0 0 0 0 1 0 1 0\n",
    "                     0 1 0 1 0 0 0 0\n",
    "                     0 0 0 0 0 0 0 0]\n",
    "\n",
    "vertical_checks = [0 0 0 0 0 0 0 1\n",
    "                   0 0 0 0 0 0 0 1\n",
    "                   0 0 0 0 0 0 0 0\n",
    "                   0 0 1 0 0 0 0 0\n",
    "                   0 1 0 0 0 0 0 0\n",
    "                   0 0 0 0 0 0 0 0\n",
    "                   0 0 0 0 0 0 0 0\n",
    "                   0 0 0 0 0 0 0 0]\n",
    "\n",
    "detected_charges = detect_charges(horizontal_checks, vertical_checks)"
   ]
  },
  {
   "cell_type": "code",
   "execution_count": 260,
   "id": "1c46f22a",
   "metadata": {},
   "outputs": [
    {
     "data": {
      "text/plain": [
       "16-element Vector{Tuple{Int64, Int64}}:\n",
       " (1, 7)\n",
       " (2, 4)\n",
       " (2, 7)\n",
       " (3, 3)\n",
       " (3, 5)\n",
       " (3, 7)\n",
       " (4, 4)\n",
       " (4, 6)\n",
       " (4, 7)\n",
       " (5, 1)\n",
       " (5, 6)\n",
       " (6, 1)\n",
       " (6, 6)\n",
       " (7, 5)\n",
       " (7, 6)\n",
       " (8, 5)"
      ]
     },
     "metadata": {},
     "output_type": "display_data"
    }
   ],
   "source": [
    "horizontal_checks_filtered, vertical_checks_filtered = boundary_filter((horizontal_checks, vertical_checks))\n",
    "detected_charges = detect_charges(horizontal_checks_filtered, vertical_checks_filtered)"
   ]
  },
  {
   "cell_type": "code",
   "execution_count": 261,
   "id": "8c6653e8",
   "metadata": {},
   "outputs": [
    {
     "name": "stdout",
     "output_type": "stream",
     "text": [
      "(1, 7)(2, 7)\n",
      "[((1, 7), (2, 7))]\n",
      "(2, 4)(3, 3)\n",
      "[((2, 4), (2, 3)), ((2, 3), (3, 3))]\n",
      "(3, 5)(4, 4)\n",
      "[((3, 5), (3, 4)), ((3, 4), (4, 4))]\n",
      "(3, 7)(4, 7)\n",
      "[((3, 7), (4, 7))]\n",
      "(4, 6)(5, 6)\n",
      "[((4, 6), (5, 6))]\n",
      "(5, 1)(6, 1)\n",
      "[((5, 1), (6, 1))]\n",
      "(6, 6)(7, 6)\n",
      "[((6, 6), (7, 6))]\n",
      "(7, 5)(8, 5)\n",
      "[((7, 5), (8, 5))]\n"
     ]
    }
   ],
   "source": [
    "charges = detect_charges(horizontal_checks_filtered, vertical_checks_filtered)\n",
    "\n",
    "g = build_matching_graph((horizontal_checks_filtered, vertical_checks_filtered), peff, q)\n",
    "fw = floyd_warshall_shortest_paths(g)\n",
    "match = match_charges(fw, charges, L)\n",
    "\n",
    "mated = Int[]\n",
    "\n",
    "\n",
    "for i in 1:length(charges)\n",
    "    j = match.mate[i]\n",
    "    if j in mated\n",
    "        continue\n",
    "    end\n",
    "\n",
    "    println(charges[i], charges[j])\n",
    "\n",
    "    path = enumerate_paths(fw)[site(L,charges[i]...)][site(L,charges[j]...)]\n",
    "\n",
    "    sites = unsite.(L, path)\n",
    "    steps = [((x1,y1),(x2,y2)) for ((x1,y1),(x2,y2)) in zip(sites[1:end-1], sites[2:end])]\n",
    "    println(steps)\n",
    "    # for ((x1, y1), (x2, y2)) in steps\n",
    "    #     if x1 == x2\n",
    "    #         vertical_checks[max(y1, y2), x1] ⊻= true\n",
    "    #     elseif y1 == y2\n",
    "    #         horizontal_checks[y1, max(x1, x2)] ⊻= true\n",
    "    #     end\n",
    "    # end\n",
    "\n",
    "    push!(mated, i)\n",
    "    push!(mated, j)\n",
    "end"
   ]
  },
  {
   "cell_type": "code",
   "execution_count": 262,
   "id": "9c512152",
   "metadata": {},
   "outputs": [
    {
     "data": {
      "text/plain": [
       "64-element Vector{Float64}:\n",
       " 2.197224577336219\n",
       " 2.197224577336219\n",
       " 2.197224577336219\n",
       " 0.0\n",
       " 2.197224577336219\n",
       " 2.197224577336219\n",
       " 2.197224577336219\n",
       " 2.197224577336219\n",
       " 2.197224577336219\n",
       " 2.197224577336219\n",
       " ⋮\n",
       " 2.197224577336219\n",
       " 2.197224577336219\n",
       " 2.197224577336219\n",
       " 2.197224577336219\n",
       " 0.0\n",
       " 2.197224577336219\n",
       " 2.197224577336219\n",
       " 2.197224577336219\n",
       " 2.197224577336219"
      ]
     },
     "metadata": {},
     "output_type": "display_data"
    }
   ],
   "source": [
    "    horizontal_weights = weight.(peff, q, Bool.(horizontal_checks_filtered))\n",
    "    horizontal_weights[4,:] .= 0\n",
    "    horizontal_weights = reshape(circshift(horizontal_weights,(0,-1))', L^2, 1)[:,1]\n",
    "\n",
    "    vertical_weights = weight.(peff, q, Bool.(vertical_checks_filtered))\n",
    "    vertical_weights[:,4] .= 0\n",
    "    vertical_weights = reshape(circshift(vertical_weights,(-1,0))', L^2, 1)[:,1]"
   ]
  },
  {
   "cell_type": "code",
   "execution_count": 263,
   "id": "15737d9d",
   "metadata": {},
   "outputs": [],
   "source": []
  },
  {
   "cell_type": "code",
   "execution_count": 264,
   "id": "6b75e8e5",
   "metadata": {},
   "outputs": [],
   "source": []
  },
  {
   "cell_type": "code",
   "execution_count": 265,
   "id": "19d5e40f",
   "metadata": {},
   "outputs": [
    {
     "data": {
      "text/plain": [
       "8×8 Matrix{Int64}:\n",
       " 0  0  0  0  0  0  0  1\n",
       " 0  0  0  0  0  0  0  1\n",
       " 0  0  0  0  0  0  0  0\n",
       " 0  0  0  0  0  0  0  0\n",
       " 0  0  0  0  0  0  0  0\n",
       " 0  0  0  0  0  0  0  0\n",
       " 0  0  0  0  0  0  0  0\n",
       " 0  0  0  0  0  0  0  0"
      ]
     },
     "metadata": {},
     "output_type": "display_data"
    }
   ],
   "source": [
    "vertical_checks .⊻ vertical_checks_filtered"
   ]
  },
  {
   "cell_type": "code",
   "execution_count": 266,
   "id": "f667ad5e",
   "metadata": {},
   "outputs": [
    {
     "data": {
      "text/plain": [
       "([0 0 … 0 0; 0 0 … 0 0; … ; 0 1 … 0 0; 0 0 … 0 0], [0 0 … 0 0; 0 0 … 0 0; … ; 0 0 … 0 0; 0 0 … 0 0])"
      ]
     },
     "metadata": {},
     "output_type": "display_data"
    }
   ],
   "source": [
    "\n",
    "horizontal_checks_filtered, vertical_checks_filtered = boundary_filter((horizontal_checks, vertical_checks))"
   ]
  },
  {
   "cell_type": "code",
   "execution_count": 267,
   "id": "b5c3443f",
   "metadata": {},
   "outputs": [
    {
     "data": {
      "text/plain": [
       "8×8 Matrix{Int64}:\n",
       " 0  0  0  0  0  1  0  0\n",
       " 0  0  0  0  0  0  0  0\n",
       " 0  0  0  0  0  0  0  0\n",
       " 0  0  0  1  0  0  0  0\n",
       " 0  0  1  0  0  0  0  1\n",
       " 0  0  0  0  1  0  1  0\n",
       " 0  1  0  1  0  0  0  0\n",
       " 0  0  0  0  0  0  0  0"
      ]
     },
     "metadata": {},
     "output_type": "display_data"
    }
   ],
   "source": [
    "horizontal_checks"
   ]
  },
  {
   "cell_type": "code",
   "execution_count": 268,
   "id": "d9965e35",
   "metadata": {},
   "outputs": [
    {
     "data": {
      "text/plain": [
       "16-element Vector{Tuple{Int64, Int64}}:\n",
       " (1, 7)\n",
       " (2, 4)\n",
       " (2, 7)\n",
       " (3, 3)\n",
       " (3, 5)\n",
       " (3, 7)\n",
       " (4, 4)\n",
       " (4, 6)\n",
       " (4, 7)\n",
       " (5, 1)\n",
       " (5, 6)\n",
       " (6, 1)\n",
       " (6, 6)\n",
       " (7, 5)\n",
       " (7, 6)\n",
       " (8, 5)"
      ]
     },
     "metadata": {},
     "output_type": "display_data"
    }
   ],
   "source": [
    "detected_charges = detect_charges(horizontal_checks_filtered, vertical_checks_filtered)"
   ]
  },
  {
   "cell_type": "code",
   "execution_count": 269,
   "id": "55862822",
   "metadata": {},
   "outputs": [
    {
     "data": {
      "text/plain": [
       "8×8 Matrix{Int64}:\n",
       " 0  0  0  0  1  1  0  0\n",
       " 0  0  0  0  0  0  0  1\n",
       " 0  0  1  0  0  0  0  0\n",
       " 0  1  0  1  0  0  0  0\n",
       " 0  0  1  0  0  0  1  1\n",
       " 0  0  0  1  1  1  1  0\n",
       " 1  1  1  1  0  0  0  0\n",
       " 0  0  0  0  0  0  0  1"
      ]
     },
     "metadata": {},
     "output_type": "display_data"
    }
   ],
   "source": [
    "sites = vertical_checks .⊻ horizontal_checks .⊻ circshift(vertical_checks,(-1,0)) .⊻ circshift(horizontal_checks,(0,-1))"
   ]
  },
  {
   "cell_type": "code",
   "execution_count": 270,
   "id": "ffb535e4",
   "metadata": {},
   "outputs": [
    {
     "data": {
      "text/plain": [
       "8×8 Matrix{Int64}:\n",
       " 0  0  0  0  0  0  0  1\n",
       " 0  0  0  0  0  0  0  0\n",
       " 0  0  1  0  0  0  0  0\n",
       " 0  1  0  0  0  0  0  0\n",
       " 0  0  0  0  0  0  0  0\n",
       " 0  0  0  0  0  0  0  0\n",
       " 0  0  0  0  0  0  0  0\n",
       " 0  0  0  0  0  0  0  1"
      ]
     },
     "metadata": {},
     "output_type": "display_data"
    }
   ],
   "source": [
    "circshift(vertical_checks,(-1,0))"
   ]
  },
  {
   "cell_type": "code",
   "execution_count": 271,
   "id": "274585c5",
   "metadata": {},
   "outputs": [
    {
     "data": {
      "text/plain": [
       "8×8 Matrix{Int64}:\n",
       " 0  0  0  0  1  0  0  0\n",
       " 0  0  0  0  0  0  0  0\n",
       " 0  0  0  0  0  0  0  0\n",
       " 0  0  1  0  0  0  0  0\n",
       " 0  1  0  0  0  0  1  0\n",
       " 0  0  0  1  0  1  0  0\n",
       " 1  0  1  0  0  0  0  0\n",
       " 0  0  0  0  0  0  0  0"
      ]
     },
     "metadata": {},
     "output_type": "display_data"
    }
   ],
   "source": [
    "circshift(horizontal_checks,(0,-1))"
   ]
  },
  {
   "cell_type": "code",
   "execution_count": 272,
   "id": "11aea6fe",
   "metadata": {},
   "outputs": [
    {
     "data": {
      "text/plain": [
       "8×8 Matrix{Int64}:\n",
       " 0  0  0  0  0  1  0  0\n",
       " 0  0  0  0  0  0  0  0\n",
       " 0  0  0  0  0  0  0  0\n",
       " 0  0  0  1  0  0  0  0\n",
       " 0  0  1  0  0  0  0  1\n",
       " 0  0  0  0  1  0  1  0\n",
       " 0  1  0  1  0  0  0  0\n",
       " 0  0  0  0  0  0  0  0"
      ]
     },
     "metadata": {},
     "output_type": "display_data"
    }
   ],
   "source": [
    "horizontal_checks"
   ]
  },
  {
   "cell_type": "code",
   "execution_count": 273,
   "id": "79130daf",
   "metadata": {},
   "outputs": [
    {
     "data": {
      "text/plain": [
       "8×8 Matrix{Int64}:\n",
       " 0  0  0  0  0  1  0  0\n",
       " 0  0  0  0  0  0  0  0\n",
       " 0  0  0  0  0  0  0  0\n",
       " 0  0  0  1  0  0  0  0\n",
       " 0  0  1  0  0  0  0  1\n",
       " 0  0  0  0  1  0  1  0\n",
       " 0  1  0  1  0  0  0  0\n",
       " 0  0  0  0  0  0  0  0"
      ]
     },
     "metadata": {},
     "output_type": "display_data"
    }
   ],
   "source": [
    "horizontal_checks"
   ]
  },
  {
   "cell_type": "code",
   "execution_count": 274,
   "id": "f50f6fcb",
   "metadata": {},
   "outputs": [
    {
     "data": {
      "text/plain": [
       "8×8 Matrix{Int64}:\n",
       " 0  0  0  0  0  0  0  1\n",
       " 0  0  0  0  0  0  0  1\n",
       " 0  0  0  0  0  0  0  0\n",
       " 0  0  1  0  0  0  0  0\n",
       " 0  1  0  0  0  0  0  0\n",
       " 0  0  0  0  0  0  0  0\n",
       " 0  0  0  0  0  0  0  0\n",
       " 0  0  0  0  0  0  0  0"
      ]
     },
     "metadata": {},
     "output_type": "display_data"
    }
   ],
   "source": [
    "vertical_checks"
   ]
  },
  {
   "cell_type": "code",
   "execution_count": 275,
   "id": "0fee7dfd",
   "metadata": {},
   "outputs": [
    {
     "data": {
      "text/plain": [
       "8×8 BitMatrix:\n",
       " 0  0  0  0  0  0  0  0\n",
       " 0  0  0  0  0  0  0  0\n",
       " 0  0  0  0  0  0  0  0\n",
       " 0  0  0  0  0  0  0  0\n",
       " 0  0  0  0  0  0  0  0\n",
       " 0  0  0  0  0  0  0  0\n",
       " 0  0  0  0  0  0  0  0\n",
       " 1  0  0  0  0  0  0  0"
      ]
     },
     "metadata": {},
     "output_type": "display_data"
    }
   ],
   "source": [
    "L = 8\n",
    "ρ = initialstate(L)\n",
    "ρ, horizontal_checks, vertical_checks, new_horizontal_checks, new_vertical_checks = correct(ρ, 0.5, 0.1)\n",
    "ρ"
   ]
  },
  {
   "cell_type": "code",
   "execution_count": 276,
   "id": "f0a60774",
   "metadata": {},
   "outputs": [
    {
     "data": {
      "text/plain": [
       "(Bool[0 0 … 0 0; 0 0 … 0 0; … ; 0 0 … 0 0; 0 0 … 0 0], Bool[0 0 … 0 0; 0 0 … 0 0; … ; 1 0 … 0 0; 1 0 … 0 0])"
      ]
     },
     "metadata": {},
     "output_type": "display_data"
    }
   ],
   "source": [
    "heal((horizontal_checks, vertical_checks), 0.1, 0.1)"
   ]
  },
  {
   "cell_type": "code",
   "execution_count": 277,
   "id": "6fd60395",
   "metadata": {},
   "outputs": [
    {
     "ename": "UndefVarError",
     "evalue": "UndefVarError: `test` not defined in `Main`\nSuggestion: check for spelling errors or missing imports.\nHint: a global variable of this name may be made accessible by importing Pkg in the current active module Main",
     "output_type": "error",
     "traceback": [
      "UndefVarError: `test` not defined in `Main`\n",
      "Suggestion: check for spelling errors or missing imports.\n",
      "Hint: a global variable of this name may be made accessible by importing Pkg in the current active module Main\n"
     ]
    }
   ],
   "source": [
    "test"
   ]
  },
  {
   "cell_type": "code",
   "execution_count": 278,
   "id": "0249ec48",
   "metadata": {},
   "outputs": [
    {
     "data": {
      "text/plain": [
       "8×8 BitMatrix:\n",
       " 0  0  0  0  0  0  0  0\n",
       " 0  0  0  0  0  0  0  0\n",
       " 0  0  0  0  0  0  0  0\n",
       " 0  0  0  0  0  0  0  0\n",
       " 0  0  0  0  0  0  0  0\n",
       " 0  0  0  0  0  0  1  1\n",
       " 1  0  0  0  0  0  0  0\n",
       " 1  0  0  0  0  0  0  0"
      ]
     },
     "metadata": {},
     "output_type": "display_data"
    }
   ],
   "source": [
    "new_horizontal_checks"
   ]
  },
  {
   "cell_type": "code",
   "execution_count": 279,
   "id": "87ae739c",
   "metadata": {},
   "outputs": [
    {
     "data": {
      "text/plain": [
       "20-element Vector{Tuple{Int64, Int64}}:\n",
       " (1, 1)\n",
       " (1, 4)\n",
       " (1, 5)\n",
       " (1, 7)\n",
       " (1, 8)\n",
       " (2, 4)\n",
       " (2, 5)\n",
       " (3, 1)\n",
       " (3, 5)\n",
       " (3, 6)\n",
       " (4, 2)\n",
       " (4, 4)\n",
       " (4, 6)\n",
       " (4, 7)\n",
       " (5, 2)\n",
       " (5, 4)\n",
       " (6, 4)\n",
       " (6, 5)\n",
       " (7, 6)\n",
       " (8, 6)"
      ]
     },
     "metadata": {},
     "output_type": "display_data"
    }
   ],
   "source": [
    "X, Y = boundary_filter((horizontal_checks, vertical_checks))\n",
    "detect_charges(X,Y)"
   ]
  },
  {
   "cell_type": "code",
   "execution_count": 280,
   "id": "0eba62e4",
   "metadata": {},
   "outputs": [
    {
     "data": {
      "text/plain": [
       "8×8 BitMatrix:\n",
       " 0  0  0  0  0  0  0  0\n",
       " 0  0  0  0  0  0  0  1\n",
       " 0  0  0  0  0  0  0  0\n",
       " 0  0  0  0  0  0  0  0\n",
       " 0  0  0  0  0  0  0  0\n",
       " 0  0  0  0  0  0  0  0\n",
       " 0  0  0  0  0  0  0  0\n",
       " 0  0  0  0  0  0  0  0"
      ]
     },
     "metadata": {},
     "output_type": "display_data"
    }
   ],
   "source": [
    "Y .⊻ vertical_checks"
   ]
  },
  {
   "cell_type": "code",
   "execution_count": 281,
   "id": "6a77ed0d",
   "metadata": {},
   "outputs": [
    {
     "data": {
      "text/plain": [
       "(Bool[0 0 … 0 0; 0 0 … 0 0; … ; 1 0 … 0 0; 0 1 … 0 0], Bool[0 0 … 0 0; 0 0 … 0 0; … ; 0 0 … 0 1; 1 0 … 0 0])"
      ]
     },
     "metadata": {},
     "output_type": "display_data"
    }
   ],
   "source": [
    "A, B = heal((new_horizontal_checks, new_vertical_checks), 0.5, 0.1)"
   ]
  },
  {
   "cell_type": "code",
   "execution_count": 282,
   "id": "04f9f5bb",
   "metadata": {},
   "outputs": [
    {
     "data": {
      "text/plain": [
       "8×16 BitMatrix:\n",
       " 0  0  0  0  0  0  0  0  0  0  0  0  0  0  0  0\n",
       " 0  0  0  0  0  0  0  0  0  0  0  0  0  0  0  0\n",
       " 0  0  0  0  0  0  0  0  0  0  0  0  0  0  0  0\n",
       " 0  0  0  0  0  0  0  0  0  0  0  0  0  0  0  0\n",
       " 0  0  0  0  0  0  0  0  0  0  0  0  0  0  0  0\n",
       " 0  0  0  0  0  0  1  1  0  0  0  0  0  0  0  0\n",
       " 1  0  0  0  0  0  0  0  0  0  0  0  0  0  0  1\n",
       " 0  1  1  1  1  1  0  0  1  0  0  0  0  0  0  0"
      ]
     },
     "metadata": {},
     "output_type": "display_data"
    }
   ],
   "source": [
    "[A B]"
   ]
  },
  {
   "cell_type": "code",
   "execution_count": 283,
   "id": "8584f209",
   "metadata": {},
   "outputs": [
    {
     "data": {
      "text/plain": [
       "8×16 BitMatrix:\n",
       " 0  1  1  0  0  0  0  0  0  0  0  0  0  0  0  0\n",
       " 0  0  0  0  0  0  0  0  1  0  0  0  0  0  0  0\n",
       " 1  0  0  0  0  0  0  0  1  0  0  0  0  0  0  0\n",
       " 0  0  0  0  0  0  0  0  0  0  0  0  0  0  0  0\n",
       " 0  0  0  0  0  0  0  0  0  0  0  0  0  0  0  0\n",
       " 0  0  0  0  0  0  0  0  0  0  0  0  0  0  0  0\n",
       " 0  0  0  0  0  0  0  0  0  0  0  0  0  0  0  0\n",
       " 0  0  0  0  0  0  0  0  1  0  1  0  0  0  1  0"
      ]
     },
     "metadata": {},
     "output_type": "display_data"
    }
   ],
   "source": [
    "[C D]"
   ]
  },
  {
   "cell_type": "code",
   "execution_count": 284,
   "id": "073f187e",
   "metadata": {},
   "outputs": [],
   "source": []
  },
  {
   "cell_type": "code",
   "execution_count": 285,
   "id": "6eac33fc",
   "metadata": {},
   "outputs": [
    {
     "data": {
      "text/plain": [
       "4-element Vector{Tuple{Int64, Int64}}:\n",
       " (1, 8)\n",
       " (6, 6)\n",
       " (8, 6)\n",
       " (8, 7)"
      ]
     },
     "metadata": {},
     "output_type": "display_data"
    }
   ],
   "source": [
    "C, D = boundary_filter((A, B))\n",
    "detect_charges(C, D)"
   ]
  },
  {
   "cell_type": "code",
   "execution_count": 286,
   "id": "721b5499",
   "metadata": {},
   "outputs": [
    {
     "data": {
      "text/plain": [
       "2-element Vector{Tuple{Int64, Int64}}:\n",
       " (6, 6)\n",
       " (6, 8)"
      ]
     },
     "metadata": {},
     "output_type": "display_data"
    }
   ],
   "source": [
    "detect_charges(A,B)"
   ]
  },
  {
   "cell_type": "code",
   "execution_count": 287,
   "id": "00d7c52b",
   "metadata": {},
   "outputs": [
    {
     "data": {
      "text/plain": [
       "8×16 BitMatrix:\n",
       " 0  1  1  0  0  0  0  0  0  0  0  0  0  0  0  0\n",
       " 0  0  0  0  1  0  0  0  0  0  0  0  0  0  0  1\n",
       " 0  0  0  0  0  0  0  0  0  0  0  0  0  0  0  0\n",
       " 0  0  0  0  1  0  0  0  0  0  0  0  0  0  0  0\n",
       " 0  0  0  0  0  0  0  0  1  1  0  0  0  1  0  0\n",
       " 0  0  0  0  0  0  0  1  0  0  1  0  0  0  0  0\n",
       " 0  0  0  0  0  0  0  0  0  0  0  1  0  0  0  0\n",
       " 0  0  1  0  0  0  0  0  1  0  0  0  0  0  0  0"
      ]
     },
     "metadata": {},
     "output_type": "display_data"
    }
   ],
   "source": [
    "[horizontal_checks vertical_checks]"
   ]
  },
  {
   "cell_type": "code",
   "execution_count": 288,
   "id": "77fb7c24",
   "metadata": {},
   "outputs": [
    {
     "data": {
      "text/plain": [
       "8×16 BitMatrix:\n",
       " 0  1  1  0  0  0  0  0  0  0  0  0  0  0  0  0\n",
       " 0  0  0  0  1  0  0  0  0  0  0  0  0  0  0  0\n",
       " 0  0  0  0  0  0  0  0  0  0  0  0  0  0  0  0\n",
       " 0  0  0  0  1  0  0  0  0  0  0  0  0  0  0  0\n",
       " 0  0  0  0  0  0  0  0  1  1  0  0  0  1  0  0\n",
       " 0  0  0  0  0  0  0  1  0  0  1  0  0  0  0  0\n",
       " 0  0  0  0  0  0  0  0  0  0  0  1  0  0  0  0\n",
       " 0  0  0  0  0  0  0  0  1  0  0  0  0  0  0  0"
      ]
     },
     "metadata": {},
     "output_type": "display_data"
    }
   ],
   "source": [
    "filtered1, filtered2 = boundary_filter((horizontal_checks, vertical_checks))\n",
    "[filtered1 filtered2]"
   ]
  },
  {
   "cell_type": "code",
   "execution_count": 289,
   "id": "2eab2de9",
   "metadata": {},
   "outputs": [
    {
     "data": {
      "text/plain": [
       "24-element Vector{Tuple{Int64, Int64}}:\n",
       " (1, 1)\n",
       " (1, 4)\n",
       " (1, 5)\n",
       " (1, 7)\n",
       " (1, 8)\n",
       " (2, 4)\n",
       " (2, 5)\n",
       " (2, 8)\n",
       " (3, 1)\n",
       " (3, 5)\n",
       " ⋮\n",
       " (4, 7)\n",
       " (5, 2)\n",
       " (5, 4)\n",
       " (6, 4)\n",
       " (6, 5)\n",
       " (7, 6)\n",
       " (8, 1)\n",
       " (8, 2)\n",
       " (8, 6)"
      ]
     },
     "metadata": {},
     "output_type": "display_data"
    }
   ],
   "source": [
    "detect_charges(horizontal_checks, vertical_checks)"
   ]
  },
  {
   "cell_type": "code",
   "execution_count": 290,
   "id": "8149aed7",
   "metadata": {},
   "outputs": [
    {
     "data": {
      "text/plain": [
       "20-element Vector{Tuple{Int64, Int64}}:\n",
       " (1, 1)\n",
       " (1, 4)\n",
       " (1, 5)\n",
       " (1, 7)\n",
       " (1, 8)\n",
       " (2, 4)\n",
       " (2, 5)\n",
       " (3, 1)\n",
       " (3, 5)\n",
       " (3, 6)\n",
       " (4, 2)\n",
       " (4, 4)\n",
       " (4, 6)\n",
       " (4, 7)\n",
       " (5, 2)\n",
       " (5, 4)\n",
       " (6, 4)\n",
       " (6, 5)\n",
       " (7, 6)\n",
       " (8, 6)"
      ]
     },
     "metadata": {},
     "output_type": "display_data"
    }
   ],
   "source": [
    "detect_charges(filtered1, filtered2)"
   ]
  },
  {
   "cell_type": "code",
   "execution_count": 291,
   "id": "1e52ab4c",
   "metadata": {},
   "outputs": [
    {
     "data": {
      "text/plain": [
       "8×16 BitMatrix:\n",
       " 0  0  0  0  0  0  0  0  0  0  0  0  0  0  0  1\n",
       " 0  0  0  0  0  0  0  0  0  0  0  0  0  0  0  1\n",
       " 0  0  0  0  0  0  0  0  0  0  0  0  0  0  0  1\n",
       " 0  0  0  0  0  0  0  0  0  0  0  0  0  0  0  1\n",
       " 0  0  0  0  0  0  0  0  0  0  0  0  0  0  0  1\n",
       " 0  0  0  0  0  0  1  1  0  0  0  0  0  0  0  1\n",
       " 1  0  0  0  0  0  0  0  0  0  0  0  0  0  0  1\n",
       " 1  0  0  0  0  0  0  0  1  0  0  0  0  0  0  0"
      ]
     },
     "metadata": {},
     "output_type": "display_data"
    }
   ],
   "source": [
    "[new_horizontal_checks new_vertical_checks]"
   ]
  },
  {
   "cell_type": "code",
   "execution_count": 292,
   "id": "45b20507",
   "metadata": {},
   "outputs": [
    {
     "data": {
      "text/plain": [
       "20-element Vector{Tuple{Int64, Int64}}:\n",
       " (1, 1)\n",
       " (1, 4)\n",
       " (1, 5)\n",
       " (1, 7)\n",
       " (1, 8)\n",
       " (2, 4)\n",
       " (2, 5)\n",
       " (3, 1)\n",
       " (3, 5)\n",
       " (3, 6)\n",
       " (4, 2)\n",
       " (4, 4)\n",
       " (4, 6)\n",
       " (4, 7)\n",
       " (5, 2)\n",
       " (5, 4)\n",
       " (6, 4)\n",
       " (6, 5)\n",
       " (7, 6)\n",
       " (8, 6)"
      ]
     },
     "metadata": {},
     "output_type": "display_data"
    }
   ],
   "source": [
    "detect_charges(boundary_filter((horizontal_checks, vertical_checks))...)"
   ]
  },
  {
   "cell_type": "code",
   "execution_count": 293,
   "id": "108b58f5",
   "metadata": {},
   "outputs": [],
   "source": []
  },
  {
   "cell_type": "code",
   "execution_count": 294,
   "id": "2f960b9b",
   "metadata": {},
   "outputs": [
    {
     "data": {
      "text/plain": [
       "8×8 BitMatrix:\n",
       " 0  0  0  0  0  0  0  0\n",
       " 0  0  0  0  0  0  0  0\n",
       " 0  0  0  0  0  0  0  0\n",
       " 0  0  0  0  0  0  0  0\n",
       " 0  0  0  0  0  0  0  0\n",
       " 0  0  0  0  0  0  0  0\n",
       " 0  0  0  0  0  0  0  1\n",
       " 1  0  0  0  0  0  0  0"
      ]
     },
     "metadata": {},
     "output_type": "display_data"
    }
   ],
   "source": [
    "B"
   ]
  },
  {
   "cell_type": "code",
   "execution_count": 295,
   "id": "b3ca3ddb",
   "metadata": {},
   "outputs": [
    {
     "data": {
      "text/plain": [
       "2-element Vector{Tuple{Int64, Int64}}:\n",
       " (6, 6)\n",
       " (8, 6)"
      ]
     },
     "metadata": {},
     "output_type": "display_data"
    }
   ],
   "source": [
    "A, B = heal((horizontal_checks, vertical_checks), 0.5,0.1)\n",
    "detect_charges(A,B)"
   ]
  },
  {
   "cell_type": "code",
   "execution_count": 296,
   "id": "29f96cce",
   "metadata": {},
   "outputs": [
    {
     "data": {
      "text/plain": [
       "2-element Vector{Tuple{Int64, Int64}}:\n",
       " (6, 6)\n",
       " (8, 6)"
      ]
     },
     "metadata": {},
     "output_type": "display_data"
    }
   ],
   "source": [
    "detect_charges(A,B)"
   ]
  },
  {
   "cell_type": "code",
   "execution_count": 297,
   "id": "ac9041b1",
   "metadata": {},
   "outputs": [
    {
     "data": {
      "text/plain": [
       "2-element Vector{Tuple{Int64, Int64}}:\n",
       " (6, 6)\n",
       " (6, 8)"
      ]
     },
     "metadata": {},
     "output_type": "display_data"
    }
   ],
   "source": [
    "A, B = heal((A,B), 0.5,0.1)\n",
    "detect_charges(A,B)"
   ]
  },
  {
   "cell_type": "code",
   "execution_count": 298,
   "id": "e13c4d64",
   "metadata": {},
   "outputs": [
    {
     "data": {
      "text/plain": [
       "2-element Vector{Tuple{Int64, Int64}}:\n",
       " (6, 6)\n",
       " (8, 6)"
      ]
     },
     "metadata": {},
     "output_type": "display_data"
    }
   ],
   "source": [
    "detect_charges(horizontal_checks, vertical_checks)\n",
    "detect_charges(new_horizontal_checks, new_vertical_checks)"
   ]
  },
  {
   "cell_type": "code",
   "execution_count": 299,
   "id": "06454b46",
   "metadata": {},
   "outputs": [
    {
     "data": {
      "text/plain": [
       "0.09375"
      ]
     },
     "metadata": {},
     "output_type": "display_data"
    }
   ],
   "source": [
    "sum(sum([new_horizontal_checks, new_vertical_checks]))/2/L^2"
   ]
  },
  {
   "cell_type": "code",
   "execution_count": 300,
   "id": "23da4124",
   "metadata": {},
   "outputs": [
    {
     "data": {
      "text/plain": [
       "2-element Vector{Tuple{Int64, Int64}}:\n",
       " (4, 2)\n",
       " (4, 3)"
      ]
     },
     "metadata": {},
     "output_type": "display_data"
    }
   ],
   "source": [
    "peff = 0.4\n",
    "q = 0.1\n",
    "\n",
    "horizontal_checks = [0 0 0 0 \n",
    "                     0 0 0 1\n",
    "                     0 0 0 1\n",
    "                     0 0 0 0]\n",
    "\n",
    "vertical_checks = [0 0 0 0\n",
    "                   0 0 0 0\n",
    "                   0 0 1 0\n",
    "                   0 0 0 0]\n",
    "\n",
    "detect_charges(horizontal_checks, vertical_checks)\n",
    "\n"
   ]
  },
  {
   "cell_type": "code",
   "execution_count": 301,
   "id": "03894e67",
   "metadata": {},
   "outputs": [],
   "source": []
  },
  {
   "cell_type": "code",
   "execution_count": 302,
   "id": "096d0c5c",
   "metadata": {},
   "outputs": [
    {
     "data": {
      "text/plain": [
       "4×4 Matrix{Tuple{Int64, Int64}}:\n",
       " (1, 1)  (1, 2)  (1, 3)  (1, 4)\n",
       " (2, 1)  (2, 2)  (2, 3)  (2, 4)\n",
       " (3, 1)  (3, 2)  (3, 3)  (3, 4)\n",
       " (4, 1)  (4, 2)  (4, 3)  (4, 4)"
      ]
     },
     "metadata": {},
     "output_type": "display_data"
    }
   ],
   "source": [
    "[(i,j) for i in 1:4, j in 1:4]"
   ]
  },
  {
   "cell_type": "code",
   "execution_count": 303,
   "id": "0f8b15f0",
   "metadata": {},
   "outputs": [
    {
     "data": {
      "text/plain": [
       "4×4 Matrix{Int64}:\n",
       " 1  5   9  13\n",
       " 2  6  10  14\n",
       " 3  7  11  15\n",
       " 4  8  12  16"
      ]
     },
     "metadata": {},
     "output_type": "display_data"
    }
   ],
   "source": [
    "[site(4,i,j) for i in 1:4, j in 1:4]"
   ]
  },
  {
   "cell_type": "code",
   "execution_count": 304,
   "id": "58aeca49",
   "metadata": {},
   "outputs": [
    {
     "data": {
      "text/plain": [
       "4×4 Matrix{Tuple{Int64, Int64}}:\n",
       " (1, 1)  (1, 2)  (1, 3)  (1, 4)\n",
       " (2, 1)  (2, 2)  (2, 3)  (2, 4)\n",
       " (3, 1)  (3, 2)  (3, 3)  (3, 4)\n",
       " (4, 1)  (4, 2)  (4, 3)  (4, 4)"
      ]
     },
     "metadata": {},
     "output_type": "display_data"
    }
   ],
   "source": [
    "unsite.(4,[site(4,i,j) for i in 1:4, j in 1:4])"
   ]
  },
  {
   "cell_type": "code",
   "execution_count": 305,
   "id": "12e68aba",
   "metadata": {},
   "outputs": [
    {
     "data": {
      "text/plain": [
       "4-element Vector{Tuple{Int64, Int64}}:\n",
       " (2, 1)\n",
       " (2, 2)\n",
       " (3, 4)\n",
       " (4, 3)"
      ]
     },
     "metadata": {},
     "output_type": "display_data"
    }
   ],
   "source": [
    "peff = 0.4\n",
    "q = 0.1\n",
    "\n",
    "horizontal_checks = [0 1 0 0 \n",
    "                     0 1 0 0\n",
    "                     0 0 0 0\n",
    "                     0 0 0 1]\n",
    "\n",
    "vertical_checks = [0 0 0 0\n",
    "                   1 0 0 0\n",
    "                   0 0 0 0\n",
    "                   0 0 0 1]\n",
    "\n",
    "detect_charges(horizontal_checks, vertical_checks)\n",
    "\n"
   ]
  },
  {
   "cell_type": "code",
   "execution_count": 306,
   "id": "12b1375b",
   "metadata": {},
   "outputs": [
    {
     "data": {
      "text/plain": [
       "Tuple{Int64, Int64}[]"
      ]
     },
     "metadata": {},
     "output_type": "display_data"
    }
   ],
   "source": [
    "new_horizontal_checks, new_vertical_checks = heal((horizontal_checks, vertical_checks), peff, q)\n",
    "detect_charges(new_horizontal_checks, new_vertical_checks)"
   ]
  },
  {
   "cell_type": "code",
   "execution_count": 307,
   "id": "88991d4b",
   "metadata": {},
   "outputs": [
    {
     "data": {
      "text/plain": [
       "4×8 Matrix{Int64}:\n",
       " 0  1  0  0  0  0  0  0\n",
       " 0  1  0  0  1  1  0  0\n",
       " 0  0  0  0  0  0  0  0\n",
       " 0  0  0  0  0  0  0  0"
      ]
     },
     "metadata": {},
     "output_type": "display_data"
    }
   ],
   "source": [
    "[new_horizontal_checks new_vertical_checks]"
   ]
  },
  {
   "cell_type": "code",
   "execution_count": 308,
   "id": "3e23991a",
   "metadata": {},
   "outputs": [
    {
     "data": {
      "text/plain": [
       "true"
      ]
     },
     "metadata": {},
     "output_type": "display_data"
    }
   ],
   "source": [
    "measure(track_domains((new_horizontal_checks, new_vertical_checks)),0.0) ==(new_horizontal_checks, new_vertical_checks) "
   ]
  },
  {
   "cell_type": "code",
   "execution_count": 309,
   "id": "00fbae03",
   "metadata": {},
   "outputs": [
    {
     "data": {
      "text/plain": [
       "4×4 Matrix{Int64}:\n",
       " 0  1  0  0\n",
       " 0  1  0  0\n",
       " 0  0  0  0\n",
       " 0  0  0  0"
      ]
     },
     "metadata": {},
     "output_type": "display_data"
    }
   ],
   "source": [
    "new_horizontal_checks"
   ]
  },
  {
   "cell_type": "code",
   "execution_count": 310,
   "id": "abd7e087",
   "metadata": {},
   "outputs": [
    {
     "data": {
      "text/plain": [
       "4×4 Matrix{Int64}:\n",
       " 0  1  0  0\n",
       " 0  1  0  0\n",
       " 0  0  0  0\n",
       " 0  0  0  1"
      ]
     },
     "metadata": {},
     "output_type": "display_data"
    }
   ],
   "source": [
    "horizontal_checks"
   ]
  },
  {
   "cell_type": "code",
   "execution_count": 311,
   "id": "cf8ab29b",
   "metadata": {},
   "outputs": [
    {
     "data": {
      "text/plain": [
       "4×4 Matrix{Int64}:\n",
       " 0  0  0  0\n",
       " 1  1  0  0\n",
       " 0  0  0  0\n",
       " 0  0  0  0"
      ]
     },
     "metadata": {},
     "output_type": "display_data"
    }
   ],
   "source": [
    "new_vertical_checks"
   ]
  },
  {
   "cell_type": "code",
   "execution_count": 312,
   "id": "c51f7c16",
   "metadata": {},
   "outputs": [
    {
     "data": {
      "text/plain": [
       "4×4 Matrix{Int64}:\n",
       " 0  0  0  0\n",
       " 1  0  0  0\n",
       " 0  0  0  0\n",
       " 0  0  0  1"
      ]
     },
     "metadata": {},
     "output_type": "display_data"
    }
   ],
   "source": [
    "vertical_checks"
   ]
  },
  {
   "cell_type": "code",
   "execution_count": 313,
   "id": "d671ee23",
   "metadata": {},
   "outputs": [
    {
     "data": {
      "text/plain": [
       "MatchingResult{Float64}(2.6026896854443833, [2, 1, 4, 3])"
      ]
     },
     "metadata": {},
     "output_type": "display_data"
    }
   ],
   "source": [
    "peff = 0.4\n",
    "q = 0.1\n",
    "L = 4\n",
    "charges = detect_charges(horizontal_checks, vertical_checks)\n",
    "g = build_matching_graph((horizontal_checks, vertical_checks), peff, q)\n",
    "fw = floyd_warshall_shortest_paths(g)\n",
    "match = match_charges(fw, charges, L)"
   ]
  },
  {
   "cell_type": "code",
   "execution_count": 314,
   "id": "05a560d7",
   "metadata": {},
   "outputs": [
    {
     "data": {
      "text/plain": [
       "2-element Vector{Int64}:\n",
       " 2\n",
       " 6"
      ]
     },
     "metadata": {},
     "output_type": "display_data"
    }
   ],
   "source": [
    "enumerate_paths(fw)[site(L,charges[1]...)][site(L,charges[match.mate[1]]...)]"
   ]
  },
  {
   "cell_type": "code",
   "execution_count": 315,
   "id": "3bbe4cc2",
   "metadata": {},
   "outputs": [
    {
     "data": {
      "text/plain": [
       "2.6026896854443833"
      ]
     },
     "metadata": {},
     "output_type": "display_data"
    }
   ],
   "source": [
    "fw.dists[site(4,2,1),site(4,2,2)]"
   ]
  },
  {
   "cell_type": "code",
   "execution_count": 316,
   "id": "eace2dd1",
   "metadata": {},
   "outputs": [],
   "source": []
  },
  {
   "cell_type": "code",
   "execution_count": 317,
   "id": "2654b321",
   "metadata": {},
   "outputs": [
    {
     "data": {
      "text/plain": [
       "4×4 Matrix{Int64}:\n",
       " 0  0  0  0\n",
       " 1  0  0  0\n",
       " 0  0  0  0\n",
       " 0  0  0  1"
      ]
     },
     "metadata": {},
     "output_type": "display_data"
    }
   ],
   "source": [
    "vertical_checks"
   ]
  },
  {
   "cell_type": "code",
   "execution_count": 318,
   "id": "233cfc7c",
   "metadata": {},
   "outputs": [
    {
     "ename": "UndefVarError",
     "evalue": "UndefVarError: `build_tomography_graph` not defined in `Main`\nSuggestion: check for spelling errors or missing imports.",
     "output_type": "error",
     "traceback": [
      "UndefVarError: `build_tomography_graph` not defined in `Main`\n",
      "Suggestion: check for spelling errors or missing imports.\n",
      "\n",
      "Stacktrace:\n",
      " [1] top-level scope\n",
      "   @ ~/Code/single_shot/jl_notebook_cell_df34fa98e69747e1a8f8a730347b8e2f_Y136sZmlsZQ==.jl:1"
     ]
    }
   ],
   "source": [
    "build_tomography_graph((horizontal_checks, vertical_checks), 0.1, 0.1)"
   ]
  },
  {
   "cell_type": "code",
   "execution_count": 319,
   "id": "fed6418f",
   "metadata": {},
   "outputs": [
    {
     "data": {
      "text/plain": [
       "4-element Vector{Int64}:\n",
       " 13\n",
       " 14\n",
       " 15\n",
       " 16"
      ]
     },
     "metadata": {},
     "output_type": "display_data"
    }
   ],
   "source": [
    "(reshape(collect(1:16), (4,4))')[4,:]"
   ]
  },
  {
   "cell_type": "code",
   "execution_count": 320,
   "id": "7f48b7a9",
   "metadata": {},
   "outputs": [
    {
     "data": {
      "text/plain": [
       "4×4 Matrix{Int64}:\n",
       " 0  0  0  0\n",
       " 1  0  0  0\n",
       " 0  0  0  0\n",
       " 0  0  0  1"
      ]
     },
     "metadata": {},
     "output_type": "display_data"
    }
   ],
   "source": [
    "vertical_checks"
   ]
  },
  {
   "cell_type": "code",
   "execution_count": 321,
   "id": "a22ce0c8",
   "metadata": {},
   "outputs": [
    {
     "data": {
      "text/plain": [
       "4×4 Matrix{Int64}:\n",
       " 1  0  0  0\n",
       " 0  0  0  0\n",
       " 0  0  0  1\n",
       " 0  0  0  0"
      ]
     },
     "metadata": {},
     "output_type": "display_data"
    }
   ],
   "source": [
    "circshift(vertical_checks,(-1,0))"
   ]
  },
  {
   "cell_type": "code",
   "execution_count": 322,
   "id": "e8c3f97f",
   "metadata": {},
   "outputs": [
    {
     "data": {
      "text/plain": [
       "16-element Vector{Int64}:\n",
       " 1\n",
       " 0\n",
       " 0\n",
       " 0\n",
       " 1\n",
       " 0\n",
       " 0\n",
       " 0\n",
       " 0\n",
       " 0\n",
       " 0\n",
       " 0\n",
       " 0\n",
       " 0\n",
       " 1\n",
       " 0"
      ]
     },
     "metadata": {},
     "output_type": "display_data"
    }
   ],
   "source": [
    "reshape(circshift(horizontal_checks,(0,-1))', L^2, 1)[:,1]"
   ]
  },
  {
   "cell_type": "code",
   "execution_count": 323,
   "id": "c25cf5c4",
   "metadata": {},
   "outputs": [
    {
     "data": {
      "text/plain": [
       "16-element Vector{Int64}:\n",
       "  1\n",
       "  2\n",
       "  3\n",
       "  4\n",
       "  5\n",
       "  6\n",
       "  7\n",
       "  8\n",
       "  9\n",
       " 10\n",
       " 11\n",
       " 12\n",
       " 13\n",
       " 14\n",
       " 15\n",
       " 16"
      ]
     },
     "metadata": {},
     "output_type": "display_data"
    }
   ],
   "source": [
    "L = 4\n",
    "sources = [site(L,x,y) for y in 1:L for x in 1:L]\n",
    "horizontal_destinations = [site(L,x+1,y) for y in 1:L for x in 1:L]\n",
    "vertical_destinations = [site(L,x,y+1) for y in 1:L for x in 1:L]\n",
    "\n",
    "sources"
   ]
  },
  {
   "cell_type": "code",
   "execution_count": 324,
   "id": "b2b61373",
   "metadata": {},
   "outputs": [
    {
     "data": {
      "text/plain": [
       "6-element Vector{Tuple{Int64, Int64}}:\n",
       " (1, 2)\n",
       " (2, 2)\n",
       " (2, 4)\n",
       " (3, 4)\n",
       " (4, 2)\n",
       " (4, 3)"
      ]
     },
     "metadata": {},
     "output_type": "display_data"
    }
   ],
   "source": [
    "detect_charges(vertical_checks, horizontal_checks)"
   ]
  },
  {
   "cell_type": "code",
   "execution_count": 325,
   "id": "7fec6437",
   "metadata": {},
   "outputs": [
    {
     "data": {
      "text/plain": [
       "4-element Vector{Tuple{Int64, Int64}}:\n",
       " (2, 1)\n",
       " (2, 2)\n",
       " (4, 3)\n",
       " (4, 4)"
      ]
     },
     "metadata": {},
     "output_type": "display_data"
    }
   ],
   "source": [
    "ρ = [0 0 0 0;\n",
    "     0 0 0 0;\n",
    "     0 1 0 0;\n",
    "     0 1 0 0]\n",
    "\n",
    "horizontal_checks, vertical_checks = measure(Bool.(ρ), 0.0)\n",
    "detect_charges(vertical_checks, horizontal_checks)"
   ]
  },
  {
   "cell_type": "code",
   "execution_count": 326,
   "id": "a5d5287d",
   "metadata": {},
   "outputs": [
    {
     "data": {
      "text/plain": [
       "4×4 BitMatrix:\n",
       " 0  0  0  0\n",
       " 0  0  0  0\n",
       " 1  1  0  0\n",
       " 1  1  0  0"
      ]
     },
     "metadata": {},
     "output_type": "display_data"
    }
   ],
   "source": [
    "\n",
    "vertical_checks"
   ]
  },
  {
   "cell_type": "code",
   "execution_count": 327,
   "id": "03ed4aab",
   "metadata": {},
   "outputs": [],
   "source": []
  },
  {
   "cell_type": "code",
   "execution_count": 370,
   "id": "e5f85af3",
   "metadata": {},
   "outputs": [
    {
     "data": {
      "text/plain": [
       "linear_balanced_path (generic function with 1 method)"
      ]
     },
     "metadata": {},
     "output_type": "display_data"
    }
   ],
   "source": [
    "function linear_balanced_path(dx::Int, dy::Int; X=:X, Y=:Y)\n",
    "    q, r = divrem(dx, dy + 1)                # distribute dx X's into dy+1 bins\n",
    "    steps = Symbol[]\n",
    "    for i in 1:dy+1\n",
    "        append!(steps, fill(X, q + (i <= r ? 1 : 0)))\n",
    "        if i <= dy\n",
    "            push!(steps, Y)\n",
    "        end\n",
    "    end\n",
    "    steps\n",
    "end"
   ]
  },
  {
   "cell_type": "code",
   "execution_count": 375,
   "id": "001baff7",
   "metadata": {},
   "outputs": [
    {
     "data": {
      "text/plain": [
       "12-element Vector{Symbol}:\n",
       " :Y\n",
       " :Y\n",
       " :Y\n",
       " :Y\n",
       " :X\n",
       " :Y\n",
       " :Y\n",
       " :Y\n",
       " :X\n",
       " :Y\n",
       " :Y\n",
       " :Y"
      ]
     },
     "metadata": {},
     "output_type": "display_data"
    }
   ],
   "source": [
    "linear_balanced_path(10, 2; X=:Y, Y=:X)"
   ]
  },
  {
   "cell_type": "code",
   "execution_count": 377,
   "id": "b54fc950",
   "metadata": {},
   "outputs": [
    {
     "data": {
      "text/plain": [
       "12-element Vector{Symbol}:\n",
       " :X\n",
       " :X\n",
       " :X\n",
       " :X\n",
       " :Y\n",
       " :X\n",
       " :X\n",
       " :X\n",
       " :Y\n",
       " :X\n",
       " :X\n",
       " :X"
      ]
     },
     "metadata": {},
     "output_type": "display_data"
    }
   ],
   "source": [
    "linear_balanced_path(10, 2)"
   ]
  },
  {
   "cell_type": "code",
   "execution_count": null,
   "id": "40eb0cda",
   "metadata": {},
   "outputs": [],
   "source": []
  }
 ],
 "metadata": {
  "kernelspec": {
   "display_name": "Julia 1.11.6",
   "language": "julia",
   "name": "julia-1.11"
  },
  "language_info": {
   "file_extension": ".jl",
   "mimetype": "application/julia",
   "name": "julia",
   "version": "1.11.6"
  }
 },
 "nbformat": 4,
 "nbformat_minor": 5
}
